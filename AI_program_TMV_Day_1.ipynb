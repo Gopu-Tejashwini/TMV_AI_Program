{
  "cells": [
    {
      "cell_type": "code",
      "execution_count": null,
      "metadata": {
        "colab": {
          "base_uri": "https://localhost:8080/"
        },
        "id": "GRBH2mN_QaOp",
        "outputId": "046180bf-8e10-4ebb-f239-bec59af5dff9"
      },
      "outputs": [
        {
          "name": "stdout",
          "output_type": "stream",
          "text": [
            "0 even\n",
            "1 odd\n",
            "2 even\n",
            "3 odd\n",
            "4 even\n",
            "5 odd\n",
            "6 even\n",
            "7 odd\n",
            "8 even\n",
            "9 odd\n",
            "10 even\n",
            "11 odd\n",
            "12 even\n",
            "13 odd\n",
            "14 even\n",
            "15 odd\n",
            "16 even\n",
            "17 odd\n",
            "18 even\n",
            "19 odd\n",
            "20 even\n",
            "21 odd\n",
            "22 even\n",
            "23 odd\n",
            "24 even\n",
            "25 odd\n",
            "26 even\n",
            "27 odd\n",
            "28 even\n",
            "29 odd\n",
            "30 even\n",
            "31 odd\n",
            "32 even\n",
            "33 odd\n",
            "34 even\n",
            "35 odd\n",
            "36 even\n",
            "37 odd\n",
            "38 even\n",
            "39 odd\n",
            "40 even\n",
            "41 odd\n",
            "42 even\n",
            "43 odd\n",
            "44 even\n",
            "45 odd\n",
            "46 even\n",
            "47 odd\n",
            "48 even\n",
            "49 odd\n",
            "50 even\n",
            "51 odd\n",
            "52 even\n",
            "53 odd\n",
            "54 even\n",
            "55 odd\n",
            "56 even\n",
            "57 odd\n",
            "58 even\n",
            "59 odd\n",
            "60 even\n",
            "61 odd\n",
            "62 even\n",
            "63 odd\n",
            "64 even\n",
            "65 odd\n",
            "66 even\n",
            "67 odd\n",
            "68 even\n",
            "69 odd\n",
            "70 even\n",
            "71 odd\n",
            "72 even\n",
            "73 odd\n",
            "74 even\n",
            "75 odd\n",
            "76 even\n",
            "77 odd\n",
            "78 even\n",
            "79 odd\n",
            "80 even\n",
            "81 odd\n",
            "82 even\n",
            "83 odd\n",
            "84 even\n",
            "85 odd\n",
            "86 even\n",
            "87 odd\n",
            "88 even\n",
            "89 odd\n",
            "90 even\n",
            "91 odd\n",
            "92 even\n",
            "93 odd\n",
            "94 even\n",
            "95 odd\n",
            "96 even\n",
            "97 odd\n",
            "98 even\n",
            "99 odd\n"
          ]
        }
      ],
      "source": [
        "for i in range(100):\n",
        "  if i%2==0:\n",
        "    print(i,\"even\")\n",
        "  else:\n",
        "    print(i,\"odd\")"
      ]
    },
    {
      "cell_type": "code",
      "execution_count": null,
      "metadata": {
        "colab": {
          "background_save": true,
          "base_uri": "https://localhost:8080/"
        },
        "id": "n5mvPSGbROQc",
        "outputId": "504bf4f4-a0e9-47e1-e1a0-f63a70ff9472"
      },
      "outputs": [
        {
          "name": "stdout",
          "output_type": "stream",
          "text": [
            "0 even\n",
            "1 odd\n",
            "2 even\n",
            "3 odd\n",
            "4 even\n",
            "5 odd\n",
            "6 even\n",
            "7 odd\n",
            "8 even\n",
            "9 odd\n",
            "10 even\n",
            "11 odd\n",
            "12 even\n",
            "13 odd\n",
            "14 even\n",
            "15 odd\n",
            "16 even\n",
            "17 odd\n",
            "18 even\n",
            "19 odd\n",
            "20 even\n",
            "21 odd\n",
            "22 even\n",
            "23 odd\n",
            "24 even\n",
            "25 odd\n",
            "26 even\n",
            "27 odd\n",
            "28 even\n",
            "29 odd\n",
            "30 even\n",
            "31 odd\n",
            "32 even\n",
            "33 odd\n",
            "34 even\n",
            "35 odd\n",
            "36 even\n",
            "37 odd\n",
            "38 even\n",
            "39 odd\n",
            "40 even\n",
            "41 odd\n",
            "42 even\n",
            "43 odd\n",
            "44 even\n",
            "45 odd\n",
            "46 even\n",
            "47 odd\n",
            "48 even\n",
            "49 odd\n"
          ]
        }
      ],
      "source": [
        "i=0\n",
        "while i<50:\n",
        "  if i%2==0:\n",
        "    print(i,\"even\")\n",
        "  else:\n",
        "    print(i,\"odd\")\n",
        "  i=i+1\n"
      ]
    },
    {
      "cell_type": "code",
      "execution_count": null,
      "metadata": {
        "colab": {
          "base_uri": "https://localhost:8080/"
        },
        "id": "cN6v7V_4SjnY",
        "outputId": "ec84ff47-a0f7-42e2-e91f-9a4a9cf7e0b7"
      },
      "outputs": [
        {
          "data": {
            "text/plain": [
              "int"
            ]
          },
          "execution_count": 1,
          "metadata": {},
          "output_type": "execute_result"
        }
      ],
      "source": [
        "z=26\n",
        "type(z)"
      ]
    },
    {
      "cell_type": "code",
      "execution_count": null,
      "metadata": {
        "id": "GYhI0a0MTCb7"
      },
      "outputs": [],
      "source": [
        "list1=[1,2,3,4]\n"
      ]
    },
    {
      "cell_type": "code",
      "execution_count": null,
      "metadata": {
        "id": "p4x0EyCLT6i5"
      },
      "outputs": [],
      "source": [
        "list1.append(5)"
      ]
    },
    {
      "cell_type": "code",
      "execution_count": null,
      "metadata": {
        "colab": {
          "base_uri": "https://localhost:8080/"
        },
        "id": "d-4DnmZuTJPz",
        "outputId": "5660be46-4902-4b4a-e674-77bd5406df8b"
      },
      "outputs": [
        {
          "data": {
            "text/plain": [
              "list"
            ]
          },
          "execution_count": 4,
          "metadata": {},
          "output_type": "execute_result"
        }
      ],
      "source": [
        "type(list1)"
      ]
    },
    {
      "cell_type": "code",
      "execution_count": null,
      "metadata": {
        "id": "_-D9JNIMTMrq"
      },
      "outputs": [],
      "source": [
        "list2=[10,\"read\",26,5.4,\"TMV\",54.8]\n",
        "#seperate the elements from the list according to their data type."
      ]
    },
    {
      "cell_type": "code",
      "execution_count": null,
      "metadata": {
        "colab": {
          "base_uri": "https://localhost:8080/"
        },
        "id": "7jBCdFFyXF_S",
        "outputId": "4288dbd4-019d-4124-c447-d66101b41b74"
      },
      "outputs": [
        {
          "name": "stdout",
          "output_type": "stream",
          "text": [
            "[10, 26] [5.4, 54.8] ['read', 'TMV']\n"
          ]
        }
      ],
      "source": [
        "intlist=[]\n",
        "strlist=[]\n",
        "floatlist=[]\n",
        "for i in list2:\n",
        "    if type(i)==str:\n",
        "        strlist.append(i)\n",
        "    elif type(i)==int:\n",
        "        intlist.append(i)\n",
        "    else:\n",
        "        floatlist.append(i)\n",
        "\n",
        "print(intlist,floatlist,strlist)\n"
      ]
    },
    {
      "cell_type": "code",
      "execution_count": null,
      "metadata": {
        "colab": {
          "base_uri": "https://localhost:8080/"
        },
        "id": "B6IIbDInXK9s",
        "outputId": "7d68182d-35fd-484b-875b-cb1e079b62fd"
      },
      "outputs": [
        {
          "name": "stdout",
          "output_type": "stream",
          "text": [
            "[10, 26] ['read', 'TMV'] [5.4, 54.8]\n"
          ]
        }
      ],
      "source": [
        "#list comprehension\n",
        "intlist=[i for i in list2 if type(i)==int]\n",
        "strlist=[i for i in list2 if type(i)==str]\n",
        "floatlist=[i for i in list2 if type(i)==float]\n",
        "print(intlist,strlist,floatlist)"
      ]
    },
    {
      "cell_type": "code",
      "execution_count": null,
      "metadata": {
        "colab": {
          "base_uri": "https://localhost:8080/"
        },
        "id": "0z35iZDSXfUS",
        "outputId": "8a4065bf-8032-46b1-8e85-5c38ed559ef8"
      },
      "outputs": [
        {
          "data": {
            "text/plain": [
              "10"
            ]
          },
          "execution_count": 10,
          "metadata": {},
          "output_type": "execute_result"
        }
      ],
      "source": [
        "list2[0]"
      ]
    },
    {
      "cell_type": "code",
      "execution_count": null,
      "metadata": {
        "colab": {
          "base_uri": "https://localhost:8080/"
        },
        "id": "9DocYt7EXfh1",
        "outputId": "bded4f63-089c-429a-a2da-f1f1b936e9cf"
      },
      "outputs": [
        {
          "data": {
            "text/plain": [
              "[10, 'read', 26, 5.4, 'TMV', 54.8]"
            ]
          },
          "execution_count": 9,
          "metadata": {},
          "output_type": "execute_result"
        }
      ],
      "source": [
        "list2[0:]"
      ]
    },
    {
      "cell_type": "code",
      "execution_count": null,
      "metadata": {
        "colab": {
          "base_uri": "https://localhost:8080/",
          "height": 36
        },
        "id": "4K3hnNebXfr5",
        "outputId": "67f246bc-f244-4ffe-8f05-86af516fb1e4"
      },
      "outputs": [
        {
          "data": {
            "application/vnd.google.colaboratory.intrinsic+json": {
              "type": "string"
            },
            "text/plain": [
              "'e'"
            ]
          },
          "execution_count": 11,
          "metadata": {},
          "output_type": "execute_result"
        }
      ],
      "source": [
        "list2[1][1]"
      ]
    },
    {
      "cell_type": "code",
      "execution_count": null,
      "metadata": {
        "id": "SAyv1pPkXfzj"
      },
      "outputs": [],
      "source": [
        "def add(x,y):\n",
        " return(x+y)"
      ]
    },
    {
      "cell_type": "code",
      "execution_count": null,
      "metadata": {
        "colab": {
          "base_uri": "https://localhost:8080/"
        },
        "id": "4wUK6qDEXf5u",
        "outputId": "ad2599d7-9c2d-4a37-d460-7f0c26ae6e51"
      },
      "outputs": [
        {
          "data": {
            "text/plain": [
              "7"
            ]
          },
          "execution_count": 90,
          "metadata": {},
          "output_type": "execute_result"
        }
      ],
      "source": [
        "add(1,6)"
      ]
    },
    {
      "cell_type": "code",
      "execution_count": null,
      "metadata": {
        "id": "J6VOC48qXf-q"
      },
      "outputs": [],
      "source": [
        "#create function that will seperate the elements of the list according to the data type.\n"
      ]
    },
    {
      "cell_type": "code",
      "execution_count": null,
      "metadata": {
        "colab": {
          "base_uri": "https://localhost:8080/"
        },
        "id": "uvfqxh2rXgF7",
        "outputId": "3502bcfc-beb8-40fb-a3ae-b4c95742d87a"
      },
      "outputs": [
        {
          "name": "stdout",
          "output_type": "stream",
          "text": [
            "([10, 26], [5.4, 54.8], ['read', 'TMV'])\n"
          ]
        }
      ],
      "source": [
        "def seperate(x):\n",
        "  intlist=[i for i in list2 if type(i) == int]\n",
        "  floatlist=[i for i in list2 if type(i) == float]\n",
        "  return(intlist,floatlist,[i for i in list2 if type(i) == str])\n",
        "y=[12,\"thr\",9.56,56]\n",
        "print(seperate(y))"
      ]
    },
    {
      "cell_type": "code",
      "execution_count": null,
      "metadata": {
        "colab": {
          "base_uri": "https://localhost:8080/"
        },
        "id": "jvnZza_qb6Xr",
        "outputId": "62db9fba-5104-4933-e990-54085774b24e"
      },
      "outputs": [
        {
          "name": "stdout",
          "output_type": "stream",
          "text": [
            "[10, 26]\n",
            "[5.4, 54.8]\n",
            "['read', 'TMV']\n"
          ]
        }
      ],
      "source": [
        "def seperate(x):\n",
        "  intlist=[i for i in list2 if type(i) == int]\n",
        "  strist=[i for i in list2 if type(i) == str]\n",
        "  floatlist=[i for i in list2 if type(i) == float]\n",
        "  return(intlist,floatlist,strlist)\n",
        "y=[12,\"thr\",9.56,56]\n",
        "sep_list=seperate(y)\n",
        "for i in sep_list:\n",
        "  print(i)"
      ]
    },
    {
      "cell_type": "code",
      "execution_count": null,
      "metadata": {
        "colab": {
          "base_uri": "https://localhost:8080/"
        },
        "id": "tYF1j5gocOr3",
        "outputId": "5944a71e-c42e-4d2f-9972-2b219596693d"
      },
      "outputs": [
        {
          "name": "stdout",
          "output_type": "stream",
          "text": [
            "55\n"
          ]
        }
      ],
      "source": [
        "#recursive function\n",
        "def recursum(n):\n",
        "  if n<=1:\n",
        "    return n\n",
        "  return n+recursum(n-1)\n",
        "n=10\n",
        "print(recursum(n))"
      ]
    },
    {
      "cell_type": "code",
      "execution_count": null,
      "metadata": {
        "colab": {
          "base_uri": "https://localhost:8080/"
        },
        "id": "uXUAQZ-scyiD",
        "outputId": "b6fdfe60-6cd5-43d2-f81e-24d71fc521e7"
      },
      "outputs": [
        {
          "name": "stdout",
          "output_type": "stream",
          "text": [
            "0\n",
            "1\n",
            "1\n",
            "2\n",
            "3\n"
          ]
        }
      ],
      "source": [
        "def recur_fib(n):\n",
        "  if n<=1:\n",
        "    return(n)\n",
        "  else:\n",
        "    return(recur_fib(n-1)+recur_fib(n-2))\n",
        "n=5\n",
        "for i in range(n):\n",
        "  print(recur_fib(i))"
      ]
    },
    {
      "cell_type": "code",
      "execution_count": null,
      "metadata": {
        "colab": {
          "base_uri": "https://localhost:8080/"
        },
        "id": "3gFt-LNScyle",
        "outputId": "a8bc6250-397a-4969-beb2-10d3b17db1f9"
      },
      "outputs": [
        {
          "name": "stdout",
          "output_type": "stream",
          "text": [
            "0\n",
            "1\n",
            "2\n",
            "3\n",
            "4\n",
            "5\n",
            "6\n",
            "7\n",
            "8\n",
            "9\n",
            "10\n",
            "11\n",
            "12\n",
            "13\n",
            "14\n",
            "15\n",
            "16\n",
            "17\n",
            "18\n",
            "19\n",
            "20\n",
            "21\n",
            "22\n",
            "23\n",
            "24\n",
            "25\n",
            "26\n",
            "27\n",
            "28\n",
            "29\n",
            "30\n",
            "31\n",
            "32\n",
            "33\n",
            "34\n",
            "35\n",
            "36\n",
            "37\n",
            "38\n",
            "39\n",
            "40\n",
            "41\n",
            "42\n",
            "43\n",
            "44\n",
            "45\n",
            "46\n",
            "47\n",
            "48\n",
            "49\n",
            "50\n",
            "51\n",
            "52\n",
            "53\n",
            "54\n",
            "55\n",
            "56\n",
            "57\n",
            "58\n",
            "59\n",
            "60\n",
            "61\n",
            "62\n",
            "63\n",
            "64\n",
            "65\n",
            "66\n",
            "67\n",
            "68\n",
            "69\n",
            "70\n",
            "71\n",
            "72\n",
            "73\n",
            "74\n",
            "75\n",
            "76\n",
            "77\n",
            "78\n",
            "79\n",
            "80\n",
            "81\n",
            "82\n",
            "83\n",
            "84\n",
            "85\n",
            "86\n",
            "87\n",
            "88\n",
            "89\n",
            "90\n",
            "91\n",
            "92\n",
            "93\n",
            "94\n",
            "95\n",
            "96\n",
            "97\n",
            "98\n",
            "99\n"
          ]
        }
      ],
      "source": [
        "#Generator function\n",
        "def gen_num(n):\n",
        "  v=0\n",
        "  while v<n:\n",
        "    yield v\n",
        "    v+=1\n",
        "for v in gen_num(100):\n",
        "  print(v)"
      ]
    },
    {
      "cell_type": "markdown",
      "metadata": {
        "id": "-32qlGvSeYK2"
      },
      "source": []
    },
    {
      "cell_type": "code",
      "execution_count": null,
      "metadata": {
        "colab": {
          "base_uri": "https://localhost:8080/"
        },
        "id": "sNxQeqZxcymY",
        "outputId": "72c34042-d836-4c37-b0cf-1877190154ae"
      },
      "outputs": [
        {
          "name": "stdout",
          "output_type": "stream",
          "text": [
            "0\n"
          ]
        }
      ],
      "source": [
        "print(next(gen_num(3)))"
      ]
    },
    {
      "cell_type": "code",
      "execution_count": null,
      "metadata": {
        "colab": {
          "base_uri": "https://localhost:8080/"
        },
        "id": "PGf4j49mcynf",
        "outputId": "7fa7aa0c-1753-4710-d69c-400bc08d191a"
      },
      "outputs": [
        {
          "name": "stdout",
          "output_type": "stream",
          "text": [
            "0\n"
          ]
        }
      ],
      "source": [
        "value=gen_num(3)\n",
        "print(next(value))"
      ]
    },
    {
      "cell_type": "code",
      "execution_count": null,
      "metadata": {
        "colab": {
          "base_uri": "https://localhost:8080/"
        },
        "id": "mWIdq_GYcypM",
        "outputId": "5dc2fc42-93db-4843-9021-8ce6293f0635"
      },
      "outputs": [
        {
          "name": "stdout",
          "output_type": "stream",
          "text": [
            "1\n"
          ]
        }
      ],
      "source": [
        "print(next(value))"
      ]
    },
    {
      "cell_type": "code",
      "execution_count": null,
      "metadata": {
        "id": "FZhhdx48cyqv"
      },
      "outputs": [],
      "source": [
        "dict1={\"Jay\":[1998,\"Hyderabad\"],\"Prajyot\":[1995,\"Hyderabad\"],\"Sudhil\":[1989,\"Delhi\"],\"Sonu\":[1987,\"Kochi\"]}"
      ]
    },
    {
      "cell_type": "code",
      "execution_count": null,
      "metadata": {
        "colab": {
          "base_uri": "https://localhost:8080/"
        },
        "id": "Spyr3kLMcysR",
        "outputId": "5397b548-a65a-43f6-d731-6c8f68589acb"
      },
      "outputs": [
        {
          "data": {
            "text/plain": [
              "dict"
            ]
          },
          "execution_count": 25,
          "metadata": {},
          "output_type": "execute_result"
        }
      ],
      "source": [
        "type(dict1)"
      ]
    },
    {
      "cell_type": "code",
      "execution_count": null,
      "metadata": {
        "colab": {
          "base_uri": "https://localhost:8080/"
        },
        "id": "BfO4SCrHcytf",
        "outputId": "e8ff9a9a-43ec-41ed-8b83-fa3e63a1d18c"
      },
      "outputs": [
        {
          "data": {
            "text/plain": [
              "[1998, 'Hyderabad']"
            ]
          },
          "execution_count": 26,
          "metadata": {},
          "output_type": "execute_result"
        }
      ],
      "source": [
        "dict1[\"Jay\"]"
      ]
    },
    {
      "cell_type": "code",
      "execution_count": null,
      "metadata": {
        "colab": {
          "base_uri": "https://localhost:8080/"
        },
        "id": "0Wz_QoXrcyu1",
        "outputId": "cbc6e1eb-a181-4be1-f655-3dbc403b507a"
      },
      "outputs": [
        {
          "name": "stdout",
          "output_type": "stream",
          "text": [
            "Jay\n",
            "Prajyot\n",
            "Sudhil\n",
            "Sonu\n"
          ]
        }
      ],
      "source": [
        "#how many lists values are present in the dict1?\n",
        "for i in dict1.keys():\n",
        "  print(i)"
      ]
    },
    {
      "cell_type": "code",
      "execution_count": null,
      "metadata": {
        "colab": {
          "base_uri": "https://localhost:8080/"
        },
        "id": "CItJWlOacyzk",
        "outputId": "6b5f6ebd-c2b1-481b-e9f4-f6a19d82380b"
      },
      "outputs": [
        {
          "data": {
            "text/plain": [
              "4"
            ]
          },
          "execution_count": 28,
          "metadata": {},
          "output_type": "execute_result"
        }
      ],
      "source": [
        "#how many lists values are present in the dict1?\n",
        "count=0\n",
        "for i in dict1.keys():\n",
        "    if type(dict1[i])==list:\n",
        "        count=count+1\n",
        "count"
      ]
    },
    {
      "cell_type": "code",
      "execution_count": null,
      "metadata": {
        "colab": {
          "base_uri": "https://localhost:8080/"
        },
        "id": "vlL_IBJYpMJd",
        "outputId": "f05035c1-adbd-4ba0-95f9-9f750ff4ae9f"
      },
      "outputs": [
        {
          "name": "stdout",
          "output_type": "stream",
          "text": [
            "Your code has error.\n"
          ]
        }
      ],
      "source": [
        "#error handling\n",
        "x=50\n",
        "y=0\n",
        "try:\n",
        "  x/y\n",
        "except:\n",
        "  print(\"Your code has error.\")"
      ]
    },
    {
      "cell_type": "code",
      "execution_count": null,
      "metadata": {
        "colab": {
          "base_uri": "https://localhost:8080/"
        },
        "id": "TxrP9zdDpMiA",
        "outputId": "1075814b-71a3-44fc-82f9-7dd5a0d77a31"
      },
      "outputs": [
        {
          "name": "stdout",
          "output_type": "stream",
          "text": [
            "Your code has error.\n"
          ]
        }
      ],
      "source": [
        "#error handling\n",
        "x=50\n",
        "y=0\n",
        "try:\n",
        "  x/y\n",
        "except ZeroDivisionError:\n",
        "  print(\"Your code has error.\")"
      ]
    },
    {
      "cell_type": "code",
      "execution_count": null,
      "metadata": {
        "colab": {
          "base_uri": "https://localhost:8080/",
          "height": 211
        },
        "id": "7ta5MbJLpMzq",
        "outputId": "9a169e60-4ca1-4108-ca87-7b7d81ee45cf"
      },
      "outputs": [
        {
          "ename": "ZeroDivisionError",
          "evalue": "division by zero",
          "output_type": "error",
          "traceback": [
            "\u001b[0;31m---------------------------------------------------------------------------\u001b[0m",
            "\u001b[0;31mZeroDivisionError\u001b[0m                         Traceback (most recent call last)",
            "\u001b[0;32m<ipython-input-31-1c0643c1edbd>\u001b[0m in \u001b[0;36m<cell line: 4>\u001b[0;34m()\u001b[0m\n\u001b[1;32m      3\u001b[0m \u001b[0my\u001b[0m\u001b[0;34m=\u001b[0m\u001b[0;36m0\u001b[0m\u001b[0;34m\u001b[0m\u001b[0;34m\u001b[0m\u001b[0m\n\u001b[1;32m      4\u001b[0m \u001b[0;32mtry\u001b[0m\u001b[0;34m:\u001b[0m\u001b[0;34m\u001b[0m\u001b[0;34m\u001b[0m\u001b[0m\n\u001b[0;32m----> 5\u001b[0;31m   \u001b[0mx\u001b[0m\u001b[0;34m/\u001b[0m\u001b[0my\u001b[0m\u001b[0;34m\u001b[0m\u001b[0;34m\u001b[0m\u001b[0m\n\u001b[0m\u001b[1;32m      6\u001b[0m \u001b[0;32mexcept\u001b[0m \u001b[0mAttributeError\u001b[0m\u001b[0;34m:\u001b[0m\u001b[0;34m\u001b[0m\u001b[0;34m\u001b[0m\u001b[0m\n\u001b[1;32m      7\u001b[0m   \u001b[0mprint\u001b[0m\u001b[0;34m(\u001b[0m\u001b[0;34m\"Your code has error.\"\u001b[0m\u001b[0;34m)\u001b[0m\u001b[0;34m\u001b[0m\u001b[0;34m\u001b[0m\u001b[0m\n",
            "\u001b[0;31mZeroDivisionError\u001b[0m: division by zero"
          ]
        }
      ],
      "source": [
        "#error handling\n",
        "x=50\n",
        "y=0\n",
        "try:\n",
        "  x/y\n",
        "except AttributeError:\n",
        "  print(\"Your code has error.\")"
      ]
    },
    {
      "cell_type": "code",
      "execution_count": null,
      "metadata": {
        "colab": {
          "base_uri": "https://localhost:8080/"
        },
        "id": "T8Z5k7nFpOXB",
        "outputId": "d588ae68-4f8a-49c3-b073-8b2416e5f21a"
      },
      "outputs": [
        {
          "name": "stdout",
          "output_type": "stream",
          "text": [
            "Your code has error.\n",
            "Your code has run successfully.\n"
          ]
        }
      ],
      "source": [
        "#error handling\n",
        "x=50\n",
        "y=0\n",
        "try:\n",
        "  x/y\n",
        "except:\n",
        "  print(\"Your code has error.\")\n",
        "else:\n",
        "  print(x/y)\n",
        "finally:\n",
        "  print(\"Your code has run successfully.\")"
      ]
    },
    {
      "cell_type": "code",
      "execution_count": null,
      "metadata": {
        "id": "ekUHYcC4pOkq"
      },
      "outputs": [],
      "source": [
        "dict1={\"Jay\":[1998,\"Hyderabad\"],\"Prajyot\":[1995,\"Hyderabad\"],\"Sushil\":[1989,\"Delhi\"],\"Sonu\":[1990,\"Karnataka\"]}\n",
        "import pandas as pd\n",
        "df=pd.DataFrame(dict1)"
      ]
    },
    {
      "cell_type": "code",
      "execution_count": null,
      "metadata": {
        "colab": {
          "base_uri": "https://localhost:8080/",
          "height": 645
        },
        "id": "T-jCXHGYpOrf",
        "outputId": "6a85db2b-8b55-4f0a-be27-5265c28862b1"
      },
      "outputs": [
        {
          "data": {
            "application/vnd.google.colaboratory.intrinsic+json": {
              "summary": "{\n  \"name\": \"df\",\n  \"rows\": 2,\n  \"fields\": [\n    {\n      \"column\": \"Jay\",\n      \"properties\": {\n        \"dtype\": \"string\",\n        \"num_unique_values\": 2,\n        \"samples\": [\n          \"Hyderabad\",\n          1998\n        ],\n        \"semantic_type\": \"\",\n        \"description\": \"\"\n      }\n    },\n    {\n      \"column\": \"Prajyot\",\n      \"properties\": {\n        \"dtype\": \"string\",\n        \"num_unique_values\": 2,\n        \"samples\": [\n          \"Hyderabad\",\n          1995\n        ],\n        \"semantic_type\": \"\",\n        \"description\": \"\"\n      }\n    },\n    {\n      \"column\": \"Sushil\",\n      \"properties\": {\n        \"dtype\": \"string\",\n        \"num_unique_values\": 2,\n        \"samples\": [\n          \"Delhi\",\n          1989\n        ],\n        \"semantic_type\": \"\",\n        \"description\": \"\"\n      }\n    },\n    {\n      \"column\": \"Sonu\",\n      \"properties\": {\n        \"dtype\": \"string\",\n        \"num_unique_values\": 2,\n        \"samples\": [\n          \"Karnataka\",\n          1990\n        ],\n        \"semantic_type\": \"\",\n        \"description\": \"\"\n      }\n    }\n  ]\n}",
              "type": "dataframe",
              "variable_name": "df"
            },
            "text/html": [
              "\n",
              "  <div id=\"df-fc1e1de5-65e8-4dce-bd7d-1405955ba101\" class=\"colab-df-container\">\n",
              "    <div>\n",
              "<style scoped>\n",
              "    .dataframe tbody tr th:only-of-type {\n",
              "        vertical-align: middle;\n",
              "    }\n",
              "\n",
              "    .dataframe tbody tr th {\n",
              "        vertical-align: top;\n",
              "    }\n",
              "\n",
              "    .dataframe thead th {\n",
              "        text-align: right;\n",
              "    }\n",
              "</style>\n",
              "<table border=\"1\" class=\"dataframe\">\n",
              "  <thead>\n",
              "    <tr style=\"text-align: right;\">\n",
              "      <th></th>\n",
              "      <th>Jay</th>\n",
              "      <th>Prajyot</th>\n",
              "      <th>Sushil</th>\n",
              "      <th>Sonu</th>\n",
              "    </tr>\n",
              "  </thead>\n",
              "  <tbody>\n",
              "    <tr>\n",
              "      <th>0</th>\n",
              "      <td>1998</td>\n",
              "      <td>1995</td>\n",
              "      <td>1989</td>\n",
              "      <td>1990</td>\n",
              "    </tr>\n",
              "    <tr>\n",
              "      <th>1</th>\n",
              "      <td>Hyderabad</td>\n",
              "      <td>Hyderabad</td>\n",
              "      <td>Delhi</td>\n",
              "      <td>Karnataka</td>\n",
              "    </tr>\n",
              "  </tbody>\n",
              "</table>\n",
              "</div>\n",
              "    <div class=\"colab-df-buttons\">\n",
              "\n",
              "  <div class=\"colab-df-container\">\n",
              "    <button class=\"colab-df-convert\" onclick=\"convertToInteractive('df-fc1e1de5-65e8-4dce-bd7d-1405955ba101')\"\n",
              "            title=\"Convert this dataframe to an interactive table.\"\n",
              "            style=\"display:none;\">\n",
              "\n",
              "  <svg xmlns=\"http://www.w3.org/2000/svg\" height=\"24px\" viewBox=\"0 -960 960 960\">\n",
              "    <path d=\"M120-120v-720h720v720H120Zm60-500h600v-160H180v160Zm220 220h160v-160H400v160Zm0 220h160v-160H400v160ZM180-400h160v-160H180v160Zm440 0h160v-160H620v160ZM180-180h160v-160H180v160Zm440 0h160v-160H620v160Z\"/>\n",
              "  </svg>\n",
              "    </button>\n",
              "\n",
              "  <style>\n",
              "    .colab-df-container {\n",
              "      display:flex;\n",
              "      gap: 12px;\n",
              "    }\n",
              "\n",
              "    .colab-df-convert {\n",
              "      background-color: #E8F0FE;\n",
              "      border: none;\n",
              "      border-radius: 50%;\n",
              "      cursor: pointer;\n",
              "      display: none;\n",
              "      fill: #1967D2;\n",
              "      height: 32px;\n",
              "      padding: 0 0 0 0;\n",
              "      width: 32px;\n",
              "    }\n",
              "\n",
              "    .colab-df-convert:hover {\n",
              "      background-color: #E2EBFA;\n",
              "      box-shadow: 0px 1px 2px rgba(60, 64, 67, 0.3), 0px 1px 3px 1px rgba(60, 64, 67, 0.15);\n",
              "      fill: #174EA6;\n",
              "    }\n",
              "\n",
              "    .colab-df-buttons div {\n",
              "      margin-bottom: 4px;\n",
              "    }\n",
              "\n",
              "    [theme=dark] .colab-df-convert {\n",
              "      background-color: #3B4455;\n",
              "      fill: #D2E3FC;\n",
              "    }\n",
              "\n",
              "    [theme=dark] .colab-df-convert:hover {\n",
              "      background-color: #434B5C;\n",
              "      box-shadow: 0px 1px 3px 1px rgba(0, 0, 0, 0.15);\n",
              "      filter: drop-shadow(0px 1px 2px rgba(0, 0, 0, 0.3));\n",
              "      fill: #FFFFFF;\n",
              "    }\n",
              "  </style>\n",
              "\n",
              "    <script>\n",
              "      const buttonEl =\n",
              "        document.querySelector('#df-fc1e1de5-65e8-4dce-bd7d-1405955ba101 button.colab-df-convert');\n",
              "      buttonEl.style.display =\n",
              "        google.colab.kernel.accessAllowed ? 'block' : 'none';\n",
              "\n",
              "      async function convertToInteractive(key) {\n",
              "        const element = document.querySelector('#df-fc1e1de5-65e8-4dce-bd7d-1405955ba101');\n",
              "        const dataTable =\n",
              "          await google.colab.kernel.invokeFunction('convertToInteractive',\n",
              "                                                    [key], {});\n",
              "        if (!dataTable) return;\n",
              "\n",
              "        const docLinkHtml = 'Like what you see? Visit the ' +\n",
              "          '<a target=\"_blank\" href=https://colab.research.google.com/notebooks/data_table.ipynb>data table notebook</a>'\n",
              "          + ' to learn more about interactive tables.';\n",
              "        element.innerHTML = '';\n",
              "        dataTable['output_type'] = 'display_data';\n",
              "        await google.colab.output.renderOutput(dataTable, element);\n",
              "        const docLink = document.createElement('div');\n",
              "        docLink.innerHTML = docLinkHtml;\n",
              "        element.appendChild(docLink);\n",
              "      }\n",
              "    </script>\n",
              "  </div>\n",
              "\n",
              "\n",
              "<div id=\"df-883f1615-0374-465b-b0f8-60d6bd25655c\">\n",
              "  <button class=\"colab-df-quickchart\" onclick=\"quickchart('df-883f1615-0374-465b-b0f8-60d6bd25655c')\"\n",
              "            title=\"Suggest charts\"\n",
              "            style=\"display:none;\">\n",
              "\n",
              "<svg xmlns=\"http://www.w3.org/2000/svg\" height=\"24px\"viewBox=\"0 0 24 24\"\n",
              "     width=\"24px\">\n",
              "    <g>\n",
              "        <path d=\"M19 3H5c-1.1 0-2 .9-2 2v14c0 1.1.9 2 2 2h14c1.1 0 2-.9 2-2V5c0-1.1-.9-2-2-2zM9 17H7v-7h2v7zm4 0h-2V7h2v10zm4 0h-2v-4h2v4z\"/>\n",
              "    </g>\n",
              "</svg>\n",
              "  </button>\n",
              "\n",
              "<style>\n",
              "  .colab-df-quickchart {\n",
              "      --bg-color: #E8F0FE;\n",
              "      --fill-color: #1967D2;\n",
              "      --hover-bg-color: #E2EBFA;\n",
              "      --hover-fill-color: #174EA6;\n",
              "      --disabled-fill-color: #AAA;\n",
              "      --disabled-bg-color: #DDD;\n",
              "  }\n",
              "\n",
              "  [theme=dark] .colab-df-quickchart {\n",
              "      --bg-color: #3B4455;\n",
              "      --fill-color: #D2E3FC;\n",
              "      --hover-bg-color: #434B5C;\n",
              "      --hover-fill-color: #FFFFFF;\n",
              "      --disabled-bg-color: #3B4455;\n",
              "      --disabled-fill-color: #666;\n",
              "  }\n",
              "\n",
              "  .colab-df-quickchart {\n",
              "    background-color: var(--bg-color);\n",
              "    border: none;\n",
              "    border-radius: 50%;\n",
              "    cursor: pointer;\n",
              "    display: none;\n",
              "    fill: var(--fill-color);\n",
              "    height: 32px;\n",
              "    padding: 0;\n",
              "    width: 32px;\n",
              "  }\n",
              "\n",
              "  .colab-df-quickchart:hover {\n",
              "    background-color: var(--hover-bg-color);\n",
              "    box-shadow: 0 1px 2px rgba(60, 64, 67, 0.3), 0 1px 3px 1px rgba(60, 64, 67, 0.15);\n",
              "    fill: var(--button-hover-fill-color);\n",
              "  }\n",
              "\n",
              "  .colab-df-quickchart-complete:disabled,\n",
              "  .colab-df-quickchart-complete:disabled:hover {\n",
              "    background-color: var(--disabled-bg-color);\n",
              "    fill: var(--disabled-fill-color);\n",
              "    box-shadow: none;\n",
              "  }\n",
              "\n",
              "  .colab-df-spinner {\n",
              "    border: 2px solid var(--fill-color);\n",
              "    border-color: transparent;\n",
              "    border-bottom-color: var(--fill-color);\n",
              "    animation:\n",
              "      spin 1s steps(1) infinite;\n",
              "  }\n",
              "\n",
              "  @keyframes spin {\n",
              "    0% {\n",
              "      border-color: transparent;\n",
              "      border-bottom-color: var(--fill-color);\n",
              "      border-left-color: var(--fill-color);\n",
              "    }\n",
              "    20% {\n",
              "      border-color: transparent;\n",
              "      border-left-color: var(--fill-color);\n",
              "      border-top-color: var(--fill-color);\n",
              "    }\n",
              "    30% {\n",
              "      border-color: transparent;\n",
              "      border-left-color: var(--fill-color);\n",
              "      border-top-color: var(--fill-color);\n",
              "      border-right-color: var(--fill-color);\n",
              "    }\n",
              "    40% {\n",
              "      border-color: transparent;\n",
              "      border-right-color: var(--fill-color);\n",
              "      border-top-color: var(--fill-color);\n",
              "    }\n",
              "    60% {\n",
              "      border-color: transparent;\n",
              "      border-right-color: var(--fill-color);\n",
              "    }\n",
              "    80% {\n",
              "      border-color: transparent;\n",
              "      border-right-color: var(--fill-color);\n",
              "      border-bottom-color: var(--fill-color);\n",
              "    }\n",
              "    90% {\n",
              "      border-color: transparent;\n",
              "      border-bottom-color: var(--fill-color);\n",
              "    }\n",
              "  }\n",
              "</style>\n",
              "\n",
              "  <script>\n",
              "    async function quickchart(key) {\n",
              "      const quickchartButtonEl =\n",
              "        document.querySelector('#' + key + ' button');\n",
              "      quickchartButtonEl.disabled = true;  // To prevent multiple clicks.\n",
              "      quickchartButtonEl.classList.add('colab-df-spinner');\n",
              "      try {\n",
              "        const charts = await google.colab.kernel.invokeFunction(\n",
              "            'suggestCharts', [key], {});\n",
              "      } catch (error) {\n",
              "        console.error('Error during call to suggestCharts:', error);\n",
              "      }\n",
              "      quickchartButtonEl.classList.remove('colab-df-spinner');\n",
              "      quickchartButtonEl.classList.add('colab-df-quickchart-complete');\n",
              "    }\n",
              "    (() => {\n",
              "      let quickchartButtonEl =\n",
              "        document.querySelector('#df-883f1615-0374-465b-b0f8-60d6bd25655c button');\n",
              "      quickchartButtonEl.style.display =\n",
              "        google.colab.kernel.accessAllowed ? 'block' : 'none';\n",
              "    })();\n",
              "  </script>\n",
              "</div>\n",
              "\n",
              "  <div id=\"id_d9f48620-8395-41ab-85a5-9740ec77c06c\">\n",
              "    <style>\n",
              "      .colab-df-generate {\n",
              "        background-color: #E8F0FE;\n",
              "        border: none;\n",
              "        border-radius: 50%;\n",
              "        cursor: pointer;\n",
              "        display: none;\n",
              "        fill: #1967D2;\n",
              "        height: 32px;\n",
              "        padding: 0 0 0 0;\n",
              "        width: 32px;\n",
              "      }\n",
              "\n",
              "      .colab-df-generate:hover {\n",
              "        background-color: #E2EBFA;\n",
              "        box-shadow: 0px 1px 2px rgba(60, 64, 67, 0.3), 0px 1px 3px 1px rgba(60, 64, 67, 0.15);\n",
              "        fill: #174EA6;\n",
              "      }\n",
              "\n",
              "      [theme=dark] .colab-df-generate {\n",
              "        background-color: #3B4455;\n",
              "        fill: #D2E3FC;\n",
              "      }\n",
              "\n",
              "      [theme=dark] .colab-df-generate:hover {\n",
              "        background-color: #434B5C;\n",
              "        box-shadow: 0px 1px 3px 1px rgba(0, 0, 0, 0.15);\n",
              "        filter: drop-shadow(0px 1px 2px rgba(0, 0, 0, 0.3));\n",
              "        fill: #FFFFFF;\n",
              "      }\n",
              "    </style>\n",
              "    <button class=\"colab-df-generate\" onclick=\"generateWithVariable('df')\"\n",
              "            title=\"Generate code using this dataframe.\"\n",
              "            style=\"display:none;\">\n",
              "\n",
              "  <svg xmlns=\"http://www.w3.org/2000/svg\" height=\"24px\"viewBox=\"0 0 24 24\"\n",
              "       width=\"24px\">\n",
              "    <path d=\"M7,19H8.4L18.45,9,17,7.55,7,17.6ZM5,21V16.75L18.45,3.32a2,2,0,0,1,2.83,0l1.4,1.43a1.91,1.91,0,0,1,.58,1.4,1.91,1.91,0,0,1-.58,1.4L9.25,21ZM18.45,9,17,7.55Zm-12,3A5.31,5.31,0,0,0,4.9,8.1,5.31,5.31,0,0,0,1,6.5,5.31,5.31,0,0,0,4.9,4.9,5.31,5.31,0,0,0,6.5,1,5.31,5.31,0,0,0,8.1,4.9,5.31,5.31,0,0,0,12,6.5,5.46,5.46,0,0,0,6.5,12Z\"/>\n",
              "  </svg>\n",
              "    </button>\n",
              "    <script>\n",
              "      (() => {\n",
              "      const buttonEl =\n",
              "        document.querySelector('#id_d9f48620-8395-41ab-85a5-9740ec77c06c button.colab-df-generate');\n",
              "      buttonEl.style.display =\n",
              "        google.colab.kernel.accessAllowed ? 'block' : 'none';\n",
              "\n",
              "      buttonEl.onclick = () => {\n",
              "        google.colab.notebook.generateWithVariable('df');\n",
              "      }\n",
              "      })();\n",
              "    </script>\n",
              "  </div>\n",
              "\n",
              "    </div>\n",
              "  </div>\n"
            ],
            "text/plain": [
              "         Jay    Prajyot Sushil       Sonu\n",
              "0       1998       1995   1989       1990\n",
              "1  Hyderabad  Hyderabad  Delhi  Karnataka"
            ]
          },
          "execution_count": 67,
          "metadata": {},
          "output_type": "execute_result"
        },
        {
          "data": {
            "text/html": [
              "<h4 class=\"colab-quickchart-section-title\">Categorical distributions</h4>\n",
              "<style>\n",
              "  .colab-quickchart-section-title {\n",
              "      clear: both;\n",
              "  }\n",
              "</style>"
            ],
            "text/plain": [
              "<google.colab._quickchart_helpers.SectionTitle at 0x7d8817b35ae0>"
            ]
          },
          "metadata": {},
          "output_type": "display_data"
        },
        {
          "data": {
            "text/html": [
              "      <div class=\"colab-quickchart-chart-with-code\" id=\"chart-4fe807e4-d280-49de-adbc-69e7a0b597f6\">\n",
              "        <img style=\"width: 180px;\" src=\"data:image/png;base64,iVBORw0KGgoAAAANSUhEUgAAAlYAAAGZCAYAAABL83/jAAAAOXRFWHRTb2Z0d2FyZQBNYXRwbG90\n",
              "bGliIHZlcnNpb24zLjcuMSwgaHR0cHM6Ly9tYXRwbG90bGliLm9yZy/bCgiHAAAACXBIWXMAAA9h\n",
              "AAAPYQGoP6dpAAAXFElEQVR4nO3deYxV9fn48efCRFqLQOsGQmWKgjODDgMC4kIrAwZSRYNLC9rQ\n",
              "KojWNri0GrGmaqXV2NjUli6i4BKbtO5Sq9YFo5DGFqOIaLCDyuCCyheNoMLIcn5/mM6vfF2+t/WZ\n",
              "uTLzeiU3mXvuufc+5xPCfefcM5lSURRFAADwqXWp9AAAAB2FsAIASCKsAACSCCsAgCTCCgAgibAC\n",
              "AEgirAAAkggrAIAkwgoAIImwqoCrrrqq0iMAAG1AWFVAc3NzpUcAANqAsAIASCKsAACSCCsAgCTC\n",
              "CgAgibACAEgirAAAkggrAIAkwgoAIImwAgBIIqwAAJIIKwCAJMIKACCJsAIASCKsAACSCCsAgCTC\n",
              "CgAgibACAEgirAAAkggrAIAkwgoAIImwAgBIIqwAAJIIKwCAJMIKACCJsAIASCKsAACSCCsAgCTC\n",
              "CgAgibACAEgirAAAkggrAIAkwgoAIImwAgBIIqwAAJIIKwCAJMIKACCJsAIASCKsAACSCCsAgCTC\n",
              "CgAgibACAEgirAAAkggrAIAkwgoAIEmpKIqi0kN0NicPLsWsEZoWADINun5rpUdwxgoAIIuwAgBI\n",
              "IqwAAJIIKwCAJMIKACCJsAIASCKsAACSCCsAgCTCCgAgibACAEgirAAAkggrAIAkwgoAIImwAgBI\n",
              "IqwAAJIIKwCAJMIKACCJsAIASCKsAACSCCsAgCTCCgAgibACAEgirAAAkggrAIAkwgoAIImwAgBI\n",
              "IqwAAJIIKwCAJMIKACCJsAIASCKsAACSCCsAgCTCCgAgibACAEgirAAAkggrAIAkwgoAIImwAgBI\n",
              "IqwAAJIIKwCAJMIKACBJm4ZVdXV1LF26dLtthx9+eNx5553/0evstttusWrVqrS5IiIuvvjiOOus\n",
              "sz716/zwhz+Miy+++FO/DgCw4+uwZ6y2bNlS6REAgE6mImH13nvvxZ577hnvvfde67YTTzwxfve7\n",
              "30VExIIFC6K2tjbq6+vjvPPO2+65TU1NceSRR8aIESOivr4+5syZ0/pYqVSKiy66KEaMGBGzZs2K\n",
              "p59+Og477LAYNmxY1NXVxezZs7d7rZdeeikaGxujpqYmJk6cGOvWrYuIiIceeigOPvjgGDp0aAwe\n",
              "PDjmzZvX+pw1a9bE+PHjo66uLsaNGxcvv/xy+voAADumqrZ+g29+85vx+c9/vvX+ypUr46yzzopx\n",
              "48bFTTfdFDNmzIjXX389HnzwwZg7d2688cYbcfLJJ8eiRYuirq4u5s6d2xo8W7dujSlTpsRNN90U\n",
              "NTU18d5778WoUaPioIMOihEjRkRERNeuXWPJkiUREbFhw4Z46KGHolu3brFx48Y45JBDYty4cTFq\n",
              "1KiIiFi0aFEsW7YsevfuHWeccUbMmjUr5s6dG8OGDYvFixdH165d480334yhQ4fG+PHjo1+/fjFz\n",
              "5swYOXJk/PWvf41XXnklGhoaoqam5mOPv6WlJVpaWrbbtnVb6hIDAJ8RbX7G6k9/+lMsXbq09TZ8\n",
              "+PCIiDjzzDPjN7/5TUREXHPNNTFlypTo3r17PPbYY1FfXx91dXURETFt2rTYaaedIiLiueeei2ee\n",
              "eSYmT54cDQ0Nccghh8SGDRvi2WefbX2/U045pfXnjRs3xvTp0+OAAw6IUaNGRXNz83bXfB155JHR\n",
              "u3fviIiYMWNGPPjggxERsW7dujjhhBNi//33j8bGxli3bl0sX748Ij44mzV9+vSIiOjbt28cffTR\n",
              "n3j8l112WfTs2XO727L/+a+XEwD4DGvzM1YfZ+TIkbHzzjvHww8/HHPnzm2Nmv+tVCq1/lwURXzp\n",
              "S1/60AXx/6579+6tP19wwQWx2267xZNPPhlVVVVx7LHHxqZNmz72uf96r9NPPz2+/vWvx2233Ral\n",
              "UimGDRv2sc/79/k+yqxZs+Kcc87Zbtv3D+r5ic8BAHZMFb14/cwzz4ypU6dGbW1tDBo0KCIiDj74\n",
              "4Fi2bFmsWLEiIiLmz58f77//fkRE7LffftGjR4+47rrrWl9j5cqV8eabb37k67/11lvRr1+/qKqq\n",
              "iueeey4eeOCB7R6/55574vXXX4+IiGuvvTbGjRvX+rz+/ftHqVSKRx99NJ566qnW54wbNy7mz58f\n",
              "ER9cb7VgwYJPPMZu3bpFjx49trt17bC/MgAAnVtFP+KPP/74eOedd+L73/9+67bdd9895s+fH5Mm\n",
              "TYohQ4ZEU1NT7LrrrhERUVVVFXfffXfcfvvtUV9fH4MHD45p06bFxo0bP/L1L7zwwrjuuuuivr4+\n",
              "zj///GhsbNzu8dGjR8eJJ54YNTU10dzcHD/72c8iIuLyyy+P888/PxoaGmL+/Plx0EEHtT7nqquu\n",
              "isceeyzq6upi6tSpH3pNAKDzKhVFUVTqzR9//PE48cQTY8WKFdGlS+c5jXPy4FLMGtF5jhcA2sOg\n",
              "67dWeoTKXWM1ffr0uP/+++Paa6/tVFEFAHRcFQura6+9tlJvDQDQJpwqAgBIIqwAAJIIKwCAJMIK\n",
              "ACCJsAIASCKsAACSCCsAgCTCCgAgibACAEgirAAAkggrAIAkwgoAIImwAgBIIqwAAJIIKwCAJMIK\n",
              "ACCJsAIASCKsAACSCCsAgCTCCgAgibACAEgirAAAkggrAIAkwgoAIImwAgBIIqwAAJIIKwCAJMIK\n",
              "ACCJsAIASCKsAACSCCsAgCTCCgAgibACAEgirAAAkggrAIAkwgoAIImwAgBIIqwAAJIIKwCAJFWV\n",
              "HqAz+uL4s2PQL35R6TEAgGTOWAEAJBFWAABJhBUAQBJhBQCQRFgBACQRVgAASYQVAEASYQUAkERY\n",
              "AQAkEVYAAEmEFQBAEmEFAJBEWAEAJBFWAABJhBUAQBJhBQCQRFgBACQRVgAASYQVAEASYQUAkERY\n",
              "AQAkEVYAAEmEFQBAEmEFAJBEWAEAJBFWAABJhBUAQBJhBQCQRFgBACQRVgAASYQVAEASYQUAkERY\n",
              "AQAkEVYAAEmEFQBAEmEFAJBEWAEAJBFWAABJyg6rFStWtOUcAAA7vLLDasKECXHEEUfEXXfdFUVR\n",
              "tOVMAAA7pLLD6oUXXogzzjgj5syZE/vss09cccUV8eabb7blbAAAO5Syw6pLly4xadKkeOCBB+KW\n",
              "W26JOXPmRL9+/eLUU0+NV199tS1nBADYIfxHF683NTXFWWedFUcffXQceeSRsXjx4thvv/1iwoQJ\n",
              "bTUfAMAOo6rcHcePHx9NTU1xxhlnxDPPPBO9evWKiIhhw4bF9ddf30bjAQDsOMoOqxkzZsSkSZOi\n",
              "S5cPn+Ravnx56lAAADuissPquOOOi4iIlpaWaGlpad3eo0eP/KkAAHZAZV9j9fe//z1qa2tj5513\n",
              "ji9+8YutNwAAPlD2GauZM2fG9ddfH6effno8+uij8atf/So+97nPteVsAAA7lLLPWG3evDkOOuig\n",
              "2LJlS+yyyy7xox/9KP74xz+25WwAADuUssOqquqDk1u77rprPPHEE7F27dpYu3Ztmw0GALCjKfur\n",
              "wClTpsS6deviggsuiK997WuxefPmmD17dlvOBgCwQ/k/w2rZsmURETF27Nh45ZVXonfv3rFw4cLY\n",
              "tGlT7LnnnrFp0ybXWgEARBlhdcwxx3xoW6lUiogPrrvasGFDXHnllTFt2rT86QAAdiD/Z1i9+OKL\n",
              "n/j4mjVrorGxUVgBAJ3ef/S3Aj9Knz59YsaMGRmzAADs0D51WEVEnH322RkvAwCwQ0sJKwAAhBUA\n",
              "QBphBQCQRFgBACQRVgAASYQVAEASYQUAkERYAQAkEVYAAEmEFQBAEmEFAJBEWAEAJBFWAABJhBUA\n",
              "QBJhBQCQRFgBACQRVgAASYQVAEASYQUAkERYAQAkEVYAAEmEFQBAEmEFAJBEWAEAJBFWAABJhBUA\n",
              "QBJhBQCQRFgBACQRVgAASYQVAEASYQUAkERYAQAkEVYAAEmEFQBAEmEFAJBEWAEAJCkVRVFUeojO\n",
              "pvv4EdFr8thKjwEAHcrLJ19e6RGcsQIAyCKsAACSCCsAgCTCCgAgibACAEgirAAAkggrAIAkwgoA\n",
              "IImwAgBIIqwAAJIIKwCAJMIKACCJsAIASCKsAACSCCsAgCTCCgAgibACAEgirAAAkggrAIAkwgoA\n",
              "IImwAgBIIqwAAJIIKwCAJMIKACCJsAIASCKsAACSCCsAgCTCCgAgibACAEgirAAAkggrAIAkwgoA\n",
              "IImwAgBIIqwAAJIIKwCAJMIKACCJsAIASCKsAACSCCsAgCTCCgAgibACAEjS4cNq5syZUV1dHaVS\n",
              "KZYuXdq6/b777ovhw4dHfX19jBo1Kp566qnWx5YsWRKHHnpoDBkyJBoaGmLhwoWtjzU1NcWYMWOi\n",
              "oaEhampq4gc/+EFs27atPQ8JAPiM6vBhdfzxx8fixYujf//+rdveeuutOOmkk+KGG26IZcuWxc9/\n",
              "/vM46aSTIiKiKIqYNGlSXHLJJfHUU0/FzTffHN/5zndi48aNERFx7rnnxqRJk2Lp0qWxdOnSuP/+\n",
              "++O+++6ryLEBAJ8tHT6svvrVr0a/fv222/b888/HrrvuGoMHD46IiNGjR8fq1avjiSeeiHXr1sXa\n",
              "tWtj3LhxERExaNCg6NWrV9x7770REVEqleLtt9+OiIiNGzfG5s2bo0+fPu14RADAZ1WHD6uPMnDg\n",
              "wFi3bl387W9/i4iIBQsWxIYNG2LVqlWx2267RZ8+feLmm2+OiA++Fnzuuedi1apVERHxy1/+Mm65\n",
              "5ZbYa6+9Yq+99oqpU6fG0KFDP/a9WlpaYv369dvdYmvR5scIALS/ThlWPXv2jFtvvTVmzZoVBx54\n",
              "YNx///1RV1cXVVVVERFx1113xfz582Po0KFx1VVXxWGHHdb62G9/+9uYMmVKvPrqq9Hc3Bx/+MMf\n",
              "4oEHHvjY97rsssuiZ8+e293ef3FNuxwnANC+SkVRdIrTJ9XV1XHnnXdGQ0PDhx5raWmJ3r17x5Il\n",
              "S2Lffff90OO1tbUxZ86cGDt2bHTv3j3++c9/xl577RURH1xztdNOO8VPf/rTj3zflpaWaGlp2W7b\n",
              "Xsc2Rq+Txn36gwIAWr188uWVHqFznrGKiFiz5v+fNbr00kujsbGxNar+/bFrrrkmvvCFL0RjY2NE\n",
              "RAwYMKD1YvV33303Hn744dh///0/9n26desWPXr02O4WXUttcUgAQIV1+LA67bTTol+/fvHyyy/H\n",
              "+PHjW+Ppxz/+cdTU1MS+++4bzc3NMW/evNbnzJ07NwYNGhQDBw6MP//5z3HHHXdEqfRBDN1www0x\n",
              "b968GDJkSAwfPjzGjh0bkydPrsixAQCfLZ3mq8DPku7jR0SvyWMrPQYAdCi+CgQA6ECEFQBAEmEF\n",
              "AJBEWAEAJBFWAABJhBUAQBJhBQCQRFgBACQRVgAASYQVAEASYQUAkERYAQAkEVYAAEmEFQBAEmEF\n",
              "AJBEWAEAJBFWAABJhBUAQBJhBQCQRFgBACQRVgAASYQVAEASYQUAkERYAQAkEVYAAEmEFQBAEmEF\n",
              "AJBEWAEAJBFWAABJhBUAQBJhBQCQRFgBACQRVgAASYQVAEASYQUAkERYAQAkEVYAAEmEFQBAEmEF\n",
              "AJBEWAEAJBFWAABJqio9QGc0Y/Do+MXJl1d6DAAgmTNWAABJhBUAQBJhBQCQRFgBACQRVgAASYQV\n",
              "AEASYQUAkERYAQAkEVYAAEmEFQBAEmEFAJBEWAEAJBFWAABJhBUAQBJhBQCQRFgBACQRVgAASYQV\n",
              "AEASYQUAkERYAQAkEVYAAEmEFQBAEmEFAJBEWAEAJBFWAABJhBUAQBJhBQCQRFgBACQRVgAASYQV\n",
              "AEASYQUAkERYAQAkEVYAAEmEFQBAEmEFAJBEWAEAJBFWAABJhBUAQBJhBQCQRFgBACQRVgAASYQV\n",
              "AEASYQUAkERYAQAkEVYAAEmqKj1AZ9PS0hL33ntvbN26Nbp27VrpcTqNrVu3xj/+8Y8YOXKkdW9n\n",
              "1r4yrHvlWPvKaI9179+/f5x55pmfuE+pKIqiTd6dj7R+/fro2bNnvP3229GjR49Kj9NpWPfKsfaV\n",
              "Yd0rx9pXxmdl3X0VCACQRFgBACQRVgAASYRVO+vWrVtcdNFF0a1bt0qP0qlY98qx9pVh3SvH2lfG\n",
              "Z2XdXbwOAJDEGSsAgCTCCgAgibACAEgirNpIU1NTHHLIITFo0KAYMWJEPPPMMx+537x582LgwIGx\n",
              "zz77xKmnnhqbN29u50k7lnLWfeHChTFy5Mioq6uLwYMHx3nnnRfbtm2rwLQdR7n/3iMiiqKIxsbG\n",
              "6NWrV/sN2IGVu/ZPP/10HH744VFbWxu1tbVx++23t/OkHUs5675t27Y455xzoq6uLurr62PMmDGx\n",
              "cuXKCkzbccycOTOqq6ujVCrF0qVLP3a/in62FrSJMWPGFNddd11RFEVxyy23FMOHD//QPi+88ELR\n",
              "p0+fYs2aNcW2bduKiRMnFnPmzGnnSTuWctb9iSeeKJ5//vmiKIpi48aNxaGHHtr6HP475az7v1x5\n",
              "5ZXF9OnTi549e7bPcB1cOWv/7rvvFl/5yleKRYsWFUVRFFu2bCneeOON9hyzwyln3e+4445i5MiR\n",
              "xfvvv18URVFceumlxQknnNCeY3Y4jzzySPHSSy8V/fv3L5588smP3KfSn63Cqg28/vrrxS677FJs\n",
              "3ry5KIqi2LZtW7HnnnsWTU1N2+13xRVXFKeddlrr/b/85S/FoYce2q6zdiTlrvv/9r3vfa+46KKL\n",
              "2mHCjuk/Wffly5cXo0ePLlauXCmsEpS79tdcc00xZcqUSozYIZW77nfeeWcxZMiQYv369cW2bduK\n",
              "c889tzj77LMrMXKH80lhVenPVl8FtoGXXnop+vTpE1VVH/yN61KpFHvvvXesXr16u/1Wr14d/fv3\n",
              "b71fXV39oX0oX7nr/u9ee+21uPXWW+Ooo45qrzE7nHLXffPmzXHqqafG1Vdf7Q/TJil37Z999tno\n",
              "1q1bHHXUUdHQ0BBTp06NtWvXVmLkDqHcdZ84cWIcfvjh0bt37+jTp0889NBD8ZOf/KQSI3cqlf5s\n",
              "FVZ0WuvXr4+JEyfGeeedF8OHD6/0OB3eJZdcEscee2zU1tZWepROZ8uWLfHggw/G1VdfHU8++WT0\n",
              "7ds3vvvd71Z6rA7v8ccfj+XLl8crr7wSr776aowdOzZOP/30So9FGxNWbeDLX/5yrFmzJrZs2RIR\n",
              "H1ysu3r16th7772322/vvfeO5ubm1vurVq360D6Ur9x1j4jYsGFDTJgwIY455pg455xz2nvUDqXc\n",
              "dX/kkUfi17/+dVRXV8dhhx0W69evj+rqamdOPoX/5P+aMWPGRN++faNUKsW3vvWteOyxxyoxcodQ\n",
              "7rrfeOONrb+o0aVLl/j2t78dDz/8cCVG7lQq/dkqrNrAHnvsEcOGDYubbropIiJuu+226NevX+y7\n",
              "777b7XfcccfFggUL4rXXXouiKOL3v/99TJ48uRIjdwjlrvs777wTEyZMiAkTJsSFF15YiVE7lHLX\n",
              "fdGiRdHc3ByrVq2KxYsXR48ePWLVqlWx++67V2LsDqHctf/GN74RS5YsifXr10dExD333BNDhgxp\n",
              "93k7inLXfcCAAbFw4cJ4//33IyLi7rvvjv3337/d5+1sKv7Z2m5Xc3UyK1asKEaNGlUMHDiwOPDA\n",
              "A4tly5YVRVEU06ZNK+66667W/ebOnVsMGDCgGDBgQHHKKae0/vYI/51y1n327NlFVVVVMWTIkNbb\n",
              "7NmzKzn2Dq/cf+//8uKLL7p4PUm5a3/jjTcWgwcPLg444IBiwoQJxerVqys1codQzrpv2rSpmD59\n",
              "elFTU1MccMABxRFHHNH6G8n8d2bMmFH07du36Nq1a7HHHnsU++yzT1EUn63PVn8rEAAgia8CAQCS\n",
              "CCsAgCTCCgAgibACAEgirAAAkggrAIAkwgoAIImwAgBIIqwAAJIIKwCAJMIKACDJ/wPkN84DTnoX\n",
              "uQAAAABJRU5ErkJggg==\n",
              "\">\n",
              "      </div>\n",
              "      <script type=\"text/javascript\">\n",
              "        (() => {\n",
              "          const chartElement = document.getElementById(\"chart-4fe807e4-d280-49de-adbc-69e7a0b597f6\");\n",
              "          async function getCodeForChartHandler(event) {\n",
              "            const chartCodeResponse =  await google.colab.kernel.invokeFunction(\n",
              "                'getCodeForChart', [\"chart-4fe807e4-d280-49de-adbc-69e7a0b597f6\"], {});\n",
              "            const responseJson = chartCodeResponse.data['application/json'];\n",
              "            await google.colab.notebook.addCell(responseJson.code, 'code');\n",
              "          }\n",
              "          chartElement.onclick = getCodeForChartHandler;\n",
              "        })();\n",
              "      </script>\n",
              "      <style>\n",
              "        .colab-quickchart-chart-with-code  {\n",
              "            display: block;\n",
              "            float: left;\n",
              "            border: 1px solid transparent;\n",
              "        }\n",
              "\n",
              "        .colab-quickchart-chart-with-code:hover {\n",
              "            cursor: pointer;\n",
              "            border: 1px solid #aaa;\n",
              "        }\n",
              "      </style>"
            ],
            "text/plain": [
              "from matplotlib import pyplot as plt\n",
              "import seaborn as sns\n",
              "df.groupby('Jay').size().plot(kind='barh', color=sns.palettes.mpl_palette('Dark2'))\n",
              "plt.gca().spines[['top', 'right',]].set_visible(False)"
            ]
          },
          "metadata": {},
          "output_type": "display_data"
        },
        {
          "data": {
            "text/html": [
              "      <div class=\"colab-quickchart-chart-with-code\" id=\"chart-e605943f-237a-4f9c-89ab-8c89cd8289f0\">\n",
              "        <img style=\"width: 180px;\" src=\"data:image/png;base64,iVBORw0KGgoAAAANSUhEUgAAAlYAAAGZCAYAAABL83/jAAAAOXRFWHRTb2Z0d2FyZQBNYXRwbG90\n",
              "bGliIHZlcnNpb24zLjcuMSwgaHR0cHM6Ly9tYXRwbG90bGliLm9yZy/bCgiHAAAACXBIWXMAAA9h\n",
              "AAAPYQGoP6dpAAAYsUlEQVR4nO3de4xU9fn48WdglVKBxTsUBIrKZYFl5SYqqOASQMUWqxWxUZGL\n",
              "Fq1SIkSMrbbSakxrQqS2oKIxtoniBal3RaNrGlqMIqKBgnbBC6JFI6C4yu75/uHP/XUrmln72R12\n",
              "9/VKJtk5c2bmmU8I8845ZyGXZVkWAAD8z1oVegAAgOZCWAEAJCKsAAASEVYAAIkIKwCARIQVAEAi\n",
              "wgoAIBFhBQCQiLACAEhEWBXAggULCj0CANAAhFUBbNq0qdAjAAANQFgBACQirAAAEhFWAACJCCsA\n",
              "gESEFQBAIsIKACARYQUAkIiwAgBIRFgBACQirAAAEhFWAACJCCsAgESEFQBAIsIKACARYQUAkIiw\n",
              "AgBIRFgBACQirAAAEhFWAACJCCsAgESEFQBAIsIKACARYQUAkIiwAgBIRFgBACQirAAAEhFWAACJ\n",
              "CCsAgESEFQBAIsIKACARYQUAkIiwAgBIRFgBACQirAAAEhFWAACJCCsAgESEFQBAIsIKACARYQUA\n",
              "kIiwAgBIRFgBACQirAAAEhFWAACJCCsAgERyWZZlhR6ipZnSLxfzhmpaAEip1x3VhR7BESsAgFSE\n",
              "FQBAIsIKACARYQUAkIiwAgBIRFgBACQirAAAEhFWAACJCCsAgESEFQBAIsIKACARYQUAkIiwAgBI\n",
              "RFgBACQirAAAEhFWAACJCCsAgESEFQBAIsIKACARYQUAkIiwAgBIRFgBACQirAAAEhFWAACJCCsA\n",
              "gESEFQBAIsIKACARYQUAkIiwAgBIRFgBACQirAAAEhFWAACJCCsAgESEFQBAIsIKACARYQUAkIiw\n",
              "AgBIRFgBACQirAAAEhFWAACJCCsAgEQaNKx69OgRq1evrrPtxBNPjGXLltXrdQ466KCorKxMNldE\n",
              "xDXXXBOzZs36n1/n8ssvj2uuueZ/fh0AoOlrtkesdu/eXegRAIAWpiBh9cknn8Shhx4an3zySe22\n",
              "yZMnxx//+MeIiFi+fHn07ds3SktLY+7cuXWeu2HDhjjllFNi6NChUVpaGgsXLqx9LJfLxdVXXx1D\n",
              "hw6NefPmxSuvvBIjRoyIQYMGRUlJScyfP7/Oa7355psxevTo6NOnT0yYMCG2bdsWERErVqyIY445\n",
              "Jo466qjo169f3HbbbbXP2bJlS4wdOzZKSkqivLw83nrrreTrAwA0TUUN/QZnnXVWtG3btvb+xo0b\n",
              "Y9asWVFeXh533XVXzJgxI7Zu3RpPPfVULF68ON57772YMmVKVFRURElJSSxevLg2eKqrq+Pss8+O\n",
              "u+66K/r06ROffPJJDB8+PI4++ugYOnRoRES0bt06Vq1aFRERO3bsiBUrVkSbNm1i165dceyxx0Z5\n",
              "eXkMHz48IiIqKipizZo10alTp5g5c2bMmzcvFi9eHIMGDYrnn38+WrduHR988EEcddRRMXbs2Oja\n",
              "tWtceumlMWzYsHj88cfj7bffjrKysujTp8/Xfv6qqqqoqqqqs626JukSAwB7iQY/YnX33XfH6tWr\n",
              "a29DhgyJiIjLLrss/vCHP0RExC233BJnn312tGvXLlauXBmlpaVRUlISERFTp06NfffdNyIi1q9f\n",
              "H6+++mpMmjQpysrK4thjj40dO3bEa6+9Vvt+F1xwQe3Pu3btimnTpsWAAQNi+PDhsWnTpjrXfJ1y\n",
              "yinRqVOniIiYMWNGPPXUUxERsW3btjjzzDOjf//+MXr06Ni2bVusXbs2Ir44mjVt2rSIiOjSpUuc\n",
              "dtpp3/j5r7vuuiguLq5zW/Pvb72cAMBerMGPWH2dYcOGxXe/+9145plnYvHixbVR899yuVztz1mW\n",
              "xQEHHPCVC+L/U7t27Wp/vvLKK+Oggw6Kl156KYqKiuL000+PTz/99Guf++V7XXTRRXHyySfHfffd\n",
              "F7lcLgYNGvS1z/vP+fZk3rx5MXv27DrbLjm6+BufAwA0TQW9eP2yyy6Lc889N/r27Ru9evWKiIhj\n",
              "jjkm1qxZE+vWrYuIiCVLlsRnn30WERG9e/eODh06xO233177Ghs3bowPPvhgj6//4YcfRteuXaOo\n",
              "qCjWr18fTz75ZJ3HH3nkkdi6dWtERNx6661RXl5e+7zu3btHLpeL5557Ll5++eXa55SXl8eSJUsi\n",
              "4ovrrZYvX/6Nn7FNmzbRoUOHOrfWzfZXBgCgZSvoV/wZZ5wRO3fujEsuuaR228EHHxxLliyJiRMn\n",
              "xsCBA2PDhg1x4IEHRkREUVFRPPTQQ3H//fdHaWlp9OvXL6ZOnRq7du3a4+tfddVVcfvtt0dpaWlc\n",
              "ccUVMXr06DqPjxw5MiZPnhx9+vSJTZs2xW9/+9uIiLj++uvjiiuuiLKysliyZEkcffTRtc9ZsGBB\n",
              "rFy5MkpKSuLcc8/9ymsCAC1XLsuyrFBv/sILL8TkyZNj3bp10apVyzmMM6VfLuYNbTmfFwAaQ687\n",
              "qgs9QuGusZo2bVo88cQTceutt7aoqAIAmq+ChdWtt95aqLcGAGgQDhUBACQirAAAEhFWAACJCCsA\n",
              "gESEFQBAIsIKACARYQUAkIiwAgBIRFgBACQirAAAEhFWAACJCCsAgESEFQBAIsIKACARYQUAkIiw\n",
              "AgBIRFgBACQirAAAEhFWAACJCCsAgESEFQBAIsIKACARYQUAkIiwAgBIRFgBACQirAAAEhFWAACJ\n",
              "CCsAgESEFQBAIsIKACARYQUAkIiwAgBIRFgBACQirAAAEhFWAACJCCsAgESEFQBAIsIKACARYQUA\n",
              "kEhRoQdoifYf+/PodeONhR4DAEjMESsAgESEFQBAIsIKACARYQUAkIiwAgBIRFgBACQirAAAEhFW\n",
              "AACJCCsAgESEFQBAIsIKACARYQUAkIiwAgBIRFgBACQirAAAEhFWAACJCCsAgESEFQBAIsIKACAR\n",
              "YQUAkIiwAgBIRFgBACQirAAAEhFWAACJCCsAgESEFQBAIsIKACARYQUAkIiwAgBIpN5hNX/+/Ly2\n",
              "AQC0NPUOq/vvvz+vbQAALU1Rvjs+/vjj8dhjj8Xbb78ds2fPrt3+0UcfNchgAABNTd5h9Z3vfCc6\n",
              "duwYrVq1iuLi4trthx12WPziF79okOEAAJqSvMPqhBNOiBNOOCF++MMfxsCBAxtyJgCAJqne11j1\n",
              "7NkzLr744ujVq1f06tUrfvazn8WOHTsaYjYAgCal3mE1c+bM2L17d9xzzz2xdOnSqK6ujpkzZzbE\n",
              "bAAATUrepwK/tGbNmnj55Zdr7998881ODQIAxLc4YlVdXV3n1N/OnTujuro66VAAAE1RvY9YnXfe\n",
              "eTF8+PA466yzIiLinnvuiSlTpiQfDACgqal3WM2ZMyf69+8fK1asiIiI3/3udzFu3LjkgwEANDX1\n",
              "Dqt169bF+PHjY/z48Q0xDwBAk1Xva6zGjRsXY8aMieXLl0eWZQ0xEwBAk1TvsHrjjTdi5syZcdNN\n",
              "N8Xhhx8eN9xwQ3zwwQcNMRsAQJNS77Bq1apVTJw4MZ588slYunRpLFy4MLp27RrTp0+Pd955pyFm\n",
              "BABoEuodVhERGzZsiFmzZsVpp50Wp5xySjz//PPRu3dvF7EDAC1avS9eHzt2bGzYsCFmzpwZr776\n",
              "anTs2DEiIgYNGhR33HFH4vEAAJqOeofVjBkzYuLEidGq1VcPdq1duzbJUAAATVHeYfXxxx/Hfvvt\n",
              "F2PGjImdO3fWeSyXy0X79u2TDwcA0JTkfY3VyJEjIyKiY8eOsf/++0fHjh1rb8XFxdG2bdu44YYb\n",
              "GmxQAIC9Xd5h9eKLL0ZERE1NTVRXV0dNTU2d26ZNm2LRokUNNigAwN7uW/1W4J4ccsghcffdd6d6\n",
              "OQCAJqfeYbVhw4YYP358fO9734sDDjig9hYRMWTIkOQDAgA0FfUOq+nTp8f5558f+++/fzz77LNx\n",
              "xhlnxOWXX94QswEANCn1Dqvt27fHWWedFa1atYoBAwbEokWLYtmyZQ0wGgBA01LvsNpnn30iIqJ9\n",
              "+/ZRWVkZVVVV8e9//zv5YAAATU29/4HQ448/PrZt2xaXXHJJDB48OPbdd9+YNGlSQ8wGANCk1Cus\n",
              "siyL2bNnx4EHHhiTJ0+OkSNHxkcffRT9+/dvqPkAAJqMep8KHDNmTO3Phx12mKgCAPh/6hVWuVwu\n",
              "unbt6poqAIA9qPc1Vu3atYuysrI4+eSTo127drXbb7zxxqSDAQA0NfUKq7Vr18b69etj1KhR0aVL\n",
              "l4aaCQCgSco7rG6++ea48soro3fv3vHXv/41lixZEqeffnpDzgYA0KTkfY3VzTffHGvWrIm///3v\n",
              "UVFR4dQfAMB/yTus9tlnn+jWrVtERAwYMCA+/vjjBhsKAKApyvtU4KeffhqvvPJKZFm2x/ulpaUN\n",
              "MyEAQBORd1jt2rUrTjvttDrbvryfy+XijTfeSDsZAEATk3dYVVZWNuAYAABNX73/5XUAAPZMWAEA\n",
              "JCKsAAASEVYAAIkIKwCARIQVAEAiwgoAIBFhBQCQiLACAEhEWAEAJCKsAAASEVYAAIkIKwCARIQV\n",
              "AEAiwgoAIBFhBQCQiLACAEhEWAEAJCKsAAASEVYAAIkIKwCARIQVAEAiwgoAIBFhBQCQiLACAEgk\n",
              "l2VZVughWpp2Y4dGx0knFXoMAGhW3ppyfaFHcMQKACAVYQUAkIiwAgBIRFgBACQirAAAEhFWAACJ\n",
              "CCsAgESEFQBAIsIKACARYQUAkIiwAgBIRFgBACQirAAAEhFWAACJCCsAgESEFQBAIsIKACARYQUA\n",
              "kIiwAgBIRFgBACQirAAAEhFWAACJCCsAgESEFQBAIsIKACARYQUAkIiwAgBIRFgBACQirAAAEhFW\n",
              "AACJCCsAgESEFQBAIsIKACARYQUAkIiwAgBIRFgBACQirAAAEhFWAACJCCsAgESEFQBAIsIKACCR\n",
              "Zh9Wl156afTo0SNyuVysXr26dvtjjz0WQ4YMidLS0hg+fHi8/PLLtY+tWrUqjjvuuBg4cGCUlZXF\n",
              "008/XfvY+eefH126dImysrIoKyuLOXPmNObHAQD2YkWFHqChnXHGGTF37twYMWJE7bYPP/wwzjnn\n",
              "nHjuueeiX79+UVFREeecc06sXbs2siyLiRMnxh133BHl5eXxz3/+M8rLy2P9+vXRtm3biIiYM2dO\n",
              "zJo1q0CfCADYWzX7I1bHH398dO3atc62119/PQ488MDo169fRESMHDkyNm/eHC+++GJs27Yt3n//\n",
              "/SgvL4+IiF69ekXHjh3j0UcfbfTZAYCmpdmH1Z4ceeSRsW3btvjb3/4WERHLly+PHTt2RGVlZRx0\n",
              "0EHRuXPnuOeeeyLii9OC69evj8rKytrnL1iwIEpLS+PUU0+tc3pxT6qqqmL79u11blGdNdRHAwAK\n",
              "qEWGVXFxcdx7770xb968GDx4cDzxxBNRUlISRUVfnBl98MEHY8mSJXHUUUfFggULYsSIEbWP/eY3\n",
              "v4nXX3891qxZE1OnTo3x48fHzp07v/a9rrvuuiguLq5z++xfWxrlcwIAjSuXZVmLOHzSo0ePWLZs\n",
              "WZSVlX3lsaqqqujUqVOsWrUqjjjiiK883rdv31i4cGGcdNJJX3msd+/e8Ze//CUGDx68x/etqqqK\n",
              "qqqqOtu+d/ro6HhO+bf7IADAHr015fpCj9Ayj1hFRGzZ8v+PGl177bUxevTo2qj6z8duueWW2G+/\n",
              "/WL06NEREfHWW2/VPrZy5crYtm3bHmPsS23atIkOHTrUuUXrXOqPAwDsBZr9bwVeeOGF8fDDD8e7\n",
              "774bY8eOjfbt28fGjRvjl7/8ZVRUVMTu3bvjmGOOidtuu632OYsXL44///nPkWVZ9O3bNx544IHI\n",
              "5b6IofPPPz+2bt0arVu3jrZt28bSpUujuLi4UB8PANiLtJhTgXuTdmOHRsdJXz2tCAB8e04FAgA0\n",
              "I8IKACARYQUAkIiwAgBIRFgBACQirAAAEhFWAACJCCsAgESEFQBAIsIKACARYQUAkIiwAgBIRFgB\n",
              "ACQirAAAEhFWAACJCCsAgESEFQBAIsIKACARYQUAkIiwAgBIRFgBACQirAAAEhFWAACJCCsAgESE\n",
              "FQBAIsIKACARYQUAkIiwAgBIRFgBACQirAAAEhFWAACJCCsAgESEFQBAIsIKACARYQUAkIiwAgBI\n",
              "RFgBACQirAAAEhFWAACJCCsAgESEFQBAIkWFHqAlmtFvZNw45fpCjwEAJOaIFQBAIsIKACARYQUA\n",
              "kIiwAgBIRFgBACQirAAAEhFWAACJCCsAgESEFQBAIsIKACARYQUAkIiwAgBIRFgBACQirAAAEhFW\n",
              "AACJCCsAgESEFQBAIsIKACARYQUAkIiwAgBIRFgBACQirAAAEhFWAACJCCsAgESEFQBAIsIKACAR\n",
              "YQUAkIiwAgBIRFgBACQirAAAEhFWAACJCCsAgESEFQBAIsIKACARYQUAkIiwAgBIRFgBACQirAAA\n",
              "EhFWAACJCCsAgESEFQBAIsIKACARYQUAkIiwAgBIRFgBACRSVOgBWpqqqqp49NFHo7q6Olq3bl3o\n",
              "cVqM6urq+Mc//hHDhg2z7o3M2heGdS8ca18YjbHu3bt3j8suu+wb98llWZY1yLuzR9u3b4/i4uL4\n",
              "6KOPokOHDoUep8Ww7oVj7QvDuheOtS+MvWXdnQoEAEhEWAEAJCKsAAASEVaNrE2bNnH11VdHmzZt\n",
              "Cj1Ki2LdC8faF4Z1LxxrXxh7y7q7eB0AIBFHrAAAEhFWAACJCCsAgESEVQPZsGFDHHvssdGrV68Y\n",
              "OnRovPrqq3vc77bbbosjjzwyDj/88Jg+fXp8/vnnjTxp85LPuj/99NMxbNiwKCkpiX79+sXcuXOj\n",
              "pqamANM2H/n+eY+IyLIsRo8eHR07dmy8AZuxfNf+lVdeiRNPPDH69u0bffv2jfvvv7+RJ21e8ln3\n",
              "mpqamD17dpSUlERpaWmMGjUqNm7cWIBpm49LL700evToEblcLlavXv21+xX0uzWjQYwaNSq7/fbb\n",
              "syzLsqVLl2ZDhgz5yj5vvPFG1rlz52zLli1ZTU1NNmHChGzhwoWNPGnzks+6v/jii9nrr7+eZVmW\n",
              "7dq1KzvuuONqn8O3k8+6f+n3v/99Nm3atKy4uLhxhmvm8ln7jz/+OPv+97+fVVRUZFmWZbt3787e\n",
              "e++9xhyz2cln3R944IFs2LBh2WeffZZlWZZde+212ZlnntmYYzY7zz77bPbmm29m3bt3z1566aU9\n",
              "7lPo71Zh1QC2bt2atW/fPvv888+zLMuympqa7NBDD802bNhQZ78bbrghu/DCC2vvP/zww9lxxx3X\n",
              "qLM2J/mu+3+7+OKLs6uvvroRJmye6rPua9euzUaOHJlt3LhRWCWQ79rfcsst2dlnn12IEZulfNd9\n",
              "2bJl2cCBA7Pt27dnNTU12Zw5c7Kf//znhRi52fmmsCr0d6tTgQ3gzTffjM6dO0dR0Rf/x3Uul4tu\n",
              "3brF5s2b6+y3efPm6N69e+39Hj16fGUf8pfvuv+nd999N+6999449dRTG2vMZiffdf/8889j+vTp\n",
              "sWjRIv8xbSL5rv1rr70Wbdq0iVNPPTXKysri3HPPjffff78QIzcL+a77hAkT4sQTT4xOnTpF586d\n",
              "Y8WKFfHrX/+6ECO3KIX+bhVWtFjbt2+PCRMmxNy5c2PIkCGFHqfZ+9WvfhWnn3569O3bt9CjtDi7\n",
              "d++Op556KhYtWhQvvfRSdOnSJX76058Weqxm74UXXoi1a9fG22+/He+8806cdNJJcdFFFxV6LBqY\n",
              "sGoAhx12WGzZsiV2794dEV9crLt58+bo1q1bnf26desWmzZtqr1fWVn5lX3IX77rHhGxY8eOGDdu\n",
              "XPzgBz+I2bNnN/aozUq+6/7ss8/GTTfdFD169IgRI0bE9u3bo0ePHo6c/A/q83fNqFGjokuXLpHL\n",
              "5eInP/lJrFy5shAjNwv5rvudd95Z+4sarVq1ivPOOy+eeeaZQozcohT6u1VYNYBDDjkkBg0aFHfd\n",
              "dVdERNx3333RtWvXOOKII+rs96Mf/SiWL18e7777bmRZFn/6059i0qRJhRi5Wch33Xfu3Bnjxo2L\n",
              "cePGxVVXXVWIUZuVfNe9oqIiNm3aFJWVlfH8889Hhw4dorKyMg4++OBCjN0s5Lv2P/7xj2PVqlWx\n",
              "ffv2iIh45JFHYuDAgY0+b3OR77r37Nkznn766fjss88iIuKhhx6K/v37N/q8LU3Bv1sb7WquFmbd\n",
              "unXZ8OHDsyOPPDIbPHhwtmbNmizLsmzq1KnZgw8+WLvf4sWLs549e2Y9e/bMLrjggtrfHuHbyWfd\n",
              "58+fnxUVFWUDBw6svc2fP7+QYzd5+f55/9K//vUvF68nku/a33nnnVm/fv2yAQMGZOPGjcs2b95c\n",
              "qJGbhXzW/dNPP82mTZuW9enTJxswYEA2ZsyY2t9I5tuZMWNG1qVLl6x169bZIYcckh1++OFZlu1d\n",
              "363+r0AAgEScCgQASERYAQAkIqwAABIRVgAAiQgrAIBEhBUAQCLCCgAgEWEFAJCIsAIASERYAQAk\n",
              "IqwAABL5P9KiSAQqrdubAAAAAElFTkSuQmCC\n",
              "\">\n",
              "      </div>\n",
              "      <script type=\"text/javascript\">\n",
              "        (() => {\n",
              "          const chartElement = document.getElementById(\"chart-e605943f-237a-4f9c-89ab-8c89cd8289f0\");\n",
              "          async function getCodeForChartHandler(event) {\n",
              "            const chartCodeResponse =  await google.colab.kernel.invokeFunction(\n",
              "                'getCodeForChart', [\"chart-e605943f-237a-4f9c-89ab-8c89cd8289f0\"], {});\n",
              "            const responseJson = chartCodeResponse.data['application/json'];\n",
              "            await google.colab.notebook.addCell(responseJson.code, 'code');\n",
              "          }\n",
              "          chartElement.onclick = getCodeForChartHandler;\n",
              "        })();\n",
              "      </script>\n",
              "      <style>\n",
              "        .colab-quickchart-chart-with-code  {\n",
              "            display: block;\n",
              "            float: left;\n",
              "            border: 1px solid transparent;\n",
              "        }\n",
              "\n",
              "        .colab-quickchart-chart-with-code:hover {\n",
              "            cursor: pointer;\n",
              "            border: 1px solid #aaa;\n",
              "        }\n",
              "      </style>"
            ],
            "text/plain": [
              "from matplotlib import pyplot as plt\n",
              "import seaborn as sns\n",
              "df.groupby('Prajyot').size().plot(kind='barh', color=sns.palettes.mpl_palette('Dark2'))\n",
              "plt.gca().spines[['top', 'right',]].set_visible(False)"
            ]
          },
          "metadata": {},
          "output_type": "display_data"
        },
        {
          "data": {
            "text/html": [
              "      <div class=\"colab-quickchart-chart-with-code\" id=\"chart-5ddd758b-b516-4014-9f2c-c25519a57538\">\n",
              "        <img style=\"width: 180px;\" src=\"data:image/png;base64,iVBORw0KGgoAAAANSUhEUgAAAjUAAAGZCAYAAABxI8CQAAAAOXRFWHRTb2Z0d2FyZQBNYXRwbG90\n",
              "bGliIHZlcnNpb24zLjcuMSwgaHR0cHM6Ly9tYXRwbG90bGliLm9yZy/bCgiHAAAACXBIWXMAAA9h\n",
              "AAAPYQGoP6dpAAAVd0lEQVR4nO3de5BWdf3A8c8jGKgJmGkgBhsCxnUxrqKmYCrjCDiUt2zKG2LT\n",
              "b0hopDTLDCdNLW10prBxBMdqLDUlL2mmmYoCjVwUpkJYWEUuXcxFzIVlz++Ppv3FT6pnYXcf+Ozr\n",
              "NbMzu+ecZ5/P8x2G5z3nnN0tFUVRBADAPm6/Sg8AANASRA0AkIKoAQBSEDUAQAqiBgBIQdQAACmI\n",
              "GgAgBVEDAKQgagCAFNpd1Hzve9+r9AgAQCtod1Gzbt26So8AALSCdhc1AEBOogYASEHUAAApiBoA\n",
              "IAVRAwCkIGoAgBREDQCQgqgBAFIQNQBACqIGAEhB1AAAKYgaACAFUQMApCBqAIAURA0AkIKoAQBS\n",
              "EDUAQAqiBgBIQdQAACmIGgAgBVEDAKQgagCAFEQNAJCCqAEAUhA1AEAKogYASEHUAAApiBoAIAVR\n",
              "AwCkIGoAgBREDQCQgqgBAFIQNQBACqIGAEhB1AAAKYgaACAFUQMApCBqAIAURA0AkIKoAQBSEDUA\n",
              "QAqiBgBIQdQAACmIGgAghVJRFEWlh2hLFw4qxZUjtRwAtKT+c3dUegRnagCAHEQNAJCCqAEAUhA1\n",
              "AEAKogYASEHUAAApiBoAIAVRAwCkIGoAgBREDQCQgqgBAFIQNQBACqIGAEhB1AAAKYgaACAFUQMA\n",
              "pCBqAIAURA0AkIKoAQBSEDUAQAqiBgBIQdQAACmIGgAgBVEDAKQgagCAFEQNAJCCqAEAUhA1AEAK\n",
              "ogYASEHUAAApiBoAIAVRAwCkIGoAgBREDQCQgqgBAFIQNQBACqIGAEhB1AAAKYgaACAFUQMApCBq\n",
              "AIAUWjVqqqqq4uijj47q6uro27dvTJ48ORYsWPBfH3fBBRfErbfeGhER3/jGN+Lyyy/f5XHz58+P\n",
              "GTNmtODEAMC+qmNrP8G9994bw4YNi4iIBx54IE4//fR4/PHHY/To0Xv8vSdNmhSTJk3a4+8DAOz7\n",
              "2vTy05QpU+Kyyy6Lm2++ObZv3x5f+cpXYtSoUTFs2LA4++yz480339zl4zZs2BATJ06MgQMHxvjx\n",
              "4+Ovf/1rRETMnTs3zjzzzDZ8BQDA3qrN76kZPXp0rFixIm666aY46KCDYtGiRbF06dIYMmRIXH31\n",
              "1bt8zMKFC2Pu3LmxcuXKOPzww2POnDllPVd9fX3U1dXt9LGjsSVfDQCwt2j1y0//X1EUERHx4IMP\n",
              "xltvvRX3339/RERs27YtqqqqdvmYCRMmxKGHHhoREccee2y8/PLLZT3X9ddfH9dee+1O26o/uJuD\n",
              "AwB7tTaPmsWLF8fgwYOjpqYmbrvttjj11FP/62M6d+7c9HmHDh2ioaGhrOe68sorY+bMmTtt+5/R\n",
              "XZs3MACwT2jTqHnooYfi+9//fjz++OPx5JNPxi233BLHH398HHjggfHOO+9ETU1NDBo0qMWer1On\n",
              "TtGpU6edtnXwQ+wAkFKrR80555wTnTt3jq1bt8bAgQPj0UcfjdGjR8fw4cOjvr4+Ro8eHaVSKSIi\n",
              "vvzlL7do1AAA7Uep+OdNLu3EhYNKceVIp2sAoCX1n7uj0iP4jcIAQA6iBgBIQdQAACmIGgAgBVED\n",
              "AKQgagCAFEQNAJCCqAEAUhA1AEAKogYASEHUAAApiBoAIAVRAwCkIGoAgBREDQCQgqgBAFIQNQBA\n",
              "CqIGAEhB1AAAKYgaACAFUQMApCBqAIAURA0AkIKoAQBSEDUAQAqiBgBIQdQAACmIGgAgBVEDAKQg\n",
              "agCAFEQNAJCCqAEAUhA1AEAKogYASEHUAAApiBoAIAVRAwCkIGoAgBREDQCQgqgBAFIQNQBACh0r\n",
              "PUBbO+S0GdH/u9+t9BgAQAtzpgYASEHUAAApiBoAIAVRAwCkIGoAgBREDQCQgqgBAFIQNQBACqIG\n",
              "AEhB1AAAKYgaACAFUQMApCBqAIAURA0AkIKoAQBSEDUAQAqiBgBIQdQAACmIGgAgBVEDAKQgagCA\n",
              "FEQNAJCCqAEAUhA1AEAKogYASEHUAAApiBoAIAVRAwCkIGoAgBREDQCQgqgBAFLoWO6B8+fP/4/7\n",
              "J02atMfDAADsrrKj5pZbbvm3+0qlkqgBACqq7Kh5+umnW3MOAIA9UnbUrFq1Kvr16xfLly/f5f6h\n",
              "Q4e22FAAAM1VdtTMmDEjHn744Zg8efJ79pVKpVizZk2LDgYA0BxlR83DDz8cERE1NTWtNgwAwO4q\n",
              "O2r+VWNjY2zcuDEaGhqatvXq1avFhgIAaK5mR83cuXNj+vTpsf/++8d++/3j19yUSqXYvHlziw8H\n",
              "AFCuZkfN7NmzY/HixXH00Ue3xjwAALul2b9R+IMf/KCgAQD2OmVHTV1dXdTV1cWZZ54Zt956a2ze\n",
              "vLlpW11dXWvOCADwX5V9+albt25RKpWiKIqIiJg5c2bTvlKpFDt27Gj56QAAylR21DQ2NrbmHAAA\n",
              "e6TZ99S89tprsW3btoiIeP755+P222+PLVu2tPhgAADN0eyomTx5cjQ2Nsb69evj3HPPjeeffz4u\n",
              "uuii1pgNAKBszY6aiIjOnTvHI488EtOmTYuf/OQn8cc//rGl5wIAaJZmR019fX3U19fHr371qxg3\n",
              "blxrzAQA0GzNjprzzjsvunfvHrW1tTF27NjYsGFDHHjgga0xGwBA2ZodNVdffXXU1NTECy+8EKVS\n",
              "KQ4++OC47777WmM2AICyNfvPJPz2t7/d5faePXvu8TAAALur2VHzpS99qenzd999N/7whz/E4MGD\n",
              "46WXXmrRwQAAmqPZUbN48eKdvl60aFHMnTu3peYBANgtu/Uj3f9q1KhR8cILL7TELAAAu63ZZ2qW\n",
              "L1/e9PmOHTvixRdfjO3bt7foUAAAzdXsqJk8eXLT5/vvv3/07ds35s2b16JDAQA0V7OjpqamJiIi\n",
              "Vq9eHfPnz4++ffvG8OHDW3wwAIDmKPuemk984hOxdOnSiIh44403YuTIkfHEE0/ErFmz4tvf/nZr\n",
              "zQcAUJayo2b9+vUxbNiwiIj48Y9/HCeeeGI89thjsWDBgvjRj37UWvMBAJSl7Kg54IADmj5fsGBB\n",
              "nH766RERccghh0THjs2+igUA0KLKjpr99tsvXn/99Xj77bfjmWeeiRNPPLFp3zvvvNMqwwEAlKvs\n",
              "UyxXXXVVHHPMMdGxY8cYN25c9O/fPyL+cdamqqqqteYDAChL2VEzZcqUGDt2bGzatCmGDh3atL2q\n",
              "qiruuOOOVhkOAKBczboZpnv37tG9e/edth1xxBEtOhAAwO7Y4z+TAACwNxA1AEAKogYASEHUAAAp\n",
              "iBoAIAVRAwCkIGoAgBREDQCQgqgBAFIQNQBACqIGAEhB1AAAKYgaACAFUQMApCBqAIAURA0AkIKo\n",
              "AQBSEDUAQAqiBgBIQdQAACmIGgAgBVEDAKQgagCAFEQNAJCCqAEAUhA1AEAKogYASEHUAAAplIqi\n",
              "KCo9RFt6/2kjo9u5J1d6DABI5fULb6j0CM7UAAA5iBoAIAVRAwCkIGoAgBREDQCQgqgBAFIQNQBA\n",
              "CqIGAEhB1AAAKYgaACAFUQMApCBqAIAURA0AkIKoAQBSEDUAQAqiBgBIQdQAACmIGgAgBVEDAKQg\n",
              "agCAFEQNAJCCqAEAUhA1AEAKogYASEHUAAApiBoAIAVRAwCkIGoAgBREDQCQgqgBAFIQNQBACqIG\n",
              "AEhB1AAAKYgaACAFUQMApCBqAIAURA0AkIKoAQBSEDUAQAqiBgBIQdQAACm0atRMnz49qqqqolQq\n",
              "xdKlS5u2//KXv4wRI0bE0KFDY8yYMbFs2bKmfYsWLYoxY8bEMcccEwMGDIgbb7yxad+qVavilFNO\n",
              "ierq6hg0aFDce++9rTk+ALAPadWo+dSnPhXPPfdc9O7du2nbm2++Geeff37Mmzcvli9fHjfddFOc\n",
              "f/75TfsvvfTSuOqqq2LJkiXx/PPPx8033xwrV66MiIgLLrggzjnnnFi2bFn85je/iVmzZsX69etb\n",
              "8yUAAPuIVo2aj3/843HkkUfutG316tVx6KGHxqBBgyIi4oQTToja2tp46aWXIiKiVCrF3/72t4iI\n",
              "2Lp1a7zvfe+LD3zgAxERsWzZsjj99NMjIuKwww6L6upqZ2sAgIiowD01/fr1i7/85S+xYMGCiIiY\n",
              "P39+bNmyJdauXRsREXfddVd87Wtfi169ekX//v3jW9/6VnTv3j0iIoYPHx733HNPRESsWbMmFixY\n",
              "0PS4Xamvr4+6urqdPmJH0aqvDwCojDaPmq5du8Z9990XV155ZQwfPjyeeOKJGDhwYHTs2DEiIm64\n",
              "4Ya4/vrro7a2NlasWBFf/epXmy4/zZs3LxYuXBjDhg2LGTNmxMknn9z0uF25/vrro2vXrjt9bKvZ\n",
              "0CavEwBoW6WiKFr91EVVVVU8+OCDMWzYsPfsq6+vj+7du8fixYujW7du0bNnz6ivr2/af9ZZZ8Wp\n",
              "p54aU6dOfc9jJ0yYEGeddVZcfPHFu3ze+vr6nb5XRMQRU8ZHt/M/sWcvCADYyesX3lDpESrzI90b\n",
              "Nvzf2ZLZs2fH+PHjo2/fvnHIIYfEQQcdFE899VRERPz5z3+OhQsXxuDBgyMiYtOmTdHY2BgREY8/\n",
              "/nisXLkyPv3pT//b5+nUqVN06dJlp4/oUGrFVwYAVMq/v3bTAqZNmxaPPPJIbNy4MU477bQ4+OCD\n",
              "49VXX42vf/3r8eyzz0ZDQ0Mce+yxceedd0ZERIcOHeKnP/1pXHHFFdHQ0BDbt2+Pyy+/PI499tiI\n",
              "iPjFL34RN9xwQ3To0CGOOOKIePTRR+OAAw5ozZcAAOwj2uTy097k/aeNjG7nnlzpMQAglXZ7+QkA\n",
              "oKWJGgAgBVEDAKQgagCAFEQNAJCCqAEAUhA1AEAKogYASEHUAAApiBoAIAVRAwCkIGoAgBREDQCQ\n",
              "gqgBAFIQNQBACqIGAEhB1AAAKYgaACAFUQMApCBqAIAURA0AkIKoAQBSEDUAQAqiBgBIQdQAACmI\n",
              "GgAgBVEDAKQgagCAFEQNAJCCqAEAUhA1AEAKogYASEHUAAApiBoAIAVRAwCkIGoAgBREDQCQgqgB\n",
              "AFIQNQBACqIGAEhB1AAAKXSs9ABt7dJBJ8R3L7yh0mMAAC3MmRoAIAVRAwCkIGoAgBREDQCQgqgB\n",
              "AFIQNQBACqIGAEhB1AAAKYgaACAFUQMApCBqAIAURA0AkIKoAQBSEDUAQAqiBgBIQdQAACmIGgAg\n",
              "BVEDAKQgagCAFEQNAJCCqAEAUhA1AEAKogYASEHUAAApiBoAIAVRAwCkIGoAgBREDQCQgqgBAFIQ\n",
              "NQBACqIGAEhB1AAAKYgaACAFUQMApCBqAIAURA0AkIKoAQBSEDUAQAqiBgBIQdQAACmIGgAgBVED\n",
              "AKQgagCAFEQNAJCCqAEAUuhY6QHaUn19fTz22GOxY8eO6NChQ6XHaTd27NgRixYtilGjRln3Nmbt\n",
              "K8O6V461r4y2WPfevXvHF7/4xf94TKkoiqJVnn0vVFdXF127do233norunTpUulx2g3rXjnWvjKs\n",
              "e+VY+8rYW9bd5ScAIAVRAwCkIGoAgBTaVdR06tQprrnmmujUqVOlR2lXrHvlWPvKsO6VY+0rY29Z\n",
              "93Z1ozAAkFe7OlMDAOQlagCAFEQNAJBCyqhZtWpVjB07Nvr37x8jR46MFStW7PK4O++8M/r16xdH\n",
              "HXVUTJ06NbZv397Gk+ZSzro/9dRTMWrUqBg4cGAMGjQoZs2aFY2NjRWYNpdy/81HRBRFEePHj49u\n",
              "3bq13YBJlbvuL7/8cpx00kkxYMCAGDBgQDzwwANtPGk+5ax9Y2NjzJw5MwYOHBhDhw6NcePGxauv\n",
              "vlqBafOYPn16VFVVRalUiqVLl/7b4yr2/lokNG7cuOKuu+4qiqIofvaznxUjRox4zzFr1qwpevTo\n",
              "UWzYsKFobGwsJk6cWNx+++1tPGku5az7Sy+9VKxevbooiqL4+9//Xhx33HFNj2H3lbP2//Sd73yn\n",
              "uOSSS4quXbu2zXCJlbPuW7duLT7ykY8Uzz77bFEURdHQ0FBs3ry5LcdMqZy1//nPf16MGjWq2LZt\n",
              "W1EURTF79uzirLPOassx03nmmWeK1157rejdu3exZMmSXR5TyffXdFGzadOm4uCDDy62b99eFEVR\n",
              "NDY2Fh/60IeKVatW7XTcjTfeWEybNq3p60ceeaQ47rjj2nTWTMpd9//vC1/4QnHNNde0wYR5NWft\n",
              "X3nlleKEE04oXn31VVGzh8pd9x/+8IfFeeedV4kR0yp37R988MGiurq6qKurKxobG4srrriimDFj\n",
              "RiVGTuc/RU0l31/TXX567bXXokePHtGx4z/+VmepVIpevXpFbW3tTsfV1tZG7969m76uqqp6zzGU\n",
              "r9x1/1cbN26M++67L84444y2GjOlctd++/btMXXq1JgzZ44/9NcCyl33lStXRqdOneKMM86IYcOG\n",
              "xWc/+9n405/+VImR0yh37SdOnBgnnXRSdO/ePXr06BG//vWv45vf/GYlRm5XKvn+mi5q2DfU1dXF\n",
              "xIkTY9asWTFixIhKj9MuXHvttTFlypQYMGBApUdpVxoaGuLJJ5+MOXPmxJIlS6Jnz57x+c9/vtJj\n",
              "tQu/+93v4pVXXon169fHG2+8ESeffHJcdtlllR6LVpQuaj784Q/Hhg0boqGhISL+cVNkbW1t9OrV\n",
              "a6fjevXqFevWrWv6eu3ate85hvKVu+4REVu2bIkJEybE5MmTY+bMmW09ajrlrv0zzzwTt912W1RV\n",
              "VcXxxx8fdXV1UVVV5azBbmrO/zXjxo2Lnj17RqlUis985jPx4osvVmLkNMpd+7vvvrvppvj99tsv\n",
              "Pve5z8XTTz9diZHblUq+v6aLmsMPPzw+9rGPxT333BMREffff38ceeSR0bdv352O++QnPxnz58+P\n",
              "jRs3RlEU8YMf/CDOPffcSoycQrnr/vbbb8eECRNiwoQJcfXVV1di1HTKXftnn3021q1bF2vXro3n\n",
              "nnsuunTpEmvXro3DDjusEmPv88pd97PPPjsWL14cdXV1ERHx6KOPRnV1dZvPm0m5a9+nT5946qmn\n",
              "Ytu2bRER8fDDD8fgwYPbfN72pqLvr21y504b+/3vf1+MGTOm6NevXzF8+PBi+fLlRVEUxcUXX1w8\n",
              "9NBDTcfdcccdRZ8+fYo+ffoUF110UdMd8uyectb9uuuuKzp27FhUV1c3fVx33XWVHDuFcv/N/1NN\n",
              "TY0bhVtAuet+9913F4MGDSqGDBlSTJgwoaitra3UyGmUs/bvvvtucckllxQf/ehHiyFDhhSnnHJK\n",
              "009fsnsuvfTSomfPnkWHDh2Kww8/vDjqqKOKoth73l/97ScAIIV0l58AgPZJ1AAAKYgaACAFUQMA\n",
              "pCBqAIAURA0AkIKoAQBSEDUAQAqiBgBIQdQAACmIGgAghf8FA+zQoiZBlfAAAAAASUVORK5CYII=\n",
              "\">\n",
              "      </div>\n",
              "      <script type=\"text/javascript\">\n",
              "        (() => {\n",
              "          const chartElement = document.getElementById(\"chart-5ddd758b-b516-4014-9f2c-c25519a57538\");\n",
              "          async function getCodeForChartHandler(event) {\n",
              "            const chartCodeResponse =  await google.colab.kernel.invokeFunction(\n",
              "                'getCodeForChart', [\"chart-5ddd758b-b516-4014-9f2c-c25519a57538\"], {});\n",
              "            const responseJson = chartCodeResponse.data['application/json'];\n",
              "            await google.colab.notebook.addCell(responseJson.code, 'code');\n",
              "          }\n",
              "          chartElement.onclick = getCodeForChartHandler;\n",
              "        })();\n",
              "      </script>\n",
              "      <style>\n",
              "        .colab-quickchart-chart-with-code  {\n",
              "            display: block;\n",
              "            float: left;\n",
              "            border: 1px solid transparent;\n",
              "        }\n",
              "\n",
              "        .colab-quickchart-chart-with-code:hover {\n",
              "            cursor: pointer;\n",
              "            border: 1px solid #aaa;\n",
              "        }\n",
              "      </style>"
            ],
            "text/plain": [
              "from matplotlib import pyplot as plt\n",
              "import seaborn as sns\n",
              "df.groupby('Sushil').size().plot(kind='barh', color=sns.palettes.mpl_palette('Dark2'))\n",
              "plt.gca().spines[['top', 'right',]].set_visible(False)"
            ]
          },
          "metadata": {},
          "output_type": "display_data"
        },
        {
          "data": {
            "text/html": [
              "      <div class=\"colab-quickchart-chart-with-code\" id=\"chart-c9b3550f-c811-4c6f-bdbf-37571b2f03dc\">\n",
              "        <img style=\"width: 180px;\" src=\"data:image/png;base64,iVBORw0KGgoAAAANSUhEUgAAAlEAAAGZCAYAAACpL2SaAAAAOXRFWHRTb2Z0d2FyZQBNYXRwbG90\n",
              "bGliIHZlcnNpb24zLjcuMSwgaHR0cHM6Ly9tYXRwbG90bGliLm9yZy/bCgiHAAAACXBIWXMAAA9h\n",
              "AAAPYQGoP6dpAAAXS0lEQVR4nO3de5CVdf3A8c/C5ooiYHgBJVjkklzkriCg7iIFpo7kpTDNxkLF\n",
              "LiqUODhOWjJpTdmgzqSoeRljxkS8pTillOmQpqOo5EhCLKsmyg8NMO7s8/vDaX/tL212P7J7luX1\n",
              "mjkzu895zjmf8x2G857neXa3rCiKIgAAaJJ2pR4AAGB3JKIAABJEFABAgogCAEgQUQAACSIKACBB\n",
              "RAEAJIgoAIAEEQUAkCCimtncuXNLPQIA0AxEVDNbvXp1qUcAAJqBiAIASBBRAAAJIgoAIEFEAQAk\n",
              "iCgAgAQRBQCQIKIAABJEFABAgogCAEgQUQAACSIKACBBRAEAJIgoAIAEEQUAkCCiAAASRBQAQIKI\n",
              "AgBIEFEAAAkiCgAgQUQBACSIKACABBEFAJAgogAAEkQUAECCiAIASBBRAAAJIgoAIEFEAQAkiCgA\n",
              "gAQRBQCQIKIAABJEFABAgogCAEgQUQAACSIKACBBRAEAJIgoAIAEEQUAkCCiAAASRBQAQIKIAgBI\n",
              "EFEAAAkiCgAgQUQBACSUFUVRlHqItuzcQWUx+0itCgC7Uv87dpZ6BEeiAAAyRBQAQIKIAgBIEFEA\n",
              "AAkiCgAgQUQBACSIKACABBEFAJAgogAAEkQUAECCiAIASBBRAAAJIgoAIEFEAQAkiCgAgAQRBQCQ\n",
              "IKIAABJEFABAgogCAEgQUQAACSIKACBBRAEAJIgoAIAEEQUAkCCiAAASRBQAQIKIAgBIEFEAAAki\n",
              "CgAgQUQBACSIKACABBEFAJAgogAAEkQUAECCiAIASBBRAAAJIgoAIEFEAQAkiCgAgAQRBQCQIKIA\n",
              "ABKaNaIqKytj6dKlERGxZcuWOOWUU+KMM86Ibdu2NefLRkTEHXfcEa+99lqj9r3qqqvikksuad6B\n",
              "AIA2pUWORG3cuDFOOOGEOPjgg+Oee+6Jvfbaq1GP27FjR/o1mxJRAABN1ewRtW7dupgwYUKMHj06\n",
              "5s2bF+3atYuzzjorRo0aFUOGDIkTTzwx1qxZExERNTU10aVLl7jssstixIgRceONN0ZVVVV873vf\n",
              "i2OOOSb69OkT06dPr3/u+fPnx+jRo2P48OExdOjQePjhhyMi4tZbb43nn38+ZsyYEcOGDYtHH300\n",
              "XnnllRg/fnyMGDEiBg4cGHPmzPnIeV999dUYPHhwLFq0KNasWRPV1dUxcuTIGDRoUHz729+Ourq6\n",
              "5l4yAGA3UFYURdFcT15ZWRkffPBBnHfeeXHNNdfUb1+7dm0ceOCBERFx7bXXRk1NTdx0001RU1MT\n",
              "vXv3jjvvvDPOOeeciIioqqqK/fffP+69997Yvn17DBw4MObPnx9HH310rFu3Lj796U9HWVlZ1NTU\n",
              "xJgxY2L16tVRUVERVVVVcckll8SUKVMi4sOjYXvttVdUVFTE5s2bY+zYsfGLX/wixowZE1dddVX8\n",
              "4x//iClTpsQ3v/nNuPvuu2PEiBGxZcuW2LFjR3Ts2DF27twZp5xySpx99tkxderUj3y/W7duja1b\n",
              "tzbY9u3RneOK0S49A4Bdqf8dO0s9QvMfiTrxxBNjwYIF8cYbb9Rvmz9/fowaNSoGDx4ct956a/11\n",
              "UxERn/rUp+Lss89u8Bxf/vKXo7y8PDp06BDDhg2LlStXRkTEqlWr4oQTTojBgwfHlClT4r333otV\n",
              "q1Z95BybN2+OadOmxRFHHFEfW//+uosXL47p06fHY489FiNGjIiIiLq6urjsssti6NChMXz48Hj+\n",
              "+ecbPOb/u+aaa6Jz584Nbi//TxMXDADYLTR7RM2YMSMuvPDCqKqqitra2nj66afj+uuvj0cffTSW\n",
              "LVsW1113XWzZsqV+/3322SfatWs41t57713/dfv27euvlZo6dWpMmzYtli1bFkuXLo2OHTs2eK5/\n",
              "d/nll8cBBxwQL774Yrz00ktRVVXVYN++fftGu3bt4plnnqnfdt1118W7774bzz77bLz88svxla98\n",
              "5WOfPyJi9uzZsX79+ga3IQc0bb0AgN1Di5xnmjlzZnznO9+JqqqqWLlyZey3337RtWvX2LZtW9x8\n",
              "883p533//fejd+/eERFx9913x/vvv19/X6dOnWL9+vUN9u3Ro0eUl5fH8uXL43e/+12D5+rZs2c8\n",
              "8cQTMWfOnLj99tvrH9OtW7fYe++9Y82aNXHvvff+13kqKiqiU6dODW7tnckDgDapvKVe6JJLLol2\n",
              "7drF5ZdfHuPHj4/Pfvaz0bVr15g4cWK89dZbqeecO3dunH766dGlS5eYMGFC9OzZs/6+888/P777\n",
              "3e/Gz3/+8/jRj34UV1xxRXz1q1+NO++8M/r06RMTJkz4j+fr3r17LF68OCZPnhwbN26Miy++OE4/\n",
              "/fQYNGhQHHLIITFx4sT0+wcA2pZmvbCciHMHlcXsIx2OAoBdaY+4sBwAoC0SUQAACSIKACBBRAEA\n",
              "JIgoAIAEEQUAkCCiAAASRBQAQIKIAgBIEFEAAAkiCgAgQUQBACSIKACABBEFAJAgogAAEkQUAECC\n",
              "iAIASBBRAAAJIgoAIEFEAQAkiCgAgAQRBQCQIKIAABJEFABAgogCAEgQUQAACSIKACBBRAEAJIgo\n",
              "AIAEEQUAkCCiAAASRBQAQIKIAgBIEFEAAAkiCgAgQUQBACSIKACABBEFAJAgogAAEkQUAECCiAIA\n",
              "SCgv9QBt3f6TZkT/664r9RgAwC7mSBQAQIKIAgBIEFEAAAkiCgAgQUQBACSIKACABBEFAJAgogAA\n",
              "EkQUAECCiAIASBBRAAAJIgoAIEFEAQAkiCgAgAQRBQCQIKIAABJEFABAgogCAEgQUQAACSIKACBB\n",
              "RAEAJIgoAIAEEQUAkCCiAAASRBQAQIKIAgBIEFEAAAkiCgAgQUQBACSIKACABBEFAJAgogAAEkQU\n",
              "AECCiAIASChv6gNqa2s/cnvPnj0/8TAAALuLJkfUyJEjo6ysLIqiiC1btsSmTZuia9eu8e677zbH\n",
              "fAAArVKTI2rt2rUNvl+4cGG89NJLu2wgAIDdwSe+JurUU0+NRx55ZFfMAgCw22jykagNGzbUf71z\n",
              "58549tlnG2wDANgTNDmiunTpUn9NVPv27aNfv35x/fXXN8dsAACtVpMjqq6urjnmAADYrfg9UQAA\n",
              "CU2OqEWLFsXhhx8ee+21V7Rv3z7atWsX7du3b47ZAABarSafzrv44ovjhhtuiKOPPlo8AQB7rCZH\n",
              "VKdOnWLSpEnNMQsAwG6jyafzTjrppHjggQeaYRQAgN1Hk49EzZ07N9avXx8dOnSIioqKKIoiysrK\n",
              "4r333muO+QAAWqUmR9TSpUubYQwAgN1LkyOqV69esWnTpvqYGjZsWOyzzz67ei4AgFatyRG1ZMmS\n",
              "OO2006Jbt24REfHOO+/EfffdF0cfffQuHw4AoLVqckTNnDkzFixYEOPGjYuID6NqxowZ8cwzz+zy\n",
              "4QAAWqsm/3Te5s2b6wMqImLs2LGxZcuWXToUAEBr1+SI6tixYzz++OP13z/xxBOx77777tKhAABa\n",
              "u9SvODjttNPqf1t5XV1dLFy4cJcPBgDQmjU5okaNGhUrVqyI5cuXx8KFC2P48OExYsSI5pgNAKDV\n",
              "avTpvIkTJ9b/WoO1a9fGscceG3/6059i1qxZ8eMf/7i55gMAaJUaHVFvvfVWDBs2LCIi5s+fH8cd\n",
              "d1wsWrQolixZEr/61a+aaz4AgFap0RHVoUOH+q+XLFkSX/jCFyIiYv/994/y8iafFQQA2K01OqLa\n",
              "tWsXb775ZnzwwQfx5JNPxnHHHVd/36ZNm5plOACA1qrRh5Auv/zyGD58eJSXl0d1dXX0798/Ij48\n",
              "KlVZWdlc8wEAtEqNjqhTTz01xo4dG++8804MGTKkfntlZWXMmzevWYYDAGitmnQxU7du3er/Zt6/\n",
              "HHLIIbt0IACA3UGTf2M5AAAiCgAgRUQBACSIKACABBEFAJAgogAAEkQUAECCiAIASBBRAAAJIgoA\n",
              "IEFEAQAkiCgAgAQRBQCQIKIAABJEFABAgogCAEgQUQAACSIKACBBRAEAJIgoAIAEEQUAkCCiAAAS\n",
              "RBQAQIKIAgBIEFEAAAkiCgAgQUQBACSIKACABBEFAJAgogAAEsqKoihKPURb1nHSkdFl6vGlHgMA\n",
              "2pQ3z7221CM4EgUAkCGiAAASRBQAQIKIAgBIEFEAAAkiCgAgQUQBACSIKACABBEFAJAgogAAEkQU\n",
              "AECCiAIASBBRAAAJIgoAIEFEAQAkiCgAgAQRBQCQIKIAABJEFABAgogCAEgQUQAACSIKACBBRAEA\n",
              "JIgoAIAEEQUAkCCiAAASRBQAQIKIAgBIEFEAAAkiCgAgQUQBACSIKACABBEFAJAgogAAEkQUAECC\n",
              "iAIASBBRAAAJIgoAIEFEAQAkiCgAgAQRBQCQ0KYi6qKLLorKysooKyuLpUuX1m9/7LHHYtSoUTFk\n",
              "yJAYM2ZMvPTSS/X3PffcczFu3LgYOnRoDBs2LBYvXlx/36ZNm+LMM8+Mvn37Rv/+/WPBggUt+XYA\n",
              "gFasvNQD7Eqnn356zJo1K8aPH1+/7f3334+zzjor/vjHP8agQYPiqaeeirPOOiuWLVsWRVHEF7/4\n",
              "xbjjjjti4sSJ8de//jUmTpwYy5cvjw4dOsRPf/rTqKioiBUrVsSqVati9OjRUV1dHV27di3huwQA\n",
              "WoM2dSTq2GOPjR49ejTYtnLlyujatWsMGjQoIiKOOeaYqK2tjRdeeCHWrVsXa9eujYkTJ0ZERP/+\n",
              "/aNLly6xaNGiiIi45557Yvr06RER0bt376iqqor777+/Bd8RANBatamI+ij9+vWLdevWxZIlSyIi\n",
              "4qGHHoqNGzdGTU1NHHDAAdG9e/f49a9/HREfntpbvnx51NTUREREbW1t9OrVq/65Kisro7a29mNf\n",
              "a+vWrbFhw4YGt9hZNN+bAwBKps1HVOfOnWPBggUxe/bsGDlyZPz2t7+NgQMHRnn5h2cyH3zwwfjl\n",
              "L38Zw4cPj7lz58b48ePr72uqa665Jjp37tzgtm3V27vy7QAArUSbuibq41RXV0d1dXVEfHi0qFu3\n",
              "bjFw4MCIiBg6dGg89thj9fsOGDCg/tRfz549Y/Xq1dG9e/eIiKipqYnPf/7zH/s6s2fPjpkzZzbY\n",
              "dsipE3bpewEAWoc2fyQqIuLtt//vaNDVV18dEyZMiL59+/7Hfbfcckvsu+++MWHCh+FzxhlnxE03\n",
              "3RQREatWrYo//OEPMWXKlI99nYqKiujUqVODW7Qva4Z3BACUWpuKqAsuuCB69OgRb775ZkyaNKk+\n",
              "lL7//e/H4YcfHn379o3Vq1fHbbfdVv+YefPmRf/+/aNfv37x8MMPx/333x9lZR+Gz6WXXhqbN2+O\n",
              "Pn36xKRJk+LGG2+MAw44oCTvDQBoXcqKonDlczPqOOnI6DL1+FKPAQBtypvnXlvqEdrWkSgAgJYi\n",
              "ogAAEkQUAECCiAIASBBRAAAJIgoAIEFEAQAkiCgAgAQRBQCQIKIAABJEFABAgogCAEgQUQAACSIK\n",
              "ACBBRAEAJIgoAIAEEQUAkCCiAAASRBQAQIKIAgBIEFEAAAkiCgAgQUQBACSIKACABBEFAJAgogAA\n",
              "EkQUAECCiAIASBBRAAAJIgoAIEFEAQAkiCgAgAQRBQCQIKIAABJEFABAgogCAEgQUQAACSIKACBB\n",
              "RAEAJIgoAIAEEQUAkFBe6gHauvMHHRPXnXttqccAAHYxR6IAABJEFABAgogCAEgQUQAACSIKACBB\n",
              "RAEAJIgoAIAEEQUAkCCiAAASRBQAQIKIAgBIEFEAAAkiCgAgQUQBACSIKACABBEFAJAgogAAEkQU\n",
              "AECCiAIASBBRAAAJIgoAIEFEAQAkiCgAgAQRBQCQIKIAABJEFABAgogCAEgQUQAACSIKACBBRAEA\n",
              "JIgoAIAEEQUAkCCiAAASRBQAQIKIAgBIEFEAAAkiCgAgQUQBACSIKACABBEFAJAgogAAEkQUAECC\n",
              "iAIASBBRAAAJIgoAIKG81AO0ZVu3bo1FixbFzp07o3379qUeZ4+xc+fO+POf/xxHHXWUdW9h1r40\n",
              "rHvpWPvSaIl179WrV1x88cX/dZ+yoiiKZnl1YsOGDdG5c+dYv359dOrUqdTj7DGse+lY+9Kw7qVj\n",
              "7Uujtay703kAAAkiCgAgQUQBACSIqGZUUVERV155ZVRUVJR6lD2KdS8da18a1r10rH1ptJZ1d2E5\n",
              "AECCI1EAAAkiCgAgQUQBACSIqF3g9ddfj7Fjx0b//v3jyCOPjL/85S8fud9tt90W/fr1iz59+sR5\n",
              "550X27dvb+FJ25bGrPvixYvjqKOOioEDB8agQYNi1qxZUVdXV4Jp25bG/puPiCiKIiZMmBBdunRp\n",
              "uQHbqMau+yuvvBJVVVUxYMCAGDBgQCxcuLCFJ217GrP2dXV1MXPmzBg4cGAMGTIkqqurY8WKFSWY\n",
              "tm246KKLorKyMsrKymLp0qUfu19JP1sLPrHq6uri9ttvL4qiKO69995i1KhR/7HP3/72t6J79+7F\n",
              "22+/XdTV1RUnn3xyceONN7bwpG1LY9b9hRdeKFauXFkURVFs3ry5GDduXP1jyGvM2v/Lz372s2La\n",
              "tGlF586dW2a4Nqwx6/7Pf/6z6N27d/HUU08VRVEUO3bsKN59992WHLNNasza33///cVRRx1VbNu2\n",
              "rSiKorj66quLM844oyXHbFOefPLJ4o033ih69epVvPjiix+5T6k/W0XUJ/TOO+8U++23X7F9+/ai\n",
              "KIqirq6uOPjgg4vXX3+9wX4/+clPigsuuKD++0ceeaQYN25ci87aljR23f+/b33rW8WVV17ZAhO2\n",
              "XU1Z+2XLlhXHHHNMsWLFChH1CTV23W+55ZbizDPPLMWIbVZj1/6BBx4ohg4dWmzYsKGoq6srLr30\n",
              "0mLGjBmlGLlN+W8RVerPVqfzPqE33ngjunfvHuXlH/4t57KysujZs2fU1tY22K+2tjZ69epV/31l\n",
              "ZeV/7EPjNXbd/92aNWtiwYIFcdJJJ7XUmG1SY9d++/btcd5558XNN9/sD7PuAo1d91dffTUqKiri\n",
              "pJNOimHDhsU555wTa9euLcXIbUZj1/7kk0+Oqqqq6NatW3Tv3j2eeOKJ+OEPf1iKkfcYpf5sFVHs\n",
              "ETZs2BAnn3xyzJo1K0aNGlXqcfYIP/jBD+LUU0+NAQMGlHqUPcqOHTvi8ccfj5tvvjlefPHFOPTQ\n",
              "Q+PCCy8s9Vh7hOeffz6WLVsWb731Vvz973+P448/PqZPn17qsWhGIuoT+sxnPhNvv/127NixIyI+\n",
              "vIi2trY2evbs2WC/nj17xurVq+u/r6mp+Y99aLzGrntExMaNG2Py5MlxyimnxMyZM1t61DansWv/\n",
              "5JNPxg033BCVlZUxfvz42LBhQ1RWVjoqktSU/2uqq6vj0EMPjbKysjj77LPjmWeeKcXIbUZj1/6u\n",
              "u+6q/yGKdu3axde+9rX4/e9/X4qR9xil/mwVUZ/QQQcdFCNGjIi77747IiLuu+++6NGjR/Tt27fB\n",
              "fqeddlo89NBDsWbNmiiKIm666aaYOnVqKUZuExq77h988EFMnjw5Jk+eHFdccUUpRm1zGrv2Tz31\n",
              "VKxevTpqamri6aefjk6dOkVNTU0ceOCBpRh7t9fYdf/Sl74Uzz33XGzYsCEiIh599NEYOnRoi8/b\n",
              "ljR27Q877LBYvHhxbNu2LSIifvOb38TgwYNbfN49Sck/W1vs6qs27LXXXivGjBlT9OvXrxg5cmTx\n",
              "8ssvF0VRFN/4xjeKBx98sH6/efPmFYcddlhx2GGHFV//+tfrf4KDnMas+5w5c4ry8vJi6NCh9bc5\n",
              "c+aUcuw2obH/5v9l1apVLizfBRq77nfddVcxaNCg4ogjjigmT55c1NbWlmrkNqMxa79ly5Zi2rRp\n",
              "xeGHH14cccQRxec+97n6nw6m6c4///zi0EMPLdq3b18cdNBBRZ8+fYqiaF2frf52HgBAgtN5AAAJ\n",
              "IgoAIEFEAQAkiCgAgAQRBQCQIKIAABJEFABAgogCAEgQUQAACSIKACBBRAEAJPwvJYquKH2eZOMA\n",
              "AAAASUVORK5CYII=\n",
              "\">\n",
              "      </div>\n",
              "      <script type=\"text/javascript\">\n",
              "        (() => {\n",
              "          const chartElement = document.getElementById(\"chart-c9b3550f-c811-4c6f-bdbf-37571b2f03dc\");\n",
              "          async function getCodeForChartHandler(event) {\n",
              "            const chartCodeResponse =  await google.colab.kernel.invokeFunction(\n",
              "                'getCodeForChart', [\"chart-c9b3550f-c811-4c6f-bdbf-37571b2f03dc\"], {});\n",
              "            const responseJson = chartCodeResponse.data['application/json'];\n",
              "            await google.colab.notebook.addCell(responseJson.code, 'code');\n",
              "          }\n",
              "          chartElement.onclick = getCodeForChartHandler;\n",
              "        })();\n",
              "      </script>\n",
              "      <style>\n",
              "        .colab-quickchart-chart-with-code  {\n",
              "            display: block;\n",
              "            float: left;\n",
              "            border: 1px solid transparent;\n",
              "        }\n",
              "\n",
              "        .colab-quickchart-chart-with-code:hover {\n",
              "            cursor: pointer;\n",
              "            border: 1px solid #aaa;\n",
              "        }\n",
              "      </style>"
            ],
            "text/plain": [
              "from matplotlib import pyplot as plt\n",
              "import seaborn as sns\n",
              "df.groupby('Sonu').size().plot(kind='barh', color=sns.palettes.mpl_palette('Dark2'))\n",
              "plt.gca().spines[['top', 'right',]].set_visible(False)"
            ]
          },
          "metadata": {},
          "output_type": "display_data"
        },
        {
          "data": {
            "text/html": [
              "<h4 class=\"colab-quickchart-section-title\">2-d categorical distributions</h4>\n",
              "<style>\n",
              "  .colab-quickchart-section-title {\n",
              "      clear: both;\n",
              "  }\n",
              "</style>"
            ],
            "text/plain": [
              "<google.colab._quickchart_helpers.SectionTitle at 0x7d8817b35720>"
            ]
          },
          "metadata": {},
          "output_type": "display_data"
        },
        {
          "data": {
            "text/html": [
              "      <div class=\"colab-quickchart-chart-with-code\" id=\"chart-4842423d-0910-4755-b393-d792608bf5d7\">\n",
              "        <img style=\"width: 180px;\" src=\"data:image/png;base64,iVBORw0KGgoAAAANSUhEUgAAAooAAAKfCAYAAADpb+mkAAAAOXRFWHRTb2Z0d2FyZQBNYXRwbG90\n",
              "bGliIHZlcnNpb24zLjcuMSwgaHR0cHM6Ly9tYXRwbG90bGliLm9yZy/bCgiHAAAACXBIWXMAAA9h\n",
              "AAAPYQGoP6dpAAA7sklEQVR4nO3de3QV5b3G8WcSZEvRRFFogpskB5IQueWC8VgRUIECuohy6RHB\n",
              "9kRJDIe20ENRmyoC3uJpvXFUCmhAj7ZUDKgpq7VeSttQvKAhoMgtQEhAbiImXDdJ9pw/WO7VXV4l\n",
              "G2bYMHw/XbNW9szsed89XbY/n3fedyzbtm0BAAAA/yIm2h0AAADAmYlCEQAAAEYUigAAADCiUAQA\n",
              "AIARhSIAAACMKBQBAABgRKEIAAAAIwpFAAAAGFEoAgAAwIhCEQAAIEomTpyolJQUWZalqqoq4zk1\n",
              "NTW69tprFR8fr6ysrOOOl5aWKi0tTV26dFFhYaEaGxtbdKwlKBQBAACiZNSoUVq2bJmSk5O/8Zy4\n",
              "uDg99NBD+t3vfnfcsS1btmjq1KmqqKhQdXW1du3apblz557wWEtRKAIAAERJv3795Pf7v/Wcdu3a\n",
              "6ZprrlHbtm2PO1ZWVqa8vDwlJCTIsiyNHz9eCxYsOOGxlmoV0dkAAAD4VoFAQIFAIGyfz+eTz+dz\n",
              "vK3a2tqwNDIlJUW1tbUnPNZSZ0Wh2HnmE9HuAgCXbJ40OdpdAOBBwZ3pUWu7ZPYYzZgxI2zftGnT\n",
              "NH369Oh06BScFYUiAADA2aK4uFiTJ4f/S7AbaaIkJSUladOmTaHPNTU1SkpKOuGxluIZRQAA4DnB\n",
              "KP7H5/MpLi4ubHOrUBw5cqTKy8u1c+dO2bat2bNna/To0Sc81lIUigAAAFFSVFQkv9+vbdu2afDg\n",
              "wUpNTZUkFRQUqLy8XJJ06NAh+f1+/eAHP9Bnn30mv9+v4uJiSVLnzp01Y8YM9enTR6mpqWrfvr2K\n",
              "iopOeKylLNu2bQd/ryt4RhHwLp5RBOCGpp2pUWu7VUJ11Np2Gs8oAgAAz2m2g1Fr20vFFUPPAAAA\n",
              "MPJS0QsAACBJCuqMf7LurECiCAAAACMKRQAAABgx9AwAADwnqOhNZvESEkUAAAAYkSgCAADPaT7z\n",
              "l4k+K5AoAgAAwIhEEQAAeA7L4ziDRBEAAABGFIoAAAAwYugZAAB4TjNDz44gUQQAAIARiSIAAPAc\n",
              "JrM4g0QRAAAARhSKAAAAMGLoGQAAeA5vZnEGiSIAAACMSBQBAIDnBKPdAY8gUQQAAIARiSIAAPAc\n",
              "Ftx2BokiAAAAjCgUAQAAYMTQMwAA8JxmRp4dQaIIAAAAIxJFAADgOSyP4wwSRQAAABhRKAIAAMCI\n",
              "oWcAAOA5zbKi3QVPIFEEAACAEYkiAADwnCDL4ziCRBEAAABGJIoAAMBzeEbRGSSKAAAAMKJQBAAA\n",
              "gBFDzwAAwHMYenYGiSIAAACMSBQBAIDnBG0SRSeQKAIAAMCIQhEAAABGDD0DAADPYTKLM0gUAQAA\n",
              "YESiCAAAPKeZLMwR3EUAAAAYkSgCAADPYXkcZ5AoAgAAwIhCEQAAAEYMPQMAAM9heRxnkCgCAADA\n",
              "iEQRAAB4TrNNFuYE7iIAAACMKBQBAABgxNAzAADwnCBZmCO4iwAAADAiUQQAAJ7D8jjOIFEEAACA\n",
              "EYkiAADwHJbHcQZ3EQAAAEYUigAAADBi6BkAAHhOkMksjiBRBAAAgBGJIgAA8JxmsjBHcBcBAABg\n",
              "RKEIAAAAI4aeAQCA57COojO4iwAAADAiUQQAAJ4TJAtzBHcRAAAgSiZOnKiUlBRZlqWqqqpvPK+0\n",
              "tFRpaWnq0qWLCgsL1djYKEmaP3++srKyQtull16qESNGSJJqamoUGxsbdnzTpk0R9Y9CEQAAeE6z\n",
              "bUVti8SoUaO0bNkyJScnf+M5W7Zs0dSpU1VRUaHq6mrt2rVLc+fOlSTdfvvtqqqqCm0JCQkaO3Zs\n",
              "6LsXXnhh2PEuXbpE1D8KRQAAgCjp16+f/H7/t55TVlamvLw8JSQkyLIsjR8/XgsWLDjuvA8++EC7\n",
              "d+9WXl6eY/3jGUUAAAAHBQIBBQKBsH0+n08+n++krldbWxuWOKakpKi2tva480pLS/XDH/5Q5513\n",
              "XmjfwYMHlZubq+bmZt1888269957FRsb2+K2SRQBAIDnNCsmaltJSYni4+PDtpKSEld/78GDB/X7\n",
              "3/9e48aNC+1LTEzU9u3btWLFCr3zzjuqqKjQ448/HtF1KRQBAAAcVFxcrPr6+rCtuLj4pK+XlJSk\n",
              "rVu3hj7X1NQoKSkp7JxXX31V3bt3V7du3UL7fD6fOnToIElq166d7rjjDlVUVETUNoUiAADwnKAd\n",
              "E7XN5/MpLi4ubDvZYWdJGjlypMrLy7Vz507Ztq3Zs2dr9OjRYeeUlpaGpYmStHv37tDs6EAgoMWL\n",
              "Fys7OzuitikUAQAAoqSoqEh+v1/btm3T4MGDlZqaKkkqKChQeXm5JKlz586aMWOG+vTpo9TUVLVv\n",
              "315FRUWha6xfv15VVVW65ZZbwq69bNkyZWdnKzMzUzk5OUpISNC9994bUf8s27btU/yNrus884lo\n",
              "dwGASzZPmhztLgDwoFeqc6PW9i2pK6LWttOY9QwAADynmUFTR3AXAQAAYESiCAAAPCfSN6TAjEQR\n",
              "AAAARhSKAAAAMGLoGQAAeE6QLMwR3EUAAAAYkSgCAADPabbJwpzAXQQAAIARiSIAAPCcoFgexwkk\n",
              "igAAADCiUAQAAIARQ88AAMBzmMziDO4iAAAAjEgUAQCA5zSThTmCuwgAAAAjCkUAAAAYMfQMAAA8\n",
              "J2izjqITSBQBAABgRKIIAAA8h8kszuAuAgAAwIhEEQAAeE6QBbcdwV0EAACAEYUiAAAAjBh6BgAA\n",
              "ntMslsdxAokiAAAAjEgUAQCA5zCZxRncRQAAABhRKAIAAMCIoWcAAOA5TGZxBokiAAAAjEgUAQCA\n",
              "5zCZxRncRQAAABiRKAIAAM9pJlF0BHcRAAAARhSKAAAAMGLoGQAAeE6Q5XEcQaIIAAAAIxJFAADg\n",
              "OUxmcQZ3EQAAAEYUigAAADBi6BkAAHhO0GYyixNIFAEAAGBEoggAADynmSzMEdxFAAAAGJEoAgAA\n",
              "z+EZRWeQKAIAAMCIQhEAAABGDD0DAADPCZKFOYK7CAAAACMSRQAA4DnNTGZxBIkiAAAAjCgUAQAA\n",
              "YMTQMwAA8BzWUXQGiSIAAACMSBQBAIDnBG2yMCdwFwEAAGBEoggAADynWTyj6AQSRQAAABhRKAIA\n",
              "AMCIoWcAAOA5LI/jjNOWKB46dEgrV67U/v37T1eTAAAAOAWuFYr33HNP6O9Vq1YpNTVVt956q7p0\n",
              "6aK///3vbjULAACgoB0Ttc1LXPs1b7/9dujvqVOnatasWVq3bp3Ky8tVXFzsVrMAAABwyGkpe2tr\n",
              "a3XzzTdLkq666iodOnTodDQLAACAU+DaZJbdu3frf//3f2Xb9nHPJQaDQbeaBQAAUJB1FB3hWqE4\n",
              "aNAgrVy5UpLUr18/7dixQ4mJidq+fbs6dOjgVrMAAABwiGuF4vz58437L7vssrDnFwEAAJzWzPI4\n",
              "jnD1GcVAIKDXX39dTz31lJ555hktXbrUzeYAAADOKhMnTlRKSoosy1JVVdU3nldaWqq0tDR16dJF\n",
              "hYWFamxslCT99a9/VZs2bZSVlRXaDh8+fMLvtZRrheLSpUuVnp6uadOm6Re/+IXeeOMN/fjHP9aV\n",
              "V16p7du3u9UsAADAWbM8zqhRo7Rs2TIlJyd/4zlbtmzR1KlTVVFRoerqau3atUtz584NHe/atauq\n",
              "qqpCW5s2bVr0vZZwrVD8+c9/rnfeeUerVq1SRUWFEhMT9dlnn6mwsFA//vGP3WoWAADgrNGvXz/5\n",
              "/f5vPaesrEx5eXlKSEiQZVkaP368FixYcMJrn+z3/plrhWIwGFRaWpokKTc3V2vWrJEkFRYWau3a\n",
              "td/4vUAgoIaGhrDNbmpyq5sAAACOMtUygUDgpK9XW1sbljimpKSotrY29HnTpk3KyclRbm6uZs2a\n",
              "1eLvtYRrheIFF1wQeiaxrKysxTOdS0pKFB8fH7Z99fa7bnUTAAB4UNC2oraZapmSkhJXfmdOTo62\n",
              "bdumyspKvfbaa5o9e7YWLlzo2PVdm/X85JNPasSIEfriiy+UmJioN954Q5K0c+dOjR079hu/V1xc\n",
              "rMmTJ4fty3xutlvdBAAAcJSplvH5fCd9vaSkJG3atCn0uaamRklJSZKkuLi40H6/369bb71VFRUV\n",
              "+o//+I9v/V5LuZYo5ubmqq6uTtu2bdPmzZvVs2dPSVJCQoLuv//+b/yez+dTXFxc2Ga1cq2eBQAA\n",
              "HhSUFbXNVMucSqE4cuRIlZeXa+fOnbJtW7Nnz9bo0aMlSTt27Ai9yGT//v1asmSJsrOzT/i9lnL9\n",
              "FX51dXV6/fXXtWTJEm3evNnt5gAAAM4aRUVF8vv92rZtmwYPHqzU1FRJUkFBgcrLyyVJnTt31owZ\n",
              "M9SnTx+lpqaqffv2KioqkiQtWrRIPXv2VGZmpq666ioNGjRIt99++wm/11KWbdu2g783ZPXq1Ro7\n",
              "dqxqa2t14MABdevWTdu3b9eAAQNUWloaFpWeSOeZT7jRRQBngM2TJp/4JACI0NgPCqPW9m///bmo\n",
              "te001xLF8ePH6ze/+Y3q6+v12muv6brrrtPOnTvVtWtX/fSnP3WrWQAAgKhOZvES1wrFQ4cO6Zpr\n",
              "rpEk5eXl6b333lPr1q310EMP6b333nOrWQAAADjEtVki5513ntatW6eMjAy9//77atu2behYbGys\n",
              "W80CAABE/IYUmLlWKD744IO65pprdOmll2rv3r0qKyuTdGx5nL59+7rVLAAAABziWqE4ZMgQVVdX\n",
              "a9OmTUpLSwtNXklISIj4PYMAAAA4/VxdoPCiiy5S7969j9ufnp6uDRs2uNk0AAA4h3ltUkm0uFYo\n",
              "rl69+huP7d+/361mAQAA4BDXCsWsrCylpKTItEzj3r173WoWAABAQZEoOsG1QjE5OVnLli1Tx44d\n",
              "jzvWqVMnt5oFAACAQ1wrFPPy8rR582ZjoXjjjTe61SwAAADPKDrEtUJx5syZ33hs9uzZbjULAAAA\n",
              "h7AaJQAAAIxcXR4HAAAgGhh6dgaJIgAAAIxIFAEAgOeQKDqDRBEAAABGFIoAAAAwYugZAAB4DkPP\n",
              "ziBRBAAAgBGJIgAA8Bze9ewMEkUAAAAYkSgCAADP4RlFZ5AoAgAAwIhCEQAAAEYMPQMAAM9h6NkZ\n",
              "JIoAAAAwIlEEAACeQ6LoDBJFAAAAGFEoAgAAwIihZwAA4DkMPTuDRBEAAABGJIoAAMBzbBJFR5Ao\n",
              "AgAAwIhEEQAAeE5QJIpOIFEEAACAEYUiAAAAjBh6BgAAnsPyOM4gUQQAAIARiSIAAPAclsdxBoki\n",
              "AAAAjCgUAQAAYMTQMwAA8BwmsziDRBEAAABGJIoAAMBzmMziDBJFAAAAGJEoAgAAz+EZRWeQKAIA\n",
              "AMCIQhEAAABGDD0DAADPse1o98AbSBQBAABgRKIIAAA8JygmsziBRBEAAABGFIoAAAAwYugZAAB4\n",
              "Dm9mcQaJIgAAAIxIFAEAgOfwZhZnkCgCAADAiEQRAAB4DgtuO4NEEQAAAEYUigAAADBi6BkAAHgO\n",
              "y+M4g0QRAAAARiSKAADAc0gUnUGiCAAAACMKRQAAABgx9AwAADyHN7M4g0QRAAAARiSKAADAc3gz\n",
              "izNIFAEAAKJk4sSJSklJkWVZqqqq+sbzSktLlZaWpi5duqiwsFCNjY2SpL/85S+68sor1a1bN3Xv\n",
              "3l133323gsGgJKmmpkaxsbHKysoKbZs2bYqofxSKAADAc2zbitoWiVGjRmnZsmVKTk7+xnO2bNmi\n",
              "qVOnqqKiQtXV1dq1a5fmzp0rSbr44ov1+9//Xp999pk+/vhjLV++XP/3f/8X+u6FF16oqqqq0Nal\n",
              "S5eI+kehCAAAECX9+vWT3+//1nPKysqUl5enhIQEWZal8ePHa8GCBZKk7Oxsde7cWZJ0/vnnKysr\n",
              "SzU1NY71j2cUAQAAHBQIBBQIBML2+Xw++Xy+k7pebW1tWOKYkpKi2tra487buXOnysrKtGTJktC+\n",
              "gwcPKjc3V83Nzbr55pt17733KjY2tsVtkygCAADPiebQc0lJieLj48O2kpISV39vQ0ODhg0bprvv\n",
              "vltXXHGFJCkxMVHbt2/XihUr9M4776iiokKPP/54RNelUAQAAHBQcXGx6uvrw7bi4uKTvl5SUpK2\n",
              "bt0a+lxTU6OkpKTQ5/3792vIkCG66aabNHny5NB+n8+nDh06SJLatWunO+64QxUVFRG1TaEIAAA8\n",
              "x47i5vP5FBcXF7ad7LCzJI0cOVLl5eXauXOnbNvW7NmzNXr0aEnSgQMHNGTIEA0ZMkT33Xdf2Pd2\n",
              "794dmh0dCAS0ePFiZWdnR9Q2hSIAAECUFBUVye/3a9u2bRo8eLBSU1MlSQUFBSovL5ckde7cWTNm\n",
              "zFCfPn2Umpqq9u3bq6ioSJI0c+ZMffjhh1q8eHFoCZyHH35YkrRs2TJlZ2crMzNTOTk5SkhI0L33\n",
              "3htR/yzbPvOXpOw884lodwGASzZPmnzikwAgQl0XPxC1ttePuD9qbTuNWc8AAMBzIl3PEGYMPQMA\n",
              "AMCIRBEAAHjPGf9g3dmBRBEAAABGFIoAAAAwYugZAAB4DpNZnEGiCAAAACMSRQAA4Dln/irRZwcS\n",
              "RQAAABiRKAIAAM/hGUVnkCgCAADAiEIRAAAARgw9AwAA72Ho2REkigAAADAiUQQAAJ7D8jjOIFEE\n",
              "AACAEYUiAAAAjBh6BgAA3sPQsyNIFAEAAGBEoggAADyHN7M4g0QRAAAARiSKAADAe3hG0REkigAA\n",
              "ADCiUAQAAIARQ88AAMBzmMziDBJFAAAAGJEoAgAA72EyiyNIFAEAAGBEoQgAAAAjhp4BAIAHMZnF\n",
              "CSSKAAAAMCJRBAAA3sNkFkeQKAIAAMCIRBEAAHgPiaIjSBQBAABgRKEIAAAAI4aeAQCA9/CuZ0eQ\n",
              "KAIAAMCIRBEAAHiOzWQWR5AoAgAAwIhCEQAAAEYMPQMAAO9h6NkRJIoAAAAwIlEEAADew/I4jiBR\n",
              "BAAAgBGJIgAA8ByLZxQdQaIIAAAAIwpFAAAAGDH0DAAAvIehZ0eQKAIAAMCIRBEAAHgPy+M4gkQR\n",
              "AAAARhSKAAAAMGLoGQAAeA+TWRxBoggAAACjiAvFhx56qEX7AAAAosaO4uYhEReKixcvbtE+AAAA\n",
              "nN1a/Izin//8Z7355pvavn27Jk+eHNpfX1/vSscAAABOmseSvWhpcaF4/vnn66KLLlJMTIzi4+ND\n",
              "+zt16qSpU6e60jkAAABET4sLxf79+6t///66+eablZmZ6WafAAAAcAaI+BnFzp0768c//rHS09OV\n",
              "np6un/70p9q/f78bfQMAADg5thW9zUMiLhQnTJigpqYmLVy4UK+++qqam5s1YcIEN/oGAACAKIp4\n",
              "we3Vq1dr1apVoc+zZs1iKBoAAJxRLCazOCLiRLG5uTlsqPnAgQNqbm52tFMAAACIvogTxf/8z//U\n",
              "VVddpVtuuUWStHDhQt1+++2OdwwAAADRFXGheNddd6lHjx569913JUmPPfaYhgwZ4njHAAAAThpD\n",
              "z46IuFBct26dhg4dqqFDh7rRHwAAAJwhIn5GcciQIRo0aJDKy8tl25TrAAAAXhVxobh582ZNmDBB\n",
              "Tz/9tLp06aJf/epX+vLLL93oGwAAgKdNnDhRKSkpsixLVVVV33heaWmp0tLS1KVLFxUWFqqxsfGU\n",
              "j7VExIViTEyMhg8frrfffluvvvqqnnnmGfn9fhUWFurzzz+P9HIAAACOs+zobZEYNWqUli1bpuTk\n",
              "5G88Z8uWLZo6daoqKipUXV2tXbt2ae7cuad0rKUiLhQlaePGjfrZz36mvLw83XjjjVq2bJm6du3K\n",
              "pBYAAIAI9OvXT36//1vPKSsrU15enhISEmRZlsaPH68FCxac0rGWingyy+DBg7Vx40ZNmDBBa9as\n",
              "0UUXXSRJysnJ0QsvvBDp5QAAADwlEAgoEAiE7fP5fPL5fCd1vdra2rDEMSUlRbW1tad0rKUiLhTv\n",
              "vPNODR8+XDExx4eRn376aaSXa5HNkya7cl0A0dd55hPR7gIAl0T1/7+j+M7lkpISzZgxI2zftGnT\n",
              "NH369Oh06BS0uFA8ePCg2rZtq0GDBunAgQNhxyzL0oUXXuh45wAAAM42xcXFmjw5vEg+2TRRkpKS\n",
              "krRp06bQ55qaGiUlJZ3SsZZq8TOKffv2lSRddNFFuvjii3XRRReFtvj4eLVp00a/+tWvImocAADA\n",
              "FXb0Np/Pp7i4uLDtVArFkSNHqry8XDt37pRt25o9e7ZGjx59SsdaqsWFYmVlpSQpGAyqublZwWAw\n",
              "bNu6davmzJkTUeMAAADnsqKiIvn9fm3btk2DBw9WamqqJKmgoEDl5eWSpM6dO2vGjBnq06ePUlNT\n",
              "1b59exUVFZ3SsZaybAdXzf7oo490xRVXOHU5AOcAnlEEvCuazyh2fip6/9uy+WfemVsR8fI4Gzdu\n",
              "1NChQ9WxY0e1a9cutEmiSAQAAGeGKA49e0nEhWJhYaHy8/N18cUX629/+5tGjRqlKVOmuNE3AAAA\n",
              "RFHEhWJDQ4NuueUWxcTEqGfPnpozZ45ef/11F7oGAABwcs6WN7Oc6SIuFM877zxJ0oUXXqiamhoF\n",
              "AgF98cUXjncMAAAA0RXxgtv9+vXT3r179ZOf/ES9e/dW69atI55qDQAAgDNfRIWibduaPHmyLrnk\n",
              "Eo0ZM0Z9+/ZVfX29evTo4Vb/AAAAIuexIeBoiXjoedCgQaG/O3XqRJEIAADgUREVipZlye/380wi\n",
              "AAA4s7E8jiMifkbxggsuUFZWlm644QZdcMEFof1PPMGiuQAAAF4SUaH46aefav369bruuut02WWX\n",
              "udUnAACAU+K1ZWqipcWF4qxZs/TLX/5SXbt21R/+8AfNmzdPI0aMcLNvAAAAiKIWP6M4a9YsrV69\n",
              "Wh988IEqKioYagYAAPC4FieK5513npKSkiRJPXv21MGDB13rFAAAwCmxrWj3wBNaXCgeOXJEn3zy\n",
              "iWzbNn7u1auXOz0EAABAVLS4UDx8+LDy8vLC9n392bIsbd682dmeAQAAnCwmsziixYViTU2Ni90A\n",
              "AADAmSbiN7MAAADg3BDxgtsAAABnOtZRdAaJIgAAAIxIFAEAgPeQKDqCRBEAAABGJIoAAMBzeEbR\n",
              "GSSKAAAAMKJQBAAAgBFDzwAAwHsYenYEiSIAAACMSBQBAID3kCg6gkQRAAAARhSKAAAAMGLoGQAA\n",
              "eA7rKDqDRBEAAABGFIoAAAAwolAEAACAEc8oAgAA7+EZRUeQKAIAAMCIQhEAAABGDD0DAADPYXkc\n",
              "Z5AoAgAAwIhEEQAAeA+JoiNIFAEAAGBEoQgAAAAjhp4BAID3MPTsCBJFAAAAGJEoAgAAz2F5HGeQ\n",
              "KAIAAMCIRBEAAHgPiaIjSBQBAABgRKEIAAAAI4aeAQCA5zCZxRkkigAAADAiUQQAAN5DougIEkUA\n",
              "AAAYUSgCAADAiKFnAADgPQw9O4JEEQAAAEYkigAAwHNYHscZJIoAAAAwIlEEAADeQ6LoCBJFAAAA\n",
              "GFEoAgAAwIihZwAA4D0MPTuCRBEAAABGJIoAAMBzWB7HGSSKAAAAMKJQBAAAgBFDzwAAwHsYenYE\n",
              "iSIAAACMSBQBAIDnMJnFGSSKAAAAUbJx40ZdffXVSk9PV25urtasWXPcOcFgUFOmTFGPHj2UkZGh\n",
              "cePG6ejRo5KkP//5z8rKygptHTt2VE5OTui7lmWpZ8+eoeMVFRUR9Y9CEQAAeI8dxS0CRUVFuvPO\n",
              "O7Vhwwbdc889ys/PP+6c0tJSVVZWqrKyUmvXrlVMTIxmzpwpSRo8eLCqqqpCW05OjsaOHRv2/YqK\n",
              "itDxvn37RtQ/CkUAAIAo2L17tz766CPddtttkqSRI0eqrq5O1dXVYeetWrVKAwcOVOvWrWVZloYO\n",
              "HaqXXnrpuOt9/vnnevfdd/XDH/7QsT5SKAIAADgoEAiooaEhbAsEAsedV1dXp8TERLVqdWzKiGVZ\n",
              "SkpKUm1tbdh5vXv3Vnl5uRoaGtTY2KiFCxeqpqbmuOu98MILuuGGG9ShQ4ew/QMGDFBmZqYmT56s\n",
              "gwcPRvRbKBQBAID3RHHouaSkRPHx8WFbSUnJSf+U/Px8DRkyRP3791f//v2Vnp4eKi5DP9e2NW/e\n",
              "PI0bNy5s/9atW/Xxxx9r+fLl2rNnj+66666I2qZQBAAAcFBxcbHq6+vDtuLi4uPO69Spk3bs2KGm\n",
              "piZJx4q92tpaJSUlhZ1nWZamT5+ulStXavny5erWrZu6d+8eds7f/vY3HTlyRIMHDw7b//W12rZt\n",
              "qwkTJjCZBQAAwIri5vP5FBcXF7b5fL7j+tihQwfl5OTo5ZdfliQtWrRIfr9fqampYecdOXJE+/bt\n",
              "kyR98cUXevTRR3X33XeHnVNaWqr8/HzFxsaG9u3bt0+HDh2SdGzm9CuvvKLs7OyI7iPrKAIAAETJ\n",
              "nDlzlJ+fr0ceeURxcXGaP3++JKmgoEB5eXnKy8tTfX29rr32WsXExCgYDGrSpEkaNmxY6Br19fVa\n",
              "vHixPvnkk7Brr1u3TkVFRbIsS01NTcrJyQnNlm4py7ZtlqQEEDWdZz4R7S4AcMnmSZOj1navyU9G\n",
              "re3VT/x31Np2GokiAADwHmIwR/CMIgAAAIxIFAEAgOfwrmdnkCgCAADAiEIRAAAARgw9AwAA72Ho\n",
              "2REkigAAADAiUQQAAN5DougIEkUAAAAYkSgCAADPYXkcZ5AoAgAAwIhCEQAAAEYMPQMAAO9h6NkR\n",
              "JIoAAAAwIlEEAACew2QWZ5AoAgAAwIhCEQAAAEYMPQMAAO9h6NkRJIoAAAAwIlEEAACew2QWZ5Ao\n",
              "AgAAwIhEEQAAeA+JoiNIFAEAAGBEoQgAAAAjhp4BAID3MPTsCBJFAAAAGJEoAgAAz2F5HGeQKAIA\n",
              "AMCIQhEAAABGDD0DAADvYejZESSKAAAAMCJRBAAAnmPZRIpOIFEEAACAEYkiAADwHgJFR5AoAgAA\n",
              "wIhCEQAAAEYMPQMAAM/hzSzOIFEEAACAEYkiAADwHhJFR5AoAgAAwIhCEQAAAEYMPQMAAM9hMosz\n",
              "SBQBAABgRKIIAAC8h0TRESSKAAAAMHItUXzggQe+9fj999/vVtMAAOAcxzOKznCtUNy/f78kadu2\n",
              "bXr33XeVl5cny7JUXl6uAQMGuNUsAAAAHOJaofjrX/9akvT9739fVVVV6tixo6RjSWN+fr5bzQIA\n",
              "AMAhrk9m+fzzz0NFoiQlJiZq+/btbjcLAADOZQw9O8L1ySx+v1/Tpk1TXV2d6urqNH36dPn9freb\n",
              "BQAAwClyvVB84YUXtHbtWmVlZSk7O1vr1q3TCy+84HazAADgHGbZ0du8xPWh54SEBC1cuNDtZgAA\n",
              "AOCw07Lg9ueff65PP/1UR44cCe3Ly8s7HU0DAADgJLleKM6bN08PPPCAvvzyS6WlpWnVqlW66qqr\n",
              "KBQBAIB7bI+NAUeJ688oPvnkk1q5cqW6dOmijz/+WH/5y1+Unp7udrMAAAA4Ra4Xiq1bt9bFF1+s\n",
              "pqYmSVK/fv1UVVXldrMAAOAcxmQWZ7g+9Ozz+WTbttLT0/XUU08pOTlZBw4ccLtZAAAAnCLXC8WH\n",
              "HnpIDQ0N+tWvfqXx48frq6++0qxZs9xuFgAAnMs8luxFi+uF4vXXXy9Jio+P19tvv+12cwAAAHCI\n",
              "688o7tu3T0VFRUpNTVVaWpomTJigffv2ud0sAAAATpHrhWJ+fr5atWqlRYsWqaysTLGxscrPz3e7\n",
              "WQAAcA6zgtHbvMT1oecNGzbojTfeCH1++umndfnll7vdLAAAAE6R64lix44dtWfPntDnPXv26LLL\n",
              "LnO7WQAAcC6zo7h5iGuJ4uTJkyVJF198sXr27Kkbb7xRkvTHP/5Rffv2datZAAAAOMS1QjE+Pl6S\n",
              "1LNnT/Xs2TO0f/z48W41CQAAAAe5VihOmzbNrUsDAAB8K6+9ISVaXJ/MIkkffvihqqqqdOTIkdC+\n",
              "iRMnno6mAQAAcJJcLxQfeeQRlZWVqba2Vv3799fbb7+tAQMGUCgCAAD32ESKTnB91vPvfvc7LV++\n",
              "XH6/X4sWLdKKFSsUE+N6swAAAGe8jRs36uqrr1Z6erpyc3O1Zs2a484JBoOaMmWKevTooYyMDI0b\n",
              "N05Hjx6VJNXU1Cg2NlZZWVmhbdOmTaHvLlmyRBkZGUpLS9OIESPU0NAQUf9cr9jOP/98nX/++QoG\n",
              "g7JtW127dg37AQAAAE6z7OhtkSgqKtKdd96pDRs26J577jG+lKS0tFSVlZWqrKzU2rVrFRMTo5kz\n",
              "Z4aOX3jhhaqqqgptXbp0kSQdOHBA48aN0+uvv66NGzeqY8eOevDBByPqn+uFYps2bdTY2KisrCxN\n",
              "mTJFTz75pJqbm91uFgAA4Iy2e/duffTRR7rtttskSSNHjlRdXZ2qq6vDzlu1apUGDhyo1q1by7Is\n",
              "DR06VC+99NIJr/+nP/1J2dnZysjIkCRNmDBBCxYsiKiPrheKv/nNb3T06FE9/vjjamho0D/+8Y9v\n",
              "/XGBQEANDQ1hWyAQcLubAAAAjmhpLVNXV6fExES1anVsyohlWUpKSlJtbW3Yeb1791Z5ebkaGhrU\n",
              "2NiohQsXqqamJnT84MGDys3NVU5Ojh544IFQIFdbW6vk5OTQeSkpKdqxY4eamppa/FtcLRSbm5v1\n",
              "0ksvqW3btmrfvr2ee+45lZWVKSsr6xu/U1JSovj4+LCtpKTEzW4CAACvieKbWZyuZfLz8zVkyBD1\n",
              "799f/fv3V3p6eqi4TExM1Pbt27VixQq98847qqio0OOPP37Sbf0rVwvF2NhYLV26NKLvFBcXq76+\n",
              "PmwrLi52qYcAAADOamkt06lTp7CEz7Zt1dbWKikpKew8y7I0ffp0rVy5UsuXL1e3bt3UvXt3SZLP\n",
              "51OHDh0kSe3atdMdd9yhiooKSVJSUpK2bt0auk5NTU1YgtkSrg8933DDDXr44Yf1+eefh0Ww38Tn\n",
              "8ykuLi5s8/l8bncTAAB4SDQns7S0lunQoYNycnL08ssvS5IWLVokv9+v1NTUsPOOHDmiffv2SZK+\n",
              "+OILPfroo7r77rslHXvOsbGxUdKxIe/FixcrOztbkjRkyBBVVlZq3bp1kqRZs2Zp9OjREd1H19dR\n",
              "fOCBByRJU6dOlWVZsm1blmUxoQUAAJzz5syZo/z8fD3yyCOKi4vT/PnzJUkFBQXKy8tTXl6e6uvr\n",
              "de211yomJkbBYFCTJk3SsGHDJEnLli3T/fffr9jYWDU1Nen666/XvffeK+nYbOjnn39eN998s5qa\n",
              "mtSjRw+9+OKLEfXPsm1WpAQQPZ1nPhHtLgBwyeZJk6PWdt/hj0Wt7YrXpkStbaedlpWvP/7449BM\n",
              "56+++ko7duw4Hc0CAIBzlW1Hb/MQ1wvFWbNm6Y477tD06dMlSXv37tWYMWPcbhYAAACnyPVCce7c\n",
              "uXr//fcVFxcnSerSpYv27NnjdrMAAOAcdra8meVM53qh6PP51KZNm7B9kUzLBgAAQHS4Xii2b99e\n",
              "GzZskGVZkqQXXnjhuPWBAAAAcOZxPdp76qmndOutt2rdunXq1KmT4uLitGTJErebBQAA5zKPDQFH\n",
              "i+uFYmpqqj744AOtX79etm2ra9euio2NdbtZAAAAnCLXCsV/faF127ZtJUnbt2+XJIafAQCAa7w2\n",
              "qSRaXCsUe/fuHXouce/evTrvvPMkSY2Njbrkkku0e/dut5oGAACAA1wrFL9eAueee+5Ramqqxo0b\n",
              "J0maN2+eNm3a5FazAAAAUpBI0Qmuz3r+85//rMLCQsXExCgmJkYFBQV688033W4WAAAAp8j1QvHo\n",
              "0aNav3596POGDRsUCATcbhYAAACnyPVZz48++qj69OmjzMxMSdLq1as1b948t5sFAADnMkaeHeF6\n",
              "oZiXl6e1a9fq/ffflyR973vf06WXXup2swAAADhFrheKc+bM0Y9+9CMNGzbM7aYAAAAksTyOU1x/\n",
              "RvHvf/+7/u3f/k3//d//rerqarebAwAAgENcLxR/+9vfatWqVbrkkks0YMAADR06VH/84x/dbhYA\n",
              "AACnyPVCUZK++93v6r777tOLL76oNWvW6LbbblNGRobefffd09E8AAA419h29DYPcf0ZxSNHjuil\n",
              "l17Ss88+q7Zt2+rXv/61Ro0apZUrV2rUqFGqqalxuwsAAAA4Ca4XiikpKRo0aJCee+455ebmhvZf\n",
              "ccUVGjRokNvNAwCAcxCTWZzhWqFYXl4uSXryySfVtm1b7dixI7RPOrZsznPPPedW8wAAADhFrhWK\n",
              "Tz75ZOjvjz/+WL179w59tixLeXl5bjUNAADOdSSKjnCtUFy6dGno7+zs7LDPAAAAOPOdllnPlmWd\n",
              "jmYAAADgINcnswAAAJxulseWqYkW1wrF1atXh/4+fPiwPvnkE9n/9F9ar1693GoaAAAADnCtULzp\n",
              "ppvCPv/z5BXLsrR582a3mgYAAOe6YLQ74A2uFYpbtmxx69IAAAA4DU7LZBYAAACcfZjMAgAAPIfJ\n",
              "LM4gUQQAAIARiSIAAPAeAkVHkCgCAADAiEQRAAB4D88oOoJEEQAAAEYUigAAADBi6BkAAHiOxciz\n",
              "I0gUAQAAYESiCAAAvIfJLI4gUQQAAIARhSIAAACMGHoGAACeYwWj3QNvIFEEAACAEYkiAADwHiaz\n",
              "OIJEEQAAAEYkigAAwHsIFB1BoggAAAAjCkUAAAAYMfQMAAA8x2IyiyNIFAEAAGBEoggAALyHRNER\n",
              "JIoAAAAwolAEAACAEUPPAADAe3jXsyNIFAEAAGBEoggAADyH5XGcQaIIAAAAIxJFAADgPSSKjiBR\n",
              "BAAAgBGFIgAAAIwYegYAAN7D0LMjSBQBAABgRKIIAAC8hwW3HUGiCAAAACMKRQAAABgx9AwAADyH\n",
              "N7M4g0QRAAAARiSKAADAe0gUHUGiCAAAECUbN27U1VdfrfT0dOXm5mrNmjXHnRMMBjVlyhT16NFD\n",
              "GRkZGjdunI4ePSpJ+uSTT9SvXz9lZGSoR48euuOOO3T48OHQdy3LUs+ePZWVlaWsrCxVVFRE1D8K\n",
              "RQAA4D22Hb0tAkVFRbrzzju1YcMG3XPPPcrPzz/unNLSUlVWVqqyslJr165VTEyMZs6cKUk6//zz\n",
              "9cwzz2jdunVatWqVDh48qP/5n/8J+35FRYWqqqpUVVWlvn37RtQ/CkUAAIAo2L17tz766CPddttt\n",
              "kqSRI0eqrq5O1dXVYeetWrVKAwcOVOvWrWVZloYOHaqXXnpJkpSWlqZevXpJkmJjY5Wbm6uamhrH\n",
              "+kihCAAA4KBAIKCGhoawLRAIHHdeXV2dEhMT1arVsSkjlmUpKSlJtbW1Yef17t1b5eXlamhoUGNj\n",
              "oxYuXGgsBg8ePKjnn39eN910U9j+AQMGKDMzU5MnT9bBgwcj+i0UigAAwHuiOPRcUlKi+Pj4sK2k\n",
              "pOSkf0p+fr6GDBmi/v37q3///kpPTw8Vl187evSobrnlFn3/+9/X8OHDQ/u3bt2qjz/+WMuXL9ee\n",
              "PXt01113RdQ2hSIAAICDiouLVV9fH7YVFxcfd16nTp20Y8cONTU1SZJs21Ztba2SkpLCzrMsS9On\n",
              "T9fKlSu1fPlydevWTd27dw8db2xs1C233KLExMTQs4tf+/pabdu21YQJE5jMAgAAoGD0Np/Pp7i4\n",
              "uLDN5/Md18UOHTooJydHL7/8siRp0aJF8vv9Sk1NDTvvyJEj2rdvnyTpiy++0KOPPqq7775bktTU\n",
              "1KTRo0erXbt2mjt3rizLCn1v3759OnTo0LHbEQzqlVdeUXZ2dkS3kXUUAQAAomTOnDnKz8/XI488\n",
              "ori4OM2fP1+SVFBQoLy8POXl5am+vl7XXnutYmJiFAwGNWnSJA0bNkyS9Morr2jx4sXq1atXqAjs\n",
              "06ePnn32Wa1bt05FRUWyLEtNTU3Kyck5LnE8Ecu2WZESQPR0nvlEtLsAwCWbJ02OWttDut8btbbf\n",
              "XPNw1Np2GokiAADwHN717AyeUQQAAIARiSIAAPAeEkVHkCgCAADAiEIRAAAARgw9AwAA7wky9OwE\n",
              "EkUAAAAYkSgCAADvYTKLI0gUAQAAYESiCAAAvIdE0REkigAAADCiUAQAAIARQ88AAMB7GHp2BIki\n",
              "AAAAjEgUAQCA97DgtiNIFAEAAGBEoQgAAAAjhp4BAID32MFo98ATSBQBAABgRKIIAAC8h+VxHEGi\n",
              "CAAAACMSRQAA4D0sj+MIEkUAAAAYUSgCAADAiKFnAADgPUxmcQSJIgAAAIxIFAEAgPeQKDqCRBEA\n",
              "AABGFIoAAAAwYugZAAB4D0PPjiBRBAAAgBGJIgAA8J5gMNo98AQSRQAAABiRKAIAAO/hGUVHkCgC\n",
              "AADAiEIRAAAARgw9AwAA72Ho2REkigAAADAiUQQAAN4TJFF0AokiAAAAjCgUAQAAYMTQMwAA8Bzb\n",
              "5s0sTiBRBAAAgBGJIgAA8B4msziCRBEAAABGJIoAAMB7WHDbESSKAAAAMKJQBAAAgBFDzwAAwHuC\n",
              "LI/jBBJFAAAAGJEoAgAA72EyiyNIFAEAAGBEoQgAAAAjhp4BAIDn2ExmcQSJIgAAAIxIFAEAgPcw\n",
              "mcURJIoAAAAwIlEEAADeEyRRdAKJIgAAAIwoFAEAAGDE0DMAAPAem+VxnECiCAAAACMSRQAA4Dk2\n",
              "k1kcQaIIAAAAIwpFAAAAGDH0DAAAvIfJLI4gUQQAAIARiSIAAPAcJrM4g0QRAAAgSjZu3Kirr75a\n",
              "6enpys3N1Zo1a447JxgMasqUKerRo4cyMjI0btw4HT16NHR8yZIlysjIUFpamkaMGKGGhoYWHWsJ\n",
              "CkUAAOA9djB6WwSKiop05513asOGDbrnnnuUn59/3DmlpaWqrKxUZWWl1q5dq5iYGM2cOVOSdODA\n",
              "AY0bN06vv/66Nm7cqI4dO+rBBx884bGWolAEAACIgt27d+ujjz7SbbfdJkkaOXKk6urqVF1dHXbe\n",
              "qlWrNHDgQLVu3VqWZWno0KF66aWXJEl/+tOflJ2drYyMDEnShAkTtGDBghMeaykKRQAAAAcFAgE1\n",
              "NDSEbYFA4Ljz6urqlJiYqFatjk0ZsSxLSUlJqq2tDTuvd+/eKi8vV0NDgxobG7Vw4ULV1NRIkmpr\n",
              "a5WcnBw6NyUlRTt27FBTU9O3HmspJrPgjBIIBFRSUqLi4mL5fL5odwenweZJk6PdBZwm/PON0+nt\n",
              "4KtRa3v69OmaMWNG2L5p06Zp+vTpJ3W9/Px8bd26Vf3791ebNm00cOBAvfXWWw709MRIFHFGCQQC\n",
              "mjFjhvHfvACc3fjnG+eK4uJi1dfXh23FxcXHndepU6ewhM+2bdXW1iopKSnsPMuyNH36dK1cuVLL\n",
              "ly9Xt27d1L17d0lSUlKStm7dGjq3pqYmlFJ+27GWolAEAABwkM/nU1xcXNhmStE7dOignJwcvfzy\n",
              "y5KkRYsWye/3KzU1Ney8I0eOaN++fZKkL774Qo8++qjuvvtuSdKQIUNUWVmpdevWSZJmzZql0aNH\n",
              "n/BYSzH0DAAAECVz5sxRfn6+HnnkEcXFxWn+/PmSpIKCAuXl5SkvL0/19fW69tprFRMTo2AwqEmT\n",
              "JmnYsGGSpAsvvFDPP/+8br75ZjU1NalHjx568cUXT3ispSzbtlmREmeMhoYGxcfHq76+XnFxcdHu\n",
              "DgAH8c83cPZh6BlnFJ/Pp2nTpvGgO+BB/PMNnH1IFAEAAGBEoggAAAAjCkUAAAAYUSgCAADAiEIR\n",
              "rpo4caJSUlJkWZaqqqpC+998801dccUV6tWrl6666iqtWrUqdGzFihXq06ePMjMzlZWVpb/85S+h\n",
              "Yxs3btR1112nrKwsZWRk6Oc//7mCwchewA7g2Ku8/vmfSUm69tpr9frrr0d0nUsvvTT0KjGnTJ8+\n",
              "XT/72c9O+TpTpkw56TdhADiGQhGuGjVqlJYtWxb2rsl9+/Zp7NixevHFF7V69Wr9+te/1tixYyUd\n",
              "W5V++PDhmjFjhlatWqWFCxcqPz9fhw8fliTdddddGj58uKqqqlRVVaW33npLb775ZlR+G4CTE8l7\n",
              "ZgFEF4UiXNWvXz/5/f6wfZs2bdIll1wSev1Q3759VVtbq8rKSu3du1d79uzRwIEDJUnp6em66KKL\n",
              "9Kc//UnSsdcY1dfXS5IOHz6sxsZGJSYmnsZfBHjboUOH9N3vfleHDh0K7RszZox+85vfSJLKy8t1\n",
              "+eWXq1evXqE3Q3xt48aNuvHGG5Wbm6tevXrpmWeeCR2zLEvTpk1Tbm6uiouL9cknn+iaa65RTk6O\n",
              "unXrpoceeijsWnV1dbr++uuVkZGhYcOGae/evZKkd999V9/73veUnZ2t7t27q7S0NPSdHTt2aPDg\n",
              "werWrZsGDhyobdu2OX5/gHOODZwGycnJ9sqVK23btu2vvvrKbteunf2Pf/zDtm3bfuONN2xJ9qJF\n",
              "i0LnvvLKK7Zt2/aHH35ot27d2n788cdt27btmpoau2fPnnZiYqJ9/vnn2w8//PDp/zGAByQnJ9vp\n",
              "6el2ZmZmaGvbtq392muv2WPGjLHnzJlj27Zt79y5027fvr29f/9+e9euXXa7du3sNWvW2LZt23Pm\n",
              "zLEl2Vu2bLGbmprs3r1722vXrrVt27YPHjxo9+zZ0/7www9t27ZtSfaMGTNC7Tc0NNhHjhyxbdu2\n",
              "Dx06ZGdlZdnvvfeebdu2PW3aNLt9+/b2jh07bNu27f/6r/+yCwsLbdu27S+//NJuamqybdu29+7d\n",
              "ayclJdl1dXW2bdv2qFGj7Pvuu8+2bdvetm2bfemll9rTpk1z7R4C5wISRZx28fHxKisrU3FxsXr3\n",
              "7q233npL3bp1C72k/I033tC8efOUnZ2tmTNn6pprrgkdmzVrlm699VZ9/vnn2rp1q37729/q7bff\n",
              "jubPAc5ar7zySugxjqqqKl1xxRWSpEmTJunZZ5+VJD333HO69dZbdcEFF+j9999Xr1691K1bN0nS\n",
              "uHHj1Lp1a0nS+vXrtWbNGo0ePVpZWVm6+uqrtX//fn322Weh9u64447Q34cPH1ZBQYF69uypq666\n",
              "Slu3bg17ZvLGG29UQkKCJOnOO+/UO++8I0nau3evfvCDH6hHjx66/vrrtXfvXn366aeSjqWNBQUF\n",
              "kqTLLrtMeXl5btw24JzCu54RFdddd52uu+46SVIgEFBCQkLo/3wyMzPDnju8/PLLQ8PUzz77rDZs\n",
              "2CDp2MvUb7jhBv31r3/VoEGDTvMvALzryiuv1He+8x0tXbpUc+fODRVp/8qyrNDftm2rXbt2x02Q\n",
              "+WcXXHBB6O9f/vKXuvTSS7Vy5Uq1atVKI0aM0JEjR77xu1+3NX78eN1www1atGiRLMtSTk7ON37v\n",
              "n/sH4OSQKCIqduzYEfr7wQcf1PXXX6/U1NTjjj333HNq27atrr/+eklS586dQ0XkwYMHtXTpUvXo\n",
              "0eM09hw4N0yaNEk/+tGPdPnllys9PV2S9L3vfU+rV6/WunXrJEnz5s3T0aNHJUldu3ZVXFyc5s+f\n",
              "H7pGdXW1vvzyS+P19+3bJ7/fr1atWmn9+vXHjQz88Y9/1K5duyRJzz//fOi55X379ik5OVmWZenv\n",
              "f/972IoJAwcO1Lx58yQd+9+R8vJyJ24FcE6jUISrioqK5Pf7tW3bNg0ePDhUDN5///3KyMhQamqq\n",
              "tm7dGvZA+ty5c5Wenq60tDT94Q9/0GuvvRZKBl588UWVlpYqMzNTV1xxhQYMGKDRo0dH5bcBXjZq\n",
              "1CgdOHBAP/nJT0L72rdvr3nz5mn48OHKzMzUxo0bdckll0iSWrVqpSVLlmjx4sXq1auXunfvrnHj\n",
              "xoVWLPhX9913n+bPn69evXrpF7/4RehfBr/Wt29fjRkzRhkZGdq6daseeeQRSdKjjz6qX/ziF8rK\n",
              "ytK8efP07//+76HvzJw5U++//766deumH/3oR8ddE0DkeNczAOA4H330kcaMGaN169YpJoZMAThX\n",
              "8YwiACBMQUGB3nrrLT3//PMUicA5jkQRAAAARvyrIgDXmV4XBwA481EoAgAAwIhCEcBp88QTTyg3\n",
              "N1dZWVnKzc3Ve++9J0kqKyvT97///dB5zc3NSk5ODlusGQBw+lEoAjhtfvjDH2rFihWqqqrS008/\n",
              "rdtvv12SNHz4cG3YsEHr16+XdOx9wqmpqaFF2AEA0UGhCOC0Wblypfr3768ePXpo/PjxWr9+vQ4f\n",
              "PqzY2FhNmDAh9Nq4Z599Nmz9PgBAdLA8DoDT4ujRoxoxYoSWLl2q3NxcNTQ0KD4+XoFAQG3atFFh\n",
              "YWFooeTq6mre0wsAZwASRQCnxZEjR3T06FElJSVJkp5++umw4xdffLFuuukmDR8+XEVFRYqNjY1G\n",
              "NwEA/4RCEYDrmpqa1KFDBz300EO68sor1bt3b7Vu3fq48woLC7Vnzx4VFhZGoZcAgH/FgtsAXLVj\n",
              "xw517dpVO3fu1He+851vPfexxx7T2rVrw979DQCIHp5RBOCaJ554QnPmzNFjjz12wiKxe/fusixL\n",
              "b7755mnqHQDgREgUAQAAYMQzigAAADCiUAQAAIARhSIAAACMKBQBAABgRKEIAAAAIwpFAAAAGFEo\n",
              "AgAAwIhCEQAAAEYUigAAADD6f55B4p5I03Y0AAAAAElFTkSuQmCC\n",
              "\">\n",
              "      </div>\n",
              "      <script type=\"text/javascript\">\n",
              "        (() => {\n",
              "          const chartElement = document.getElementById(\"chart-4842423d-0910-4755-b393-d792608bf5d7\");\n",
              "          async function getCodeForChartHandler(event) {\n",
              "            const chartCodeResponse =  await google.colab.kernel.invokeFunction(\n",
              "                'getCodeForChart', [\"chart-4842423d-0910-4755-b393-d792608bf5d7\"], {});\n",
              "            const responseJson = chartCodeResponse.data['application/json'];\n",
              "            await google.colab.notebook.addCell(responseJson.code, 'code');\n",
              "          }\n",
              "          chartElement.onclick = getCodeForChartHandler;\n",
              "        })();\n",
              "      </script>\n",
              "      <style>\n",
              "        .colab-quickchart-chart-with-code  {\n",
              "            display: block;\n",
              "            float: left;\n",
              "            border: 1px solid transparent;\n",
              "        }\n",
              "\n",
              "        .colab-quickchart-chart-with-code:hover {\n",
              "            cursor: pointer;\n",
              "            border: 1px solid #aaa;\n",
              "        }\n",
              "      </style>"
            ],
            "text/plain": [
              "from matplotlib import pyplot as plt\n",
              "import seaborn as sns\n",
              "import pandas as pd\n",
              "plt.subplots(figsize=(8, 8))\n",
              "df_2dhist = pd.DataFrame({\n",
              "    x_label: grp['Prajyot'].value_counts()\n",
              "    for x_label, grp in df.groupby('Jay')\n",
              "})\n",
              "sns.heatmap(df_2dhist, cmap='viridis')\n",
              "plt.xlabel('Jay')\n",
              "_ = plt.ylabel('Prajyot')"
            ]
          },
          "metadata": {},
          "output_type": "display_data"
        },
        {
          "data": {
            "text/html": [
              "      <div class=\"colab-quickchart-chart-with-code\" id=\"chart-ef857699-27a7-4e8a-a0dd-a0476760687e\">\n",
              "        <img style=\"width: 180px;\" src=\"data:image/png;base64,iVBORw0KGgoAAAANSUhEUgAAAooAAAKfCAYAAADpb+mkAAAAOXRFWHRTb2Z0d2FyZQBNYXRwbG90\n",
              "bGliIHZlcnNpb24zLjcuMSwgaHR0cHM6Ly9tYXRwbG90bGliLm9yZy/bCgiHAAAACXBIWXMAAA9h\n",
              "AAAPYQGoP6dpAAA5KklEQVR4nO3df7Re850v8PeThFO0CcaPpCLJJCdBQnISTad+02Yk2it+dqS0\n",
              "07TCMZZhbgZtRo0Y2ujt6Ex6q0UFnSqlqObq1Wl1+uOk6ETjoAgS4qAhakj8PCTn3D8sz7pnspHD\n",
              "fhy216trr5XsvZ+9v8+zlvp4f/b3u2vd3d3dAQCA/6ZfXw8AAIB3JoUiAACFFIoAABRSKAIAUEih\n",
              "CABAIYUiAACFFIoAABRSKAIAUEihCABAIYUiAEAfOfHEEzNixIjUarW0t7cXnrNixYrsu+++GTRo\n",
              "UFpaWtY7vmDBgowePTqjRo3KMccck5dffnmDjm0IhSIAQB85/PDDs2jRogwfPvw1zxk4cGDOPvvs\n",
              "XH755esde/DBB3P66aenra0ty5Yty+OPP54LL7zwDY9tKIUiAEAf2XvvvTN06NDXPWfLLbfMnnvu\n",
              "mc0222y9Y1dffXWmT5+ewYMHp1ar5bjjjssVV1zxhsc21IBenQ0AwOvq7OxMZ2dnj31NTU1pamoq\n",
              "/V4dHR090sgRI0ako6PjDY9tqHdFoThy/tf7eghAgzxw0uy+HgJQQV2Pjemze887/8iceeaZPfad\n",
              "ccYZmTt3bt8M6C14VxSKAADvFnPmzMns2T3/I7gRaWKSDBs2LMuXL6//fcWKFRk2bNgbHttQnlEE\n",
              "ACqnqw//19TUlIEDB/bYGlUoHnbYYVm4cGEee+yxdHd35/zzz8+MGTPe8NiGUigCAPSR1tbWDB06\n",
              "NI888kimTp2a5ubmJMmsWbOycOHCJMnzzz+foUOH5pOf/GTuvvvuDB06NHPmzEmSjBw5MmeeeWb2\n",
              "2GOPNDc3Z+utt05ra+sbHttQte7u7u4Sv29DeEYRqsszikAjrH2suc/uPWDwsj67d9k8owgAVM66\n",
              "7q4+u3eViiutZwAAClWp6AUASJJ05R3/ZN27gkQRAIBCCkUAAAppPQMAldOVvpvMUiUSRQAACkkU\n",
              "AYDKWffOXyb6XUGiCABAIYkiAFA5lscph0QRAIBCCkUAAAppPQMAlbNO67kUEkUAAApJFAGAyjGZ\n",
              "pRwSRQAACikUAQAopPUMAFSON7OUQ6IIAEAhiSIAUDldfT2AipAoAgBQSKIIAFSOBbfLIVEEAKCQ\n",
              "QhEAgEJazwBA5azTeS6FRBEAgEISRQCgciyPUw6JIgAAhRSKAAAU0noGACpnXWp9PYRKkCgCAFBI\n",
              "oggAVE6X5XFKIVEEAKCQRBEAqBzPKJZDoggAQCGFIgAAhbSeAYDK0Xouh0QRAIBCEkUAoHK6uiWK\n",
              "ZZAoAgBQSKEIAEAhrWcAoHJMZimHRBEAgEISRQCgctbJwkrhVwQAoJBEEQCoHMvjlEOiCABAIYUi\n",
              "AACFtJ4BgMqxPE45JIoAABSSKAIAlbOuWxZWBr8iAACFFIoAABTSegYAKqdLFlYKvyIAAIUkigBA\n",
              "5VgepxwSRQAACkkUAYDKsTxOOfyKAAAUUigCAFBI6xkAqJwuk1lKIVEEAKCQRBEAqJx1srBS+BUB\n",
              "ACikUAQAoJDWMwBQOdZRLIdfEQCAQhJFAKByumRhpfArAgD0kRNPPDEjRoxIrVZLe3v7a563YMGC\n",
              "jB49OqNGjcoxxxyTl19+OUlyySWXpKWlpb5ttdVWOfTQQ5MkK1asSP/+/XscX758ea/Gp1AEACpn\n",
              "XXetz7beOPzww7No0aIMHz78Nc958MEHc/rpp6etrS3Lli3L448/ngsvvDBJ8rnPfS7t7e31bfDg\n",
              "wTnqqKPqn/3ABz7Q4/ioUaN6NT6FIgBAH9l7770zdOjQ1z3n6quvzvTp0zN48ODUarUcd9xxueKK\n",
              "K9Y773e/+11WrVqV6dOnlzY+zygCAJSos7MznZ2dPfY1NTWlqanpTV2vo6OjR+I4YsSIdHR0rHfe\n",
              "ggUL8pnPfCYbbbRRfd9zzz2XyZMnZ926dTn44INz2mmnpX///ht8b4kiAFA569Kvz7Z58+Zl0KBB\n",
              "PbZ58+Y19Ps+99xz+cEPfpCjjz66vm/IkCF59NFHs3jx4tx4441pa2vLueee26vrKhQBAEo0Z86c\n",
              "rF69usc2Z86cN329YcOG5aGHHqr/fcWKFRk2bFiPc374wx9m3LhxGTt2bH1fU1NTttlmmyTJlltu\n",
              "mc9//vNpa2vr1b0VigBA5XR19+uzrampKQMHDuyxvdm2c5IcdthhWbhwYR577LF0d3fn/PPPz4wZ\n",
              "M3qcs2DBgh5pYpKsWrWqPju6s7Mz1157bSZOnNireysUAQD6SGtra4YOHZpHHnkkU6dOTXNzc5Jk\n",
              "1qxZWbhwYZJk5MiROfPMM7PHHnukubk5W2+9dVpbW+vXuPfee9Pe3p4jjjiix7UXLVqUiRMnZsKE\n",
              "CZk0aVIGDx6c0047rVfjq3V3d3e/xe/YcCPnf72vhwA0yAMnze7rIQAVdOWyyX127yOaF/fZvctm\n",
              "1jMAUDnrNE1L4VcEAKCQRBEAqJzeviGFYhJFAAAKKRQBACik9QwAVE6XLKwUfkUAAApJFAGAylnX\n",
              "LQsrg18RAIBCEkUAoHK6YnmcMkgUAQAopFAEAKCQ1jMAUDkms5TDrwgAQCGJIgBQOetkYaXwKwIA\n",
              "UEihCABAIa1nAKByurqto1gGiSIAAIUkigBA5ZjMUg6/IgAAhSSKAEDldFlwuxR+RQAACikUAQAo\n",
              "pPUMAFTOulgepwwSRQAACkkUAYDKMZmlHH5FAAAKKRQBACik9QwAVI7JLOWQKAIAUEiiCABUjsks\n",
              "5fArAgBQSKIIAFTOOoliKfyKAAAUUigCAFBI6xkAqJwuy+OUQqIIAEAhiSIAUDkms5TDrwgAQCGF\n",
              "IgAAhbSeAYDK6eo2maUMEkUAAApJFAGAylknCyuFXxEAgEISRQCgcjyjWA6JIgAAhRSKAAAU0noG\n",
              "ACqnSxZWCr8iAACFJIoAQOWsM5mlFBJFAAAKKRQBACik9QwAVI51FMshUQQAoJBEEQConK5uWVgZ\n",
              "/IoAABSSKAIAlbMunlEsg0QRAIBCCkUAAAppPQMAlWN5nHI0tFBcuXJlrrzyyqxYsSIDBgzIuHHj\n",
              "cuSRR6apqamRtwUAoAQNaz1fddVV2W233fLLX/4y3//+9/Poo4/mqquuyg477JB77rmnUbcFAEhX\n",
              "d78+26qkYd/mrLPOyq233pof//jH+d3vfpcXX3wxN9xwQy644IKccMIJjbotAAAlaVih2L9//2y1\n",
              "1VZJkpEjR+ahhx5KkkydOjV//OMfG3VbAABK0rBnFLfZZptccsklOeCAA3LZZZdl5MiRSZLu7u6s\n",
              "Xbu2UbcFAEiXdRRL0bBE8Vvf+lYWLFiQ0aNH5yc/+Um+/vWvJ0meeOKJfPGLX2zUbQEAKEnDEsXm\n",
              "5uYsWrRovf3bbLNNjj766EbdFgAg6yyPU4qGTs1ZunRpVq1aVf/zggUL8rvf/a6RtwQAeNc48cQT\n",
              "M2LEiNRqtbS3t7/mea92aUeNGpVjjjkmL7/8cpLkV7/6VTbZZJO0tLTUtxdeeOENP7ehGlYofu1r\n",
              "X8s+++yTD33oQ7nsssuy//7759///d/zV3/1V5k/f36jbgsA8K5ZHufwww/PokWLMnz48Nc858EH\n",
              "H8zpp5+etra2LFu2LI8//nguvPDC+vEddtgh7e3t9W2TTTbZoM9tiIYVipdeemmWLl2a3/72t2lt\n",
              "bc2vf/3rXHXVVfn973+f73znO426LQDAu8bee++doUOHvu45V199daZPn57BgwenVqvluOOOyxVX\n",
              "XPGG136zn/v/NewZxaampmyxxRbZYoststVWW+XP//zPkyRbbbVVNtpoo9f8XGdnZzo7O3vs6167\n",
              "NrUB3jYIALzzFdUyTU1Nb/rNdB0dHT0SxxEjRqSjo6P+9+XLl2fSpEnp379/Pve5z+X444/foM9t\n",
              "iIYlik1NTfnJT36Syy67LLVaLVdeeWWS5Je//GX69+//mp+bN29eBg0a1GN7+ue/aNQwAYAK6uqu\n",
              "9dlWVMvMmzevId9z0qRJeeSRR7JkyZL86Ec/yvnnn5+rrrqqtOs3LKb7xje+kWOPPTb9+vXLj3/8\n",
              "45xzzjn57Gc/m/e///2v+wXmzJmT2bNn99g34TvnN2qYAAClKqpl3myamCTDhg3L8uXL639fsWJF\n",
              "hg0bliQZOHBgff/QoUPzqU99Km1tbfmrv/qr1/3chmpYoTh58uTcdttt9b9fccUVefLJJ7PFFluk\n",
              "X7/XDjKLolltZwCgN/pywe230mYucthhh2XPPffM3Llzs+222+b888/PjBkzkiQrV67Mtttum379\n",
              "+uWZZ57J9ddfX1+G8PU+t6Ea/ubq9vb2XHfddbn++uuzZs2a1y0SAQDeS1pbWzN06NA88sgjmTp1\n",
              "apqbm5Mks2bNysKFC5O88irkM888M3vssUeam5uz9dZbp7W1NUlyzTXXZJdddsmECRPykY98JH/5\n",
              "l3+Zz33uc2/4uQ1V6+7u7i7x+9bdcccdOeqoo9LR0ZFnn302Y8eOzaOPPpqPfexjWbBgQY+o9I2M\n",
              "nP/1RgwReAd44KTZb3wSQC8d9btj+uze3/+L6qzu0rB477jjjsu3v/3trF69Oj/60Y+y33775bHH\n",
              "HssOO+yQv/3bv23UbQEA+nQyS5U0rFB8/vnns+eeeyZJpk+fnptvvjkbb7xxzj777Nx8882Nui0A\n",
              "ACVp2CyRjTbaKEuXLs2OO+6YW265JZtttln92OstjwMA8Fb19g0pFGtYoXjWWWdlzz33zFZbbZUn\n",
              "n3wyV199dZLksccey1577dWo2wIAUJKGFYrTpk3LsmXLsnz58owePbo+eWXw4MG9fs8gAABvv4Yu\n",
              "ULj55ptn1113XW//mDFjct999zXy1gDAe1jVJpX0lYYVinfcccdrHnvmmWcadVsAAErSsEKxpaUl\n",
              "I0aMSNEyjU8++WSjbgsA0KdvZqmShhWKw4cPz6JFi/LBD35wvWPbb799o24LAEBJGlYoTp8+PQ88\n",
              "8EBhofiJT3yiUbcFAPCMYkkaVijOnz//NY+df/75jbotAAAlsRolAACFGro8DgBAX9B6LodEEQCA\n",
              "QhJFAKByJIrlkCgCAFBIoQgAQCGtZwCgcrSeyyFRBACgkEQRAKgc73ouh0QRAIBCEkUAoHI8o1gO\n",
              "iSIAAIUUigAAFNJ6BgAqR+u5HBJFAAAKSRQBgMqRKJZDoggAQCGFIgAAhbSeAYDK0Xouh0QRAIBC\n",
              "EkUAoHK6JYqlkCgCAFBIoggAVE5XJIplkCgCAFBIoQgAQCGtZwCgciyPUw6JIgAAhSSKAEDlWB6n\n",
              "HBJFAAAKKRQBACik9QwAVI7JLOWQKAIAUEiiCABUjsks5ZAoAgBQSKIIAFSOZxTLIVEEAKCQQhEA\n",
              "gEJazwBA5XR39/UIqkGiCABAIYkiAFA5XTGZpQwSRQAACikUAQAopPUMAFSON7OUQ6IIAEAhiSIA\n",
              "UDnezFIOiSIAAIUkigBA5VhwuxwSRQAACikUAQAopPUMAFSO5XHKIVEEAKCQRBEAqByJYjkkigAA\n",
              "FFIoAgBQSOsZAKgcb2Yph0QRAIBCEkUAoHK8maUcEkUAgD5y4oknZsSIEanVamlvb3/N8xYsWJDR\n",
              "o0dn1KhROeaYY/Lyyy8nSf7jP/4jH/7whzN27NiMGzcup556arq6upIkK1asSP/+/dPS0lLfli9f\n",
              "3qvxKRQBgMrp7q712dYbhx9+eBYtWpThw4e/5jkPPvhgTj/99LS1tWXZsmV5/PHHc+GFFyZJtthi\n",
              "i/zgBz/I3Xffnd///ve56aab8m//9m/1z37gAx9Ie3t7fRs1alSvxqdQBADoI3vvvXeGDh36uudc\n",
              "ffXVmT59egYPHpxarZbjjjsuV1xxRZJk4sSJGTlyZJLkfe97X1paWrJixYrSxucZRQCAEnV2dqaz\n",
              "s7PHvqampjQ1Nb2p63V0dPRIHEeMGJGOjo71znvsscdy9dVX5/rrr6/ve+655zJ58uSsW7cuBx98\n",
              "cE477bT0799/g+8tUQQAKqcvW8/z5s3LoEGDemzz5s1r6Pdds2ZNDjzwwJx66qn50Ic+lCQZMmRI\n",
              "Hn300SxevDg33nhj2tracu655/bqugpFAIASzZkzJ6tXr+6xzZkz501fb9iwYXnooYfqf1+xYkWG\n",
              "DRtW//szzzyTadOm5aCDDsrs2bPr+5uamrLNNtskSbbccst8/vOfT1tbW6/urVAEACqnuw+3pqam\n",
              "DBw4sMf2ZtvOSXLYYYdl4cKFeeyxx9Ld3Z3zzz8/M2bMSJI8++yzmTZtWqZNm5YvfelLPT63atWq\n",
              "+uzozs7OXHvttZk4cWKv7q1QBADoI62trRk6dGgeeeSRTJ06Nc3NzUmSWbNmZeHChUmSkSNH5swz\n",
              "z8wee+yR5ubmbL311mltbU2SzJ8/P//5n/+Za6+9tr4Ezpe//OUkyaJFizJx4sRMmDAhkyZNyuDB\n",
              "g3Paaaf1any17u53/pKUI+d/va+HADTIAyfNfuOTAHpph2v/qc/ufe+h/9hn9y6bWc8AQOX0dj1D\n",
              "imk9AwBQSKIIAFTPO/7BuncHiSIAAIUUigAAFNJ6BgAqx2SWckgUAQAoJFEEACrnnb9K9LuDRBEA\n",
              "gEISRQCgcjyjWA6JIgAAhRSKAAAU0noGAKpH67kUEkUAAApJFAGAyrE8TjkkigAAFFIoAgBQSOsZ\n",
              "AKgeredSSBQBACgkUQQAKsebWcohUQQAoJBEEQCoHs8olkKiCABAIYUiAACFtJ4BgMoxmaUcEkUA\n",
              "AApJFAGA6jGZpRQSRQAACikUAQAopPUMAFSQySxlkCgCAFBIoggAVI/JLKWQKAIAUEiiCABUj0Sx\n",
              "FBJFAAAKKRQBACik9QwAVI93PZdCoggAQCGJIgBQOd0ms5RCoggAQCGFIgAAhbSeAYDq0XouhUQR\n",
              "AIBCEkUAoHosj1MKiSIAAIUkigBA5dQ8o1gKiSIAAIUUigAAFNJ6BgCqR+u5FBJFAAAKSRQBgOqx\n",
              "PE4pJIoAABRSKAIAUEjrGQCoHpNZSiFRBACgkEQRAKgeiWIpJIoAABSSKAIA1SNRLMUGF4oLFy58\n",
              "3ePTp09/y4MBAOCdY4MLxX/5l395zWO1Wk2hCABQMRtcKP7yl79s5DgAAMrjzSyl2OBC8f7778/o\n",
              "0aNzxx13FB4fP358aYMCAKDvbXCh+D//5//M9ddfn4MOOmi9Y7VaLQ888ECpAwMAeLNqJrOUYoML\n",
              "xeuvvz5J8uCDDzZsMAAAvHO8qeVxurq68thjj2Xt2rX1fcOGDSttUAAA9L1eF4qXXnppTjzxxGy0\n",
              "0Ubp1++V9bprtVpWrVpV+uAAAN4UredS9LpQPOuss7J48eLssMMOjRgPAADvEL1+hd9WW22lSAQA\n",
              "eA/Y4EJxzZo1WbNmTQ4++OD867/+a1atWlXft2bNmkaOEQCgkk488cSMGDEitVot7e3tr3neggUL\n",
              "Mnr06IwaNSrHHHNMXn755bd8bENscKG4+eabZ4sttshpp52W2bNnZ/Dgwdl8883r+wEA3ilq3X23\n",
              "9cbhhx+eRYsWZfjw4a95zoMPPpjTTz89bW1tWbZsWR5//PFceOGFb+nYhtrgQrGrqyvr1q1LV1fX\n",
              "etu6det6dVMAAJK99947Q4cOfd1zrr766kyfPj2DBw9OrVbLcccdlyuuuOItHdtQvX5G8eGHH85L\n",
              "L72UJPntb3+bb37zm3nmmWd6exkAgErq7Ozs8XjemjVr0tnZ+aav19HR0SNxHDFiRDo6Ot7SsQ3V\n",
              "61nPBx10UG666aY8+uijmTFjRvbcc8/8+te/zg9/+MPeXmqDPXDS7IZdG+hbI+d/va+HADRIn/77\n",
              "uw/f9Txv3ryceeaZPfadccYZmTt3bt8M6C14Uwtuv+9978tPfvKTtLa25ktf+lImTJhQ9rgAAN6V\n",
              "5syZk9mzexbJTU1Nb/p6w4YNy/Lly+t/X7FiRf1FJ2/22Ibqdeu5s7MznZ2d+fnPf5799tuvtx8H\n",
              "AGi87r7bmpqaMnDgwB7bWykUDzvssCxcuDCPPfZYuru7c/7552fGjBlv6diG6nWh+KlPfSqDBw9O\n",
              "R0dHdt9996xcuTKbbrppby8DAPCe19ramqFDh+aRRx7J1KlT09zcnCSZNWtWFi5cmCQZOXJkzjzz\n",
              "zOyxxx5pbm7O1ltvndbW1rd0bEPVuru7e/2Sm6effjoDBw5Mv3798uyzz2b16tXZbrvtensZAM8o\n",
              "QoX15TOKI/+17/6/5YG/q87cil4/o/ib3/ymcL9CEQB4x/Cu51L0ulD8+7//+/qfX3zxxdx7773Z\n",
              "eeeds2TJklIHBgBA3+p1obh48eIef//P//zPXHrppWWNBwDgLevtG1Io1uvJLP/dhz/84dx8881l\n",
              "jAUAgHeQXieKd9xxR/3P69atyy233NLrF0wDAPDO96bezPKqjTbaKM3Nzfnud79b6qAAAN4SredS\n",
              "9LpQfPDBB5Mky5cvz8KFC9Pc3Jxdd9219IEBANC3NvgZxSlTpqS9vT1J8sc//jGTJ0/Oz372s5x6\n",
              "6qn56le/2qjxAQD0Xh++maVKNrhQfPTRR9PS0pIkufzyy7PPPvvkhhtuyE033ZTvf//7jRofAAB9\n",
              "ZINbz5tsskn9zzfddFM+/vGPJ0m22GKLDBjQ6w42AEDDWB6nHBucKPbr1y+PPPJInn322fz617/O\n",
              "PvvsUz/2/PPPN2RwAAD0nQ2OAv/hH/4hEydOzIABA7LffvtlzJgxSV5JF0eMGNGo8QEA0Ec2uFA8\n",
              "9NBDs/vuu+fxxx/P+PHj6/tHjBiRCy+8sCGDAwB4U7prfT2CSujVw4WDBw/O4MGDe+z74Ac/WOqA\n",
              "AAB4ZzALBQCoHpNZSvGW3/UMAEA1KRQBACik9QwAVI51FMshUQQAoJBEEQCoHoliKSSKAAAUkigC\n",
              "AJXjGcVySBQBACikUAQAoJDWMwBQPVrPpZAoAgBQSKIIAFSPRLEUEkUAAAopFAEAKKT1DABUjnUU\n",
              "yyFRBACgkEIRAIBCCkUAAAp5RhEAqB7PKJZCoggAQCGFIgAAhbSeAYDKsTxOOSSKAAAUkigCANUj\n",
              "USyFRBEAgEIKRQAACmk9AwDVo/VcCokiAACFJIoAQOVYHqccEkUAAApJFAGA6pEolkKiCABAIYUi\n",
              "AACFtJ4BgMoxmaUcEkUAAApJFAGA6pEolkKiCABAIYUiAACFtJ4BgOrRei6FRBEAgEISRQCgciyP\n",
              "Uw6JIgAAhSSKAED1SBRLIVEEAKCQQhEAgEJazwBA9Wg9l0KiCABAIYkiAFA5lscph0QRAIBCCkUA\n",
              "AAppPQMA1aP1XAqJIgAAhSSKAEDlmMxSDokiAEAfuf/++7P77rtnzJgxmTx5cu666671zunq6srJ\n",
              "J5+cnXfeOTvuuGOOPvrovPTSS0mSf//3f09LS0t9++AHP5hJkybVP1ur1bLLLrvUj7e1tfVqfApF\n",
              "AKB6uvtw64XW1tYce+yxue+++/KFL3whM2fOXO+cBQsWZMmSJVmyZEnuueee9OvXL/Pnz0+STJ06\n",
              "Ne3t7fVt0qRJOeqoo3p8vq2trX58r7326tX4FIoAAH1g1apVufXWW/PpT386SXLYYYfl4YcfzrJl\n",
              "y3qcd/vtt2fKlCnZeOONU6vVcsABB+R73/veetf74x//mF/84hf5zGc+U9oYFYoAACXq7OzMmjVr\n",
              "emydnZ3rnffwww9nyJAhGTDglSkjtVotw4YNS0dHR4/zdt111yxcuDBr1qzJyy+/nKuuuiorVqxY\n",
              "73qXXnppPv7xj2ebbbbpsf9jH/tYJkyYkNmzZ+e5557r1XdRKAIA1dOHred58+Zl0KBBPbZ58+a9\n",
              "6a8yc+bMTJs2Lfvss0/22WefjBkzpl5c1r9ud3cuvvjiHH300T32P/TQQ/n973+fm266KU888URO\n",
              "OeWUXt1boQgAUKI5c+Zk9erVPbY5c+asd97222+flStXZu3atUleKfY6OjoybNiwHufVarXMnTs3\n",
              "t912W2666aaMHTs248aN63HOr3/967z44ouZOnVqj/2vXmuzzTbL8ccfbzILAECtD7empqYMHDiw\n",
              "x9bU1LTeGLfZZptMmjQpl112WZLkmmuuydChQ9Pc3NzjvBdffDFPPfVUkuRPf/pTzjnnnJx66qk9\n",
              "zlmwYEFmzpyZ/v371/c99dRTef7555O8MnP6yiuvzMSJE3v1O1pHEQCgj1xwwQWZOXNmvvKVr2Tg\n",
              "wIG55JJLkiSzZs3K9OnTM3369KxevTr77rtv+vXrl66urpx00kk58MAD69dYvXp1rr322tx55509\n",
              "rr106dK0tramVqtl7dq1mTRpUn229IaqdXd3W5IS6DMj53+9r4cANMgDJ83us3uPn/0vfXbvO77+\n",
              "P/vs3mWTKAIA1SMGK4VnFAEAKCRRBAAqx7ueyyFRBACgkEIRAIBCWs8AQPVoPZdCoggAQCGJIgBQ\n",
              "PRLFUkgUAQAoJFEEACrH8jjlkCgCAFBIoQgAQCGtZwCgerSeSyFRBACgkEQRAKgck1nKIVEEAKCQ\n",
              "QhEAgEJazwBA9Wg9l0KiCABAIYkiAFA5JrOUQ6IIAEAhiSIAUD0SxVJIFAEAKKRQBACgkNYzAFA9\n",
              "Ws+lkCgCAFBIoggAVI7lccohUQQAoJBCEQCAQlrPAED1aD2XQqIIAEAhiSIAUDm1bpFiGSSKAAAU\n",
              "kigCANUjUCyFRBEAgEIKRQAACmk9AwCV480s5ZAoAgBQSKIIAFSPRLEUEkUAAAopFAEAKKT1DABU\n",
              "jsks5ZAoAgBQSKIIAFSPRLEUEkUAAApJFAGAyvGMYjkkigAAFFIoAgBQSOsZAKgeredSSBQBACgk\n",
              "UQQAKsdklnJIFAEAKKRQBACgkNYzAFA93XrPZZAoAgBQSKIIAFSOySzlkCgCAFBIoggAVI9EsRQS\n",
              "RQAACikUAQAopPUMAFROrauvR1ANDSsU//7v/z7nnntuDjnkkNRqtfWOX3vttY26NQAAJWhYobjv\n",
              "vvsmSQ4++OBG3QIAoJjJLKVoWKF44IEHJkk++9nPNuoWAAA0UMOfUXz66adzwQUXZPny5Vm7dm19\n",
              "/8UXX9zoWwMA8BY0vFA8/PDDs/XWW2e33XZL//79G307AABvZilJwwvFlStX5sYbb2z0bQAAKFnD\n",
              "C8VRo0bl6aefzuabb97oWwEAvKJbpFiGhhWKs2fPTpJsuummmTRpUqZNm5b3ve999eNf//rXG3Vr\n",
              "AIB3hfvvvz+f/exn86c//SmDBg3KpZdemnHjxvU4p6urK6eeemp++tOfZu3atdljjz3y7W9/Oxtv\n",
              "vHFWrFiRUaNGZZdddqmff80112TUqFFJkuuvvz4nn3xy1q1bl1122SWXXnppBg4cuMHja9ibWQYN\n",
              "GpRBgwZlp512ymc/+9lsu+229X2DBg1q1G0BAFLr7rutN1pbW3Psscfmvvvuyxe+8IXMnDlzvXMW\n",
              "LFiQJUuWZMmSJbnnnnvSr1+/zJ8/v378Ax/4QNrb2+vbq0Xis88+m6OPPjrXXXdd7r///nzwgx/M\n",
              "WWed1avxNSxRPOOMMxp1aQCAd71Vq1bl1ltvzc9+9rMkyWGHHZYTTjghy5YtS3Nzc/2822+/PVOm\n",
              "TMnGG2+cJDnggAMyd+7cnHLKKa97/RtuuCETJ07MjjvumCQ5/vjjs//+++drX/vaBo+xYYXiN77x\n",
              "jdc9fuKJJxbu7+zsTGdnZ499TU1NaWpqKm1sAACNsqG1zMMPP5whQ4ZkwIBXyrFarZZhw4alo6Oj\n",
              "R6G466675oILLsgJJ5yQTTbZJFdddVVWrFhRP/7cc89l8uTJWbduXQ4++OCcdtpp6d+/fzo6OjJ8\n",
              "+PD6eSNGjMjKlSuzdu3a+j3fSMNaz7fddttrbu3t7a/5uXnz5vVoUQ8aNCjz5s1r1DABgCrq7rut\n",
              "7Fpm5syZmTZtWvbZZ5/ss88+GTNmTL3QGzJkSB599NEsXrw4N954Y9ra2nLuuee+6Xv9d7Xu7nfW\n",
              "tCCJIry3jJxvYhtU1QMnze6ze+956D/32b1/ccXfblAts2rVqjQ3N+e//uu/MmDAgHR3d2fIkCFZ\n",
              "tGhRj0Txv/vBD36Q8847L21tbesdu+KKK3L55Zfn//yf/5Mf/vCHWbBgQX76058mSe6+++7sv//+\n",
              "eeSRRzb4uzQsUXzV6tWrc8IJJ9Rf6Xf33XfniiuueM3zm5qaMnDgwB6bIhEA6I2+nMyyobXMNtts\n",
              "k0mTJuWyyy5L8sps5aFDh65XJL744ot56qmnkiR/+tOfcs455+TUU09N8kqx+fLLLyd5JWy79tpr\n",
              "M3HixCTJtGnTsmTJkixdujRJ8q1vfSszZszo1e/Y8EKxtbU1gwcPzoMPPpgk+fM///N89atfbfRt\n",
              "AQDe8S644IJccMEFGTNmTM4555xccsklSZJZs2Zl4cKFSV4J3XbfffeMGzcue+21V4477rh6ALdo\n",
              "0aJMnDgxEyZMyKRJkzJ48OCcdtppSV6ZDX3RRRfl4IMPTnNzcx555JGcfvrpvRpfw1vPkyZNypIl\n",
              "SzJx4sTcdtttSZIJEybk9ttvb+RtgXcJrWeorr5sPe91SN+1ntt+dHKf3btsDX8zy6tTuV/1wgsv\n",
              "5B32WCQAUDVqjVI0vPW833775eyzz86LL76YG2+8MYcffngOPfTQRt8WAIC3qOGF4llnnZX+/ftn\n",
              "4MCBOe2007LHHnv0uj8OANAb75Y3s7zTNbT1vHjx4vzzP/9z/vCHPyRJdtlll/zlX/5l+vfv38jb\n",
              "AgBQgoYlijfffHP233//jBw5Ml/+8pdz9tlnZ+TIkZk6dWp+97vfNeq2AACUpGGJ4v/6X/8rF198\n",
              "cQ455JD6vkMOOSR/8Rd/kXnz5uW6665r1K0BgPe6irWA+0rDEsW77rqrR5H4qoMOOih33313o24L\n",
              "AEBJGpYobrrppq95bLPNNmvUbQEAKjeppK80rFDs7OzMnXfeWbhm4osvvtio2wIAUJKGFYovvPBC\n",
              "pk+fXnisVqs16rYAAEmXSLEMDSsUV6xY0ahLAwDwNmj4gtsAALw7NfxdzwAAbzud51JIFAEAKCRR\n",
              "BAAqx/I45ZAoAgBQSKEIAEAhrWcAoHoKXvhB70kUAQAoJFEEACrHZJZySBQBACgkUQQAqkeiWAqJ\n",
              "IgAAhRSKAAAU0noGACqnZnmcUkgUAQAoJFEEAKqnq68HUA0SRQAACikUAQAopPUMAFSOySzlkCgC\n",
              "AFBIoggAVI9AsRQSRQAACkkUAYDq8YxiKSSKAAAUUigCAFBI6xkAqJyaznMpJIoAABSSKAIA1WMy\n",
              "SykkigAAFFIoAgBQSOsZAKicWldfj6AaJIoAABSSKAIA1WMySykkigAAFJIoAgDVI1AshUQRAIBC\n",
              "CkUAAAppPQMAlVMzmaUUEkUAAApJFAGA6pEolkKiCABAIYUiAACFtJ4BgOrxrudSSBQBACgkUQQA\n",
              "KsfyOOWQKAIAUEiiCABUj0SxFBJFAAAKKRQBACik9QwAVI/WcykkigAAFJIoAgDVY8HtUkgUAQAo\n",
              "pFAEAKCQ1jMAUDnezFIOiSIAAIUkigBA9UgUSyFRBADoI/fff3923333jBkzJpMnT85dd9213jld\n",
              "XV05+eSTs/POO2fHHXfM0UcfnZdeeilJcuedd2bvvffOjjvumJ133jmf//zn88ILL9Q/W6vVsssu\n",
              "u6SlpSUtLS1pa2vr1fgUigBA9XR3993WC62trTn22GNz33335Qtf+EJmzpy53jkLFizIkiVLsmTJ\n",
              "ktxzzz3p169f5s+fnyR53/vel29+85tZunRpbr/99jz33HP56le/2uPzbW1taW9vT3t7e/baa69e\n",
              "jU+hCADQB1atWpVbb701n/70p5Mkhx12WB5++OEsW7asx3m33357pkyZko033ji1Wi0HHHBAvve9\n",
              "7yVJRo8enfHjxydJ+vfvn8mTJ2fFihWljVGhCABQos7OzqxZs6bH1tnZud55Dz/8cIYMGZIBA16Z\n",
              "MlKr1TJs2LB0dHT0OG/XXXfNwoULs2bNmrz88su56qqrCovB5557LhdddFEOOuigHvs/9rGPZcKE\n",
              "CZk9e3aee+65Xn0XhSIAUD192HqeN29eBg0a1GObN2/em/4qM2fOzLRp07LPPvtkn332yZgxY+rF\n",
              "5ateeumlHHHEEdl///1zyCGH1Pc/9NBD+f3vf5+bbropTzzxRE455ZRe3VuhCABQojlz5mT16tU9\n",
              "tjlz5qx33vbbb5+VK1dm7dq1SZLu7u50dHRk2LBhPc6r1WqZO3dubrvtttx0000ZO3Zsxo0bVz/+\n",
              "8ssv54gjjsiQIUPqzy6+6tVrbbbZZjn++ONNZgEASFffbU1NTRk4cGCPrampab0hbrPNNpk0aVIu\n",
              "u+yyJMk111yToUOHprm5ucd5L774Yp566qkkyZ/+9Kecc845OfXUU5Mka9euzYwZM7Llllvmwgsv\n",
              "TK1Wq3/uqaeeyvPPP//Kz9HVlSuvvDITJ07s1c9oHUUAgD5ywQUXZObMmfnKV76SgQMH5pJLLkmS\n",
              "zJo1K9OnT8/06dOzevXq7LvvvunXr1+6urpy0kkn5cADD0ySXHnllbn22mszfvz4ehG4xx575Lzz\n",
              "zsvSpUvT2tqaWq2WtWvXZtKkSesljm+k1t1tRUqg74yc//W+HgLQIA+cNLvP7j1t3Gl9du+f3vXl\n",
              "Prt32SSKAEDleNdzOTyjCABAIYkiAFA9EsVSSBQBACikUAQAoJDWMwBQPV1az2WQKAIAUEiiCABU\n",
              "j8kspZAoAgBQSKIIAFSPRLEUEkUAAAopFAEAKKT1DABUj9ZzKSSKAAAUkigCANVjwe1SSBQBACik\n",
              "UAQAoJDWMwBQPd1dfT2CSpAoAgBQSKIIAFSP5XFKIVEEAKCQRBEAqB7L45RCoggAQCGFIgAAhbSe\n",
              "AYDqMZmlFBJFAAAKSRQBgOqRKJZCoggAQCGFIgAAhbSeAYDq0XouhUQRAIBCEkUAoHq6uvp6BJUg\n",
              "UQQAoJBEEQCoHs8olkKiCABAIYUiAACFtJ4BgOrRei6FRBEAgEISRQCgerokimWQKAIAUEihCABA\n",
              "Ia1nAKByuru9maUMEkUAAApJFAGA6jGZpRQSRQAACkkUAYDqseB2KSSKAAAUUigCAFBI6xkAqJ4u\n",
              "y+OUQaIIAEAhiSIAUD0ms5RCoggAQCGFIgAAhbSeAYDK6TaZpRQSRQAACkkUAYDqMZmlFBJFAAAK\n",
              "SRQBgOrpkiiWQaIIAEAhhSIAAIW0ngGA6um2PE4ZJIoAABSSKAIAldNtMkspJIoAABRSKAIAUEjr\n",
              "GQCoHpNZSiFRBACgkEQRAKgck1nKIVEEAOgj999/f3bfffeMGTMmkydPzl133bXeOV1dXTn55JOz\n",
              "8847Z8cdd8zRRx+dl156qX78+uuvz4477pjRo0fn0EMPzZo1azbo2IZQKAIA1dPd1XdbL7S2tubY\n",
              "Y4/Nfffdly984QuZOXPmeucsWLAgS5YsyZIlS3LPPfekX79+mT9/fpLk2WefzdFHH53rrrsu999/\n",
              "fz74wQ/mrLPOesNjG0qhCADQB1atWpVbb701n/70p5Mkhx12WB5++OEsW7asx3m33357pkyZko03\n",
              "3ji1Wi0HHHBAvve97yVJbrjhhkycODE77rhjkuT444/PFVdc8YbHNpRCEQCgRJ2dnVmzZk2PrbOz\n",
              "c73zHn744QwZMiQDBrwyZaRWq2XYsGHp6Ojocd6uu+6ahQsXZs2aNXn55Zdz1VVXZcWKFUmSjo6O\n",
              "DB8+vH7uiBEjsnLlyqxdu/Z1j20ok1l4R+ns7My8efMyZ86cNDU19fVweBs8cNLsvh4CbxP/fPN2\n",
              "+nnXD/vs3nPnzs2ZZ57ZY98ZZ5yRuXPnvqnrzZw5Mw899FD22WefbLLJJpkyZUp+9rOflTDSNyZR\n",
              "5B2ls7MzZ555ZuF/eQHvbv755r1izpw5Wb16dY9tzpw56523/fbb90j4uru709HRkWHDhvU4r1ar\n",
              "Ze7cubntttty0003ZezYsRk3blySZNiwYXnooYfq565YsaKeUr7esQ2lUAQAKFFTU1MGDhzYYytK\n",
              "0bfZZptMmjQpl112WZLkmmuuydChQ9Pc3NzjvBdffDFPPfVUkuRPf/pTzjnnnJx66qlJkmnTpmXJ\n",
              "kiVZunRpkuRb3/pWZsyY8YbHNpTWMwBAH7ngggsyc+bMfOUrX8nAgQNzySWXJElmzZqV6dOnZ/r0\n",
              "6Vm9enX23Xff9OvXL11dXTnppJNy4IEHJkk+8IEP5KKLLsrBBx+ctWvXZuedd853v/vdNzy2oWrd\n",
              "3d1WpOQdY82aNRk0aFBWr16dgQMH9vVwgBL55xvefbSeeUdpamrKGWec4UF3qCD/fMO7j0QRAIBC\n",
              "EkUAAAopFAEAKKRQBACgkEKRhjrxxBMzYsSI1Gq1tLe31/f/9Kc/zYc+9KGMHz8+H/nIR3L77bfX\n",
              "jy1evDh77LFHJkyYkJaWlvzHf/xH/djMmTOz3XbbpaWlJS0tLTnllFPezq8DlTFixIge/0wmyb77\n",
              "7pvrrruuV9fZaqut6q8SK8vcuXPzd3/3d2/5OieffPKbfhMG8ArrKNJQhx9+eE499dTsueee9X1P\n",
              "PfVUjjrqqPzmN7/JuHHj0tbWlqOOOip/+MMf0t3dnUMOOSSXXnpppkyZkvvuuy9TpkzJvffem002\n",
              "2SRJcsopp5TyLxGgb6xdu7ZXb4YA+o5EkYbae++9M3To0B77li9fnj/7sz+rv35or732SkdHR5Ys\n",
              "WZInn3wyTzzxRKZMmZIkGTNmTDbffPPccMMNb/vY4b3o+eefz7bbbpvnn3++vu/II4/Mt7/97STJ\n",
              "woULs9NOO2X8+PH1N0O86v77788nPvGJTJ48OePHj883v/nN+rFarZYzzjgjkydPzpw5c3LnnXdm\n",
              "zz33zKRJkzJ27NicffbZPa718MMP56Mf/Wh23HHHHHjggXnyySeTJL/4xS+y2267ZeLEiRk3blwW\n",
              "LFhQ/8zKlSszderUjB07NlOmTMkjjzxS+u8D7zUKRd52o0ePzpNPPpmbbropySv/4nnmmWeyYsWK\n",
              "bLXVVhkyZEiuuuqqJK+0oe+9994era358+dn/Pjx+R//43+s1zoDNtwRRxxRf4yjpaUlt956azbd\n",
              "dNNMmTKl/kqxxx9/PDfeeGM+85nPZNWqVfnc5z6Xa665JnfccUeam5vrBdy6devyqU99Kueee24W\n",
              "L16cW265JRdeeGEWL15cv1///v2zePHifO1rX8uIESPyi1/8IkuWLMnvf//7XHPNNbnlllvq57a1\n",
              "teXyyy/P0qVLs/3229ffkztp0qQsWrQot912W9ra2vJP//RP9YLwxBNPzIc//OHcfffd+e53v5tf\n",
              "/OIXb9dPCZWlUORtN2jQoFx99dWZM2dOdt111/zsZz/L2LFj662oH//4x7n44oszceLEzJ8/P3vu\n",
              "uWf92Je//OUsX748d9xxR44++ugccMABefbZZ/vy68C71pVXXpn29vb69qEPfShJctJJJ+W8885L\n",
              "knznO9/Jpz71qbz//e/PLbfckvHjx2fs2LFJkqOPPjobb7xxkuTee+/NXXfdlRkzZqSlpSW77757\n",
              "nnnmmdx99931+33+85+v//mFF17IrFmzsssuu+QjH/lIHnrooR7/4feJT3wigwcPTpIce+yxufHG\n",
              "G5MkTz75ZD75yU9m5513zkc/+tE8+eST+cMf/pDklbRx1qxZSZLtttsu06dPb8TPBu8pHhKhT+y3\n",
              "337Zb7/9kiSdnZ0ZPHhw/V8+EyZMyE9/+tP6uTvttFO9Tb3ddtvV9x9yyCH54he/mHvvvTe77rrr\n",
              "2zh6qLYPf/jD2XTTTfPLX/4yF154Yb1I++9qtVr9z93d3dlyyy1fN+V///vfX//zP/zDP2SrrbbK\n",
              "bbfdlgEDBuTQQw/Niy+++JqfffVexx13XD7+8Y/nmmuuSa1Wy6RJk17zc///+IA3R6JIn1i5cmX9\n",
              "z2eddVY++tGPprm5eb1j3/nOd7LZZpvlox/9aJL0eObolltuyZNPPln/HFCek046KX/913+dnXba\n",
              "KWPGjEmS7LbbbrnjjjuydOnSJMnFF1+cl156KUmyww47ZODAgbnkkkvq11i2bFn+67/+q/D6Tz31\n",
              "VIYOHZoBAwbk3nvvzc9//vMex//v//2/efzxx5MkF110Uf255aeeeirDhw9PrVbLb37zmx4rJkyZ\n",
              "MiUXX3xxklf+f2ThwoVl/BTwniZRpKFaW1vzk5/8JI899limTp2aD3zgA1m2bFn+8R//MW1tbVm7\n",
              "dm122223Hg+kX3jhhfn+97+f7u7u7LTTTvnRj35UTwZmzpyZxx9/PP37988mm2ySH/7whxk0aFBf\n",
              "fT2orMMPPzx/8zd/kxNOOKG+b+utt87FF1+cQw45JBtvvHGmTZuWP/uzP0uSDBgwINdff33+7u/+\n",
              "Lv/yL/+SdevWZauttsrll19eeP0vfelL+cxnPpPvfve7GTVqVP0/Bl+111575cgjj8yjjz6a0aNH\n",
              "59JLL02SnHPOOTn++ONz1llnpaWlJX/xF39R/8z8+fMzc+bMjB07Ntttt9161wR6z7ueAVjPrbfe\n",
              "miOPPDJLly5Nv36aT/BeJVEEoIdZs2blZz/7WS666CJFIrzHSRQBACjkPxWBN2XEiBHZYYcd0tLS\n",
              "krFjx9aXU+mNlpaWPPPMM296DL/61a96zJAHoFxaz8CbduWVV6alpSUPPfRQxo8fn7322ivjx49P\n",
              "knR1dSXJ67Yu3+qC6b/61a/y9NNPZ9q0aW/pOgAUkygCb9nw4cOzww475Mgjj8xhhx2WqVOnZued\n",
              "d87KlStz8sknZ/LkyWlpacnee++de++9t/65Wq2Wp59+OldffXX233//+v5169Zl+PDh9cWav/a1\n",
              "r2XcuHHZZZddctRRR2X16tVpb2/P+eefn+9///tpaWnJP/3TP73t3xug6hSKwFt25513ZunSpZkw\n",
              "YUJuvvnm/Nu//VvuvvvubLfddvnCF76QxYsXp729Pccff3xOOumk9T5/yCGH5L777qsXkQsXLkxz\n",
              "c3PGjh2bG264IRdffHF++9vf5s4778xmm22WL37xi2lpaclxxx2Xo446Ku3t7fnHf/zHt/trA1Se\n",
              "1jPwph1xxBHZZJNNsummm+biiy/OH/7wh2yyySbZdttt6+f8/Oc/z//+3/87zzzzTLq6ugoXYO7f\n",
              "v3+OP/74nHfeefnGN76R8847r75+34033pgjjjgim2++eZLkb/7mb/LJT37ybfl+AO91CkXgTXv1\n",
              "GcVX/eEPf+jxmraOjo6ccMIJWbx4cUaNGpU77rgje++9d+G1jjnmmIwdOzZ//dd/nWXLlr3me3q9\n",
              "lg3g7aP1DDTM6tWrs9FGG2XIkCHp7u7ON7/5zdc8d4sttshBBx2UQw45JK2trenfv3+SV17LdtVV\n",
              "V2XNmjVJkgsuuKD+POPAgQOzevXqxn8RgPcohSLQMLvssktmzJiRcePGZfLkyRk2bNh65/z/CeEx\n",
              "xxyTJ554Isccc0x93wEHHJDPfe5z2W233bLLLrtkzZo1mTdvXpJXnm1sb283mQWgQSy4DfSJVatW\n",
              "Zfvtt88LL7xQX0Lnn//5n3PPPff0ePc3AH3HM4rA227x4sU54ogjMnfu3HqROG7cuNRqNQtoA7yD\n",
              "SBQBACjkGUUAAAopFAEAKKRQBACgkEIRAIBCCkUAAAopFAEAKKRQBACgkEIRAIBCCkUAAAr9P/dd\n",
              "EL3aTUTKAAAAAElFTkSuQmCC\n",
              "\">\n",
              "      </div>\n",
              "      <script type=\"text/javascript\">\n",
              "        (() => {\n",
              "          const chartElement = document.getElementById(\"chart-ef857699-27a7-4e8a-a0dd-a0476760687e\");\n",
              "          async function getCodeForChartHandler(event) {\n",
              "            const chartCodeResponse =  await google.colab.kernel.invokeFunction(\n",
              "                'getCodeForChart', [\"chart-ef857699-27a7-4e8a-a0dd-a0476760687e\"], {});\n",
              "            const responseJson = chartCodeResponse.data['application/json'];\n",
              "            await google.colab.notebook.addCell(responseJson.code, 'code');\n",
              "          }\n",
              "          chartElement.onclick = getCodeForChartHandler;\n",
              "        })();\n",
              "      </script>\n",
              "      <style>\n",
              "        .colab-quickchart-chart-with-code  {\n",
              "            display: block;\n",
              "            float: left;\n",
              "            border: 1px solid transparent;\n",
              "        }\n",
              "\n",
              "        .colab-quickchart-chart-with-code:hover {\n",
              "            cursor: pointer;\n",
              "            border: 1px solid #aaa;\n",
              "        }\n",
              "      </style>"
            ],
            "text/plain": [
              "from matplotlib import pyplot as plt\n",
              "import seaborn as sns\n",
              "import pandas as pd\n",
              "plt.subplots(figsize=(8, 8))\n",
              "df_2dhist = pd.DataFrame({\n",
              "    x_label: grp['Sushil'].value_counts()\n",
              "    for x_label, grp in df.groupby('Prajyot')\n",
              "})\n",
              "sns.heatmap(df_2dhist, cmap='viridis')\n",
              "plt.xlabel('Prajyot')\n",
              "_ = plt.ylabel('Sushil')"
            ]
          },
          "metadata": {},
          "output_type": "display_data"
        },
        {
          "data": {
            "text/html": [
              "      <div class=\"colab-quickchart-chart-with-code\" id=\"chart-1d07a2d7-f71f-4488-aa97-98be29039033\">\n",
              "        <img style=\"width: 180px;\" src=\"data:image/png;base64,iVBORw0KGgoAAAANSUhEUgAAAooAAAKfCAYAAADpb+mkAAAAOXRFWHRTb2Z0d2FyZQBNYXRwbG90\n",
              "bGliIHZlcnNpb24zLjcuMSwgaHR0cHM6Ly9tYXRwbG90bGliLm9yZy/bCgiHAAAACXBIWXMAAA9h\n",
              "AAAPYQGoP6dpAAA4iElEQVR4nO3dfZRV5X0v8O8BZCTGoTHVBXYcJvISgm+AEo1v+JZKkopWvNFG\n",
              "c6WiYk2vpsRoiTVKk4q5iSbc28aXhqoxjdECKtcmtTXRLBCjJghmaYwi4oAVCcaCgozAzP3D1bl3\n",
              "6jYyso9Ht59P117L2fs5+3nOWcv6y/fZz7NrXV1dXQEAgP+iT6MHAADAO5NCEQCAQgpFAAAKKRQB\n",
              "ACikUAQAoJBCEQCAQgpFAAAKKRQBACikUAQAoJBCEQCgQc4777y0tbWlVqtlyZIlhW1WrFiRI444\n",
              "IgMHDszo0aNfd3327NkZPnx4hg4dmrPOOiubN2/epmvbQqEIANAgJ510UhYuXJghQ4a8YZvm5uZ8\n",
              "9atfzfe///3XXXv66adzySWXZMGCBVm2bFmef/75XHfddW96bVspFAEAGuTwww9PS0vL72yzyy67\n",
              "5NBDD81OO+30umtz5szJxIkTM2jQoNRqtZxzzjm5+eab3/TaturXq9YAAPxOHR0d6ejo6HGuqakp\n",
              "TU1NpffV3t7eI41sa2tLe3v7m17bVu+KQnHPWVc1eghAnSw/f1qjhwBUUOfqEQ3re+Y1n8mMGTN6\n",
              "nLv00ktz2WWXNWZA2+FdUSgCALxbTJ8+PdOm9fwfwfVIE5OktbU1Tz31VPffK1asSGtr65te21ae\n",
              "UQQAKqezgf/X1NSU5ubmHke9CsVJkyZl/vz5Wb16dbq6unLNNdfklFNOedNr20qhCADQIFOnTk1L\n",
              "S0tWrVqVY489NsOGDUuSnHnmmZk/f36SZOPGjWlpacl/+2//LY899lhaWloyffr0JMmee+6ZGTNm\n",
              "5JBDDsmwYcOy6667ZurUqW96bVvVurq6ukr8vnXhGUWoLs8oAvWwZfWwhvXdb9CyhvVdNs8oAgCV\n",
              "s7Wrs2F9V6m4MvUMAEChKhW9AABJks6845+se1eQKAIAUEihCABAIVPPAEDldKZxi1mqRKIIAEAh\n",
              "iSIAUDlb3/nbRL8rSBQBACgkUQQAKsf2OOWQKAIAUEihCABAIVPPAEDlbDX1XAqJIgAAhSSKAEDl\n",
              "WMxSDokiAACFFIoAABQy9QwAVI43s5RDoggAQCGJIgBQOZ2NHkBFSBQBACgkUQQAKseG2+WQKAIA\n",
              "UEihCABAIVPPAEDlbDXzXAqJIgAAhSSKAEDl2B6nHBJFAAAKKRQBAChk6hkAqJytqTV6CJUgUQQA\n",
              "oJBEEQConE7b45RCoggAQCGJIgBQOZ5RLIdEEQCAQgpFAAAKmXoGACrH1HM5JIoAABSSKAIAldPZ\n",
              "JVEsg0QRAIBCCkUAAAqZegYAKsdilnJIFAEAKCRRBAAqZ6ssrBR+RQAACkkUAYDKsT1OOSSKAAAU\n",
              "UigCAFDI1DMAUDm2xymHRBEAgEISRQCgcrZ2ycLK4FcEAKCQQhEAgEKmngGAyumUhZXCrwgAQCGJ\n",
              "IgBQObbHKYdEEQCAQhJFAKBybI9TDr8iAACFFIoAABQy9QwAVE6nxSylkCgCAFBIoggAVM5WWVgp\n",
              "/IoAABRSKAIAUMjUMwBQOfZRLIdfEQCAQhJFAKByOmVhpfArAgA0yHnnnZe2trbUarUsWbLkDdvN\n",
              "nj07w4cPz9ChQ3PWWWdl8+bNSZLrr78+o0eP7j5+//d/PyeeeGKSZMWKFenbt2+P60899VSvxqdQ\n",
              "BAAqZ2tXrWFHb5x00klZuHBhhgwZ8oZtnn766VxyySVZsGBBli1blueffz7XXXddkuRP//RPs2TJ\n",
              "ku5j0KBBOfXUU7s/u/POO/e4PnTo0F6NT6EIANAghx9+eFpaWn5nmzlz5mTixIkZNGhQarVazjnn\n",
              "nNx8882va/fAAw9kzZo1mThxYmnj84wiAECJOjo60tHR0eNcU1NTmpqa3tL92tvbeySObW1taW9v\n",
              "f1272bNn57Of/Wx22GGH7nMbNmzIuHHjsnXr1pxwwgm5+OKL07dv323uW6IIAFTO1vRp2DFz5swM\n",
              "HDiwxzFz5sy6ft8NGzbkBz/4QaZMmdJ9bvDgwXn22Wfz0EMP5e67786CBQty5ZVX9uq+CkUAgBJN\n",
              "nz4969at63FMnz79Ld+vtbU1zzzzTPffK1asSGtra482//RP/5S99toro0aN6j7X1NSU3XbbLUmy\n",
              "yy675IwzzsiCBQt61bdCEQConM6uPg07mpqa0tzc3ON4q9POSTJp0qTMnz8/q1evTldXV6655pqc\n",
              "csopPdrMnj27R5qYJGvWrOleHd3R0ZF58+ZlzJgxvepboQgA0CBTp05NS0tLVq1alWOPPTbDhg1L\n",
              "kpx55pmZP39+kmTPPffMjBkzcsghh2TYsGHZddddM3Xq1O57/PrXv86SJUty8skn97j3woULM2bM\n",
              "mOy3334ZO3ZsBg0alIsvvrhX46t1dXV1bed3rLs9Z13V6CEAdbL8/GmNHgJQQbcsG9ewvk8e9lDD\n",
              "+i6bVc8AQOVsNWlaCr8iAACFJIoAQOX09g0pFJMoAgBQSKEIAEAhU88AQOV0ysJK4VcEAKCQRBEA\n",
              "qJytXbKwMvgVAQAoJFEEACqnM7bHKYNEEQCAQgpFAAAKmXoGACrHYpZy+BUBACgkUQQAKmerLKwU\n",
              "fkUAAAopFAEAKGTqGQConM4u+yiWQaIIAEAhiSIAUDkWs5TDrwgAQCGJIgBQOZ023C6FXxEAgEIK\n",
              "RQAACpl6BgAqZ2tsj1MGiSIAAIUkigBA5VjMUg6/IgAAhRSKAAAUMvUMAFSOxSzlkCgCAFBIoggA\n",
              "VI7FLOXwKwIAUEiiCABUzlaJYin8igAAFFIoAgBQyNQzAFA5nbbHKYVEEQCAQhJFAKByLGYph18R\n",
              "AIBCCkUAAAqZegYAKqezy2KWMkgUAQAoJFEEACpnqyysFH5FAAAKSRQBgMrxjGI5JIoAABRSKAIA\n",
              "UMjUMwBQOZ2ysFL4FQEAKCRRBAAqZ6vFLKWQKAIAUEihCABAIVPPAEDl2EexHBJFAAAKSRQBgMrp\n",
              "7JKFlcGvCABAIYkiAFA5W+MZxTJIFAEAKKRQBACgkKlnAKBybI9TjroWii+++GJuu+22tLe3J0la\n",
              "W1tzwgknZJdddqlntwAAlKBuU89z587NyJEj86//+q955ZVX8sorr+Suu+7KqFGjMnfu3Hp1CwCQ\n",
              "zq4+DTuqpG6J4sUXX5wHHnggbW1tPc4//fTT+cQnPpFJkybVq2sAAEpQt7J369atrysSk+RDH/pQ\n",
              "tmzZUq9uAQAoSd0SxXHjxuWMM87IOeeckyFDhiRJnnnmmVxzzTU54IAD6tUtAEA67aNYirolirNn\n",
              "z86HPvShnHHGGRk+fHiGDx+eKVOmZMiQIfmHf/iHenULAEBJ6pYoDhgwIJdcckkuueSSenUBAFBo\n",
              "q+1xSlHXpTkdHR25/fbb861vfSt/+7d/m3vvvbee3QEAvKucd955aWtrS61Wy5IlS96w3ezZszN8\n",
              "+PAMHTo0Z511VjZv3pwkuffeezNgwICMHj26+3jllVfe9HPbqm6F4j333JMRI0bk0ksvzV/+5V/m\n",
              "jjvuyLnnnpuPfvSjefbZZ+vVLQDAu2Z7nJNOOikLFy7sXs9R5Omnn84ll1ySBQsWZNmyZXn++edz\n",
              "3XXXdV//8Ic/nCVLlnQfAwYM2KbPbYu6FYpf+MIXcvfdd2fp0qVZsGBBBg8enMceeyxnnXVWPve5\n",
              "z9WrWwCAd43DDz88LS0tv7PNnDlzMnHixAwaNCi1Wi3nnHNObr755je991v93P+vboViZ2dnhg8f\n",
              "nuS1FdCPPvpokuSss87Kr371qzf8XEdHR9avX9/j6LKdDgDwLlFUy3R0dLzl+7W3t/dIHNva2rrf\n",
              "epckTz31VMaOHZtx48bl29/+9jZ/blvUrVB8//vfn3vuuSfJaxXtbrvttk2fmzlzZgYOHNjj+I9/\n",
              "+3G9hgkAVFBnV61hR1EtM3PmzLp8z7Fjx2bVqlVZvHhxbrvttlxzzTW59dZbS7t/3VY9f/Ob38yJ\n",
              "J56YtWvXZvDgwbnjjjuSJKtXr86pp576hp+bPn16pk2b1uPcfn9/Tb2GCQBQqqJapqmp6S3fr7W1\n",
              "NU899VT33ytWrEhra2uSpLm5uft8S0tL/uRP/iQLFizIpz/96d/5uW1Vt0Rx3LhxWblyZVatWpXl\n",
              "y5dnn332SZIMGjQoX/7yl9/wc01NTWlubu5x1PrVrZ4FACqoM7WGHUW1zPYUipMmTcr8+fOzevXq\n",
              "dHV15Zprrskpp5ySJHnuuefS2dmZJHnppZdy5513ZsyYMW/6uW1V9zdXr1y5MrfffnvuvPPOLF++\n",
              "vN7dAQC8a0ydOjUtLS1ZtWpVjj322AwbNixJcuaZZ2b+/PlJkj333DMzZszIIYcckmHDhmXXXXfN\n",
              "1KlTkyRz587NPvvsk/322y8HHXRQPv7xj+dP//RP3/Rz26rW1dXVVeL37fbII4/k1FNPTXt7e15+\n",
              "+eWMGjUqzz77bI4++ujMnj27R1T6ZvacdVU9hgi8Ayw/f9qbNwLopVMfOKthff/jgX/fsL7LVrdE\n",
              "8ZxzzsnVV1+ddevW5bbbbsuRRx6Z1atX58Mf/nD+x//4H/XqFgCgoYtZqqRuheLGjRtz6KGHJkkm\n",
              "TpyY+++/P/37989Xv/rV3H///fXqFgCAktRtlcgOO+yQxx9/PCNHjszPfvaz7LTTTt3X+vbtW69u\n",
              "AQB6/YYUitWtUPzKV76SQw89NL//+7+fF154IXPmzEny2vY4hx12WL26BQCgJHUrFCdMmJBly5bl\n",
              "qaeeyvDhw7sXrwwaNKjX7xkEAODtV9cNCn/v934v+++//+vOjxgxIk888UQ9uwYA3sOqtqikUepW\n",
              "KD7yyCNveO2ll16qV7cAAJSkboXi6NGj09bWlqJtGl944YV6dQsAkM5IFMtQt0JxyJAhWbhwYXbf\n",
              "fffXXdtjjz3q1S0AACWpW6E4ceLELF++vLBQ/NSnPlWvbgEAPKNYkroVirNmzXrDa9dcc029ugUA\n",
              "oCR2owQAoFBdt8cBAGgEU8/lkCgCAFBIoggAVI5EsRwSRQAACikUAQAoZOoZAKgcU8/lkCgCAFBI\n",
              "oggAVI53PZdDoggAQCGJIgBQOZ5RLIdEEQCAQgpFAAAKmXoGACrH1HM5JIoAABSSKAIAlSNRLIdE\n",
              "EQCAQgpFAAAKmXoGACrH1HM5JIoAABSSKAIAldMlUSyFRBEAgEISRQCgcjojUSyDRBEAgEIKRQAA\n",
              "Cpl6BgAqx/Y45ZAoAgBQSKIIAFSO7XHKIVEEAKCQQhEAgEKmngGAyrGYpRwSRQAACkkUAYDKsZil\n",
              "HBJFAAAKSRQBgMrxjGI5JIoAABRSKAIAUMjUMwBQOV1djR5BNUgUAQAoJFEEACqnMxazlEGiCABA\n",
              "IYUiAACFTD0DAJXjzSzlkCgCAFBIoggAVI43s5RDoggAQCGJIgBQOTbcLodEEQCAQgpFAAAKmXoG\n",
              "ACrH9jjlkCgCAFBIoggAVI5EsRwSRQAACikUAQAoZOoZAKgcb2Yph0QRAIBCEkUAoHK8maUcEkUA\n",
              "gAY577zz0tbWllqtliVLlrxhu9mzZ2f48OEZOnRozjrrrGzevDlJ8pOf/CQf/ehHM2rUqOy11165\n",
              "8MIL09nZmSRZsWJF+vbtm9GjR3cfTz31VK/Gp1AEACqnq6vWsKM3TjrppCxcuDBDhgx5wzZPP/10\n",
              "LrnkkixYsCDLli3L888/n+uuuy5J8oEPfCA/+MEP8thjj+UXv/hFFi1alO9+97vdn915552zZMmS\n",
              "7mPo0KG9Gp9CEQCgQQ4//PC0tLT8zjZz5szJxIkTM2jQoNRqtZxzzjm5+eabkyRjxozJnnvumSTZ\n",
              "cccdM3r06KxYsaK08XlGEQCgRB0dHeno6OhxrqmpKU1NTW/pfu3t7T0Sx7a2trS3t7+u3erVqzNn\n",
              "zpzceeed3ec2bNiQcePGZevWrTnhhBNy8cUXp2/fvtvct0QRAKicRk49z5w5MwMHDuxxzJw5s67f\n",
              "d/369TnuuONy4YUX5oADDkiSDB48OM8++2weeuih3H333VmwYEGuvPLKXt1XoQgAUKLp06dn3bp1\n",
              "PY7p06e/5fu1trbmmWee6f57xYoVaW1t7f77pZdeyoQJE3L88cdn2rRp3eebmpqy2267JUl22WWX\n",
              "nHHGGVmwYEGv+lYoAgCV09XAo6mpKc3NzT2OtzrtnCSTJk3K/Pnzs3r16nR1deWaa67JKaeckiR5\n",
              "+eWXM2HChEyYMCF/9Vd/1eNza9as6V4d3dHRkXnz5mXMmDG96luhCADQIFOnTk1LS0tWrVqVY489\n",
              "NsOGDUuSnHnmmZk/f36SZM8998yMGTNyyCGHZNiwYdl1110zderUJMmsWbPy4IMPZt68ed1b4PzN\n",
              "3/xNkmThwoUZM2ZM9ttvv4wdOzaDBg3KxRdf3Kvx1bq63vlbUu4566pGDwGok+XnT3vzRgC99OF5\n",
              "f92wvn994pcb1nfZrHoGACqnt/sZUszUMwAAhSSKAED1vOMfrHt3kCgCAFBIoQgAQCFTzwBA5VjM\n",
              "Ug6JIgAAhSSKAEDlvPN3iX53kCgCAFBIoggAVI5nFMshUQQAoJBCEQCAQqaeAYDqMfVcCokiAACF\n",
              "JIoAQOXYHqccEkUAAAopFAEAKGTqGQCoHlPPpZAoAgBQSKIIAFSON7OUQ6IIAEAhiSIAUD2eUSyF\n",
              "RBEAgEIKRQAACpl6BgAqx2KWckgUAQAoJFEEAKrHYpZSSBQBACikUAQAoJCpZwCggixmKYNEEQCA\n",
              "QhJFAKB6LGYphUQRAIBCEkUAoHokiqWQKAIAUEihCABAIVPPAED1eNdzKSSKAAAUkigCAJXTZTFL\n",
              "KSSKAAAUUigCAFDI1DMAUD2mnkshUQQAoJBEEQCoHtvjlEKiCABAIYkiAFA5Nc8olkKiCABAIYUi\n",
              "AACFTD0DANVj6rkUEkUAAApJFAGA6rE9TikkigAAFFIoAgBQyNQzAFA9FrOUQqIIAEAhiSIAUD0S\n",
              "xVJIFAEAKCRRBACqR6JYCokiAACFFIoAABTq9dRze3t74fnW1tbtHgwAQCm8maUUvS4U999//9Rq\n",
              "tXR1dWXTpk3ZuHFjPvjBD2bNmjX1GB8AAA3S60LxN7/5TY+/582bl6VLl5Y2IACA7VWzmKUU2/2M\n",
              "4oknnph//ud/LmMsAAC8g/Q6UVy/fn33P2/dujUPPPBAj3MAAFRDrwvF3/u93+t+RrFv374ZPnx4\n",
              "/tf/+l/1GBsAwFtj6rkUvS4UOzs76zEOAADeYeyjCABAoV4Xij/60Y8ycuTI9O/fP3379k2fPn3S\n",
              "t2/feowNAKDSzjvvvLS1taVWq2XJkiVv2G727NkZPnx4hg4dmrPOOiubN2/e7mvboteF4vnnn59Z\n",
              "s2Zl7dq1Wb9+fV566SWLWQCAd5RaV+OO3jjppJOycOHCDBky5A3bPP3007nkkkuyYMGCLFu2LM8/\n",
              "/3yuu+667bq2rXpdKDY3N+fYY49Nc3Nzdtppp+4DAIDeOfzww9PS0vI728yZMycTJ07MoEGDUqvV\n",
              "cs455+Tmm2/ermvbqteF4h/90R/l9ttv7+3HAADeEzo6OrJ+/foeR0dHx1u+X3t7e4/Esa2trfuV\n",
              "ym/12rbq9arnWbNmZd26dRkwYECamprS1dWVWq2W3/72t7291TZbfv60ut0baKw9Z13V6CEAddLQ\n",
              "/3438F3PM2fOzIwZM3qcu/TSS3PZZZc1ZkDbodeF4u960BIA4L1u+vTpmTatZ5Hc1NT0lu/X2tqa\n",
              "p556qvvvFStWpLW1dbuubateTz0PGTIku+66a5599tk8++yz2XXXXX/nA5gAAG+7rsYdTU1NaW5u\n",
              "7nFsT6E4adKkzJ8/P6tXr05XV1euueaanHLKKdt1bVv1ulBctGhRhg4dms997nP53Oc+l2HDhuX+\n",
              "++/v7W0AAN7zpk6dmpaWlqxatSrHHntshg0bliQ588wzM3/+/CTJnnvumRkzZuSQQw7JsGHDsuuu\n",
              "u2bq1KnbdW1b1bq6unq1kPuggw7KlVdemUMOOSTJa4XjtGnT8rOf/axXHQMknlGEKmvkM4p7fqtx\n",
              "/79l+eers7ai188ovvLKK91FYpIcfPDB2bRpU6mDAgDYLt71XIpeTz2///3vz9133939949//GP7\n",
              "KAIAVNBb2h5n0qRJ3a/t6+zszLx580ofGADAW9XbN6RQrNeF4gEHHJBly5bl17/+debNm5cxY8Zk\n",
              "7Nix9RgbAAANtM1Tz8ccc0z3Hoq/+c1vcvjhh+f+++/PhRdemK997Wv1Gh8AAA2yzYXis88+m9Gj\n",
              "RydJvv/972f8+PH50Y9+lEWLFuUf//Ef6zU+AIDea+A+ilWyzYXigAEDuv950aJF+eQnP5kk+cAH\n",
              "PpB+/Xo9gw0AwDvcNheKffr0yapVq/Lyyy/npz/9acaPH999bePGjXUZHADAWyJRLMU2R4Ff+tKX\n",
              "MmbMmPTr1y9HHnlkRowYkeS1dLGtra1e4wMAoEG2uVA88cQTc/DBB+f555/Pvvvu232+ra0t1113\n",
              "XV0GBwDwVtgepxy9erhw0KBBGTRoUI9zu+++e6kDAgDgnaHXb2YBAOC9wXJlAKB6umqNHkElSBQB\n",
              "ACgkUQQAqsdillJIFAEAKKRQBACgkKlnAKBy7KNYDokiAACFJIoAQPVIFEshUQQAoJBEEQCoHM8o\n",
              "lkOiCABAIYUiAACFTD0DANVj6rkUEkUAAApJFAGA6pEolkKiCABAIYUiAACFTD0DAJVjH8VySBQB\n",
              "ACikUAQAoJBCEQCAQp5RBACqxzOKpZAoAgBQSKEIAEAhU88AQOXYHqccEkUAAApJFAGA6pEolkKi\n",
              "CABAIYUiAACFTD0DANVj6rkUEkUAAApJFAGAyrE9TjkkigAAFJIoAgDVI1EshUQRAIBCCkUAAAqZ\n",
              "egYAKsdilnJIFAEAKCRRBACqR6JYCokiAACFFIoAABQy9QwAVI+p51JIFAEAKCRRBAAqx/Y45ZAo\n",
              "AgBQSKIIAFSPRLEUEkUAAAopFAEAKGTqGQCoHlPPpZAoAgBQSKIIAFSO7XHKIVEEAKCQQhEAgEKm\n",
              "ngGA6jH1XAqJIgAAhSSKAEDlWMxSDokiAECDPPnkkzn44IMzYsSIjBs3Lo8++ujr2nR2duaCCy7I\n",
              "3nvvnZEjR2bKlCl59dVXkyR33XVXRo8e3X3svvvuGTt2bPdna7Va9tlnn+7rCxYs6NX4FIoAQPV0\n",
              "NfDohalTp+bss8/OE088kYsuuiiTJ09+XZvZs2dn8eLFWbx4cX71q1+lT58+mTVrVpLk2GOPzZIl\n",
              "S7qPsWPH5tRTT+3x+QULFnRfP+yww3o1PoUiAEADrFmzJj//+c9z2mmnJUkmTZqUlStXZtmyZT3a\n",
              "LV26NMccc0z69++fWq2WT3ziE7npppted79///d/z49//ON89rOfLW2MCkUAgBJ1dHRk/fr1PY6O\n",
              "jo7XtVu5cmUGDx6cfv1eWzJSq9XS2tqa9vb2Hu3233//zJ8/P+vXr8/mzZtz6623ZsWKFa+73w03\n",
              "3JBPfvKT2W233XqcP/roo7Pffvtl2rRp2bBhQ6++i0IRAKieBk49z5w5MwMHDuxxzJw58y1/lcmT\n",
              "J2fChAkZP358xo8fnxEjRnQXl91ft6sr//AP/5ApU6b0OP/MM8/kF7/4RRYtWpTf/OY3+eIXv9ir\n",
              "vhWKAAAlmj59etatW9fjmD59+uva7bHHHnnuueeyZcuWJK8Ve+3t7Wltbe3Rrlar5bLLLsvDDz+c\n",
              "RYsWZdSoUdlrr716tPnpT3+aTZs25dhjj+1x/j/vtdNOO+Xcc8+1mAUAoNbAo6mpKc3NzT2Opqam\n",
              "141xt912y9ixY/O9730vSTJ37ty0tLRk2LBhPdpt2rQpL774YpJk7dq1ueKKK3LhhRf2aDN79uxM\n",
              "njw5ffv27T734osvZuPGjUleWzl9yy23ZMyYMb36He2jCADQINdee20mT56cyy+/PM3Nzbn++uuT\n",
              "JGeeeWYmTpyYiRMnZt26dTniiCPSp0+fdHZ25vzzz89xxx3XfY9169Zl3rx5+eUvf9nj3o8//nim\n",
              "Tp2aWq2WLVu2ZOzYsd2rpbdVraury5aUQMPsOeuqRg8BqJPl509rWN/7Tvtmw/p+5Kq/aFjfZZMo\n",
              "AgDVIwYrhWcUAQAoJFEEACrHu57LIVEEAKCQQhEAgEKmngGA6jH1XAqJIgAAhSSKAED1SBRLIVEE\n",
              "AKCQRBEAqBzb45RDoggAQCGFIgAAhUw9AwDVY+q5FBJFAAAKSRQBgMqxmKUcEkUAAAopFAEAKGTq\n",
              "GQCoHlPPpZAoAgBQSKIIAFSOxSzlkCgCAFBIoggAVI9EsRQSRQAACikUAQAoZOoZAKgeU8+lkCgC\n",
              "AFBIoggAVI7tccohUQQAoJBCEQCAQqaeAYDqMfVcCokiAACFJIoAQOXUukSKZZAoAgBQSKIIAFSP\n",
              "QLEUEkUAAAopFAEAKGTqGQCoHG9mKYdEEQCAQhJFAKB6JIqlkCgCAFBIoQgAQCFTzwBA5VjMUg6J\n",
              "IgAAhSSKAED1SBRLIVEEAKCQRBEAqBzPKJZDoggAQKG3JVG89dZbs2TJkmzatKn73FVXXfV2dA0A\n",
              "wFtU90TxvPPOy0033ZQbbrghtVotc+bMybp16+rdLQDwXtbVwKNC6l4o3nPPPbnjjjuy66675sor\n",
              "r8yDDz6YVatW1btbAAC2U92nnnfcccf06dMntVotmzdvzqBBg/Lv//7v9e4WAHgPs5ilHHUvFHfe\n",
              "eeds3Lgxhx56aE477bQMGjQo73vf++rdLQAA26nuU88333xz+vXrl69//evZd999s8MOO2Tu3Ln1\n",
              "7hYAgO1U90JxyZIl6d+/fwYMGJCLL7443/jGN3L77bfXu1sA4L2sq6txR4XUvVC84IILsnTp0u6/\n",
              "b7zxxnz3u9+td7cAAGynuj+jeMstt+TTn/507rrrrixatChXXXVVfvKTn9S7WwDgPcxilnLUvVAc\n",
              "NWpU/u7v/i4f//jH06dPn/z4xz/OBz/4wXp3CwDAdqpboTht2rQef++www4ZNmxYvva1ryXxZhYA\n",
              "oI4kiqWoW6E4cODAHn+feOKJ9eoKAIA6qFuheOmll9br1gAAvA3q/oxikjz44INZsmRJNm3a1H3u\n",
              "vPPOezu6BgDeg2qdjR5BNdS9ULz88sszZ86ctLe3Z/z48fm3f/u3HH300QpFAIB3uLrvo/j9738/\n",
              "ixYtSktLS+bOnZuHHnooffrUvVsA4L2sq4FHhdS9Yttxxx2z4447prOzM11dXfnwhz+cp556qt7d\n",
              "AgCwneo+9TxgwIBs3rw5o0ePzgUXXJCWlpZs3bq13t0CALCd6p4oXn311Xn11Vdz5ZVXZv369bnv\n",
              "vvvyve99r97dAgDvYbWuxh1VUvdCcdWqVdlpp52y66675u///u8zZ86cPPfcc/XuFgCA7VT3QvFL\n",
              "X/rSNp0DAChNV1fjjgqp2zOKTzzxRB5//PGsW7cu8+fP7z6/bt26bNy4sV7dAgC8azz55JM5/fTT\n",
              "s3bt2gwcODA33HBD9tprrx5tOjs7c+GFF+Zf/uVfsmXLlhxyyCG5+uqr079//6xYsSJDhw7NPvvs\n",
              "091+7ty5GTp0aJLkzjvvzAUXXJCtW7dmn332yQ033JDm5uZtHl/dCsX7778/N9xwQ9asWZNvfvOb\n",
              "3eebm5tz5ZVX1qtbAIB3zbOCU6dOzdlnn53Jkydnzpw5mTx5ch566KEebWbPnp3Fixdn8eLF2WGH\n",
              "HXL22Wdn1qxZ+eIXv5gk2XnnnbNkyZLX3fvll1/OlClT8tOf/jQjR47Mn//5n+crX/lKvv71r2/z\n",
              "+Oo29Xz66afnnnvuybe+9a3cc8893ccdd9yRT33qU/XqFgDgXWHNmjX5+c9/ntNOOy1JMmnSpKxc\n",
              "uTLLli3r0W7p0qU55phj0r9//9RqtXziE5/ITTfd9Kb3/9GPfpQxY8Zk5MiRSZJzzz03N998c6/G\n",
              "WPdnFKdMmZLNmzfniSeeyCOPPNJ9vJGOjo6sX7++x9HR0VHvYQIAlGJba5mVK1dm8ODB6dfvtQne\n",
              "Wq2W1tbWtLe392i3//77Z/78+Vm/fn02b96cW2+9NStWrOi+vmHDhowbNy5jx47NX//1X3dvQ9je\n",
              "3p4hQ4Z0t2tra8tzzz2XLVu2bPN3qXuheOedd6a1tTX77rtvjjzyyIwePTrHH3/8G7afOXNmBg4c\n",
              "2OOYOXNmvYcJAFRJA9/MUnYtM3ny5EyYMCHjx4/P+PHjM2LEiO7icvDgwXn22Wfz0EMP5e67786C\n",
              "BQtKfcSv7oXiJZdckp/97Gf5yEc+khdeeCHf/e53c9JJJ71h++nTp2fdunU9junTp9d7mAAApdjW\n",
              "WmaPPfbokfB1dXWlvb09ra2tPdrVarVcdtllefjhh7No0aKMGjWqe8FLU1NTdttttyTJLrvskjPO\n",
              "OCMLFixIkrS2tuaZZ57pvs+KFSt6JJjbou6FYp8+fTJkyJDuH+G0007LT37ykzds39TUlObm5h5H\n",
              "U1NTvYcJAFRIIzfc3tZaZrfddsvYsWO7X0Qyd+7ctLS0ZNiwYT3abdq0KS+++GKSZO3atbniiity\n",
              "4YUXJnntOcfNmzcneW3Ke968eRkzZkySZMKECVm8eHEef/zxJMm3v/3tnHLKKb36Hev+Cr8ddtgh\n",
              "SdLS0pLbbrstbW1t3V8WAOC97Nprr83kyZNz+eWXp7m5Oddff32S5Mwzz8zEiRMzceLErFu3Lkcc\n",
              "cUT69OmTzs7OnH/++TnuuOOSJAsXLsyXv/zl9O3bN1u2bMlRRx2Viy++OMlrq6G/853v5IQTTsiW\n",
              "LVuy995758Ybb+zV+GpdXfXdGfLmm2/OhAkTsnz58pxyyin5j//4j3zrW9/KqaeeWs9ugXeJPWdd\n",
              "1eghAHWy/PxpDev7sD/+RsP6XnDbBQ3ru2x1TxT/5E/+JMlrK3aefPLJencHAFC5N6Q0St0LxSR5\n",
              "4IEH8tRTT/VYjv3f//t/fzu6BgDgLap7ofhnf/ZnueuuuzJ69Oj07ds3yWurdxSKAEC9vFvezPJO\n",
              "V/dC8e67785jjz2WHXfcsd5dAQBQorpvjzN48GDb2wAAvAvVPVE88MADc9JJJ+Xkk0/ukSpOnDix\n",
              "3l0DAO9Vpp5LUfdC8ec//3mS5Oqrr+4+V6vVFIoAAO9wdS0Ut27dmj/+4z/OeeedV89uAAB6sJil\n",
              "HHV9RrFv37757ne/W88uAACok7ovZjnmmGPyj//4j/XuBgDg/+nsatxRIXV/RvHaa6/NunXrMmXK\n",
              "lLzvfe9LV1dXarVafvvb39a7awAAtkPdC8UlS5bUuwsAAOqg7oXikCFD6t0FAEBP1ZoBbpi6F4pr\n",
              "1qzJpZdemqVLl2bTpk3d5xcvXlzvrgEA2A51X8wyZcqUtLW1Ze3atZkxY0Z23333fOpTn6p3twDA\n",
              "e1itq3FHldS9UFy5cmUuuuiiNDU15bjjjsu8efNy991317tbAAC2U90Lxf79+ydJdtxxx7zwwgvp\n",
              "169f1q5dW+9uAQDYTnV7RnHLli3p169fRowYkRdeeCGnnXZaDjzwwDQ3N+eAAw6oV7cAAElXxeaA\n",
              "G6RuieKpp56aJPne976XD37wgzn//PNz44035vOf/3wWLlxYr24BAChJ3QrFjo6O/Nmf/VmPc62t\n",
              "rZkxY0YuuuiienULAGAxS0nqVijecsst+fWvf52LL744SbJq1aocddRROe+88/Lnf/7n9eoWAICS\n",
              "1O0Zxaamptxxxx05+uijkyRz5szJueeem/PPP79eXQIAvKZiyV6j1K1QfOSRR5IkV1xxRU4++eT8\n",
              "0R/9UY4++uju8/vuu2+9ugYAoAR1KxSPP/747n9+//vfn3vvvTf33ntvkqRWq2X58uX16hoAgBLU\n",
              "rVB8+umn63VrAIDfqWZ7nFLUfcNtAADeneqWKAIANExnowdQDRJFAAAKKRQBAChk6hkAqByLWcoh\n",
              "UQQAoJBEEQCoHoFiKSSKAAAUkigCANXjGcVSSBQBACikUAQAoJCpZwCgcmpmnkshUQQAoJBEEQCo\n",
              "HotZSiFRBACgkEIRAIBCpp4BgMqpdTZ6BNUgUQQAoJBEEQCoHotZSiFRBACgkEQRAKgegWIpJIoA\n",
              "ABRSKAIAUMjUMwBQOTWLWUohUQQAoJBEEQCoHoliKSSKAAAUUigCAFDI1DMAUD3e9VwKiSIAAIUk\n",
              "igBA5dgepxwSRQAACkkUAYDqkSiWQqIIAEAhhSIAAIVMPQMA1WPquRQSRQAACkkUAYDqseF2KSSK\n",
              "AAAUUigCAFDI1DMAUDnezFIOiSIAAIUkigBA9UgUSyFRBABokCeffDIHH3xwRowYkXHjxuXRRx99\n",
              "XZvOzs5ccMEF2XvvvTNy5MhMmTIlr776apLkl7/8ZQ4//PCMHDkye++9d84444y88sor3Z+t1WrZ\n",
              "Z599Mnr06IwePToLFizo1fgUigBA9XR1Ne7ohalTp+bss8/OE088kYsuuiiTJ09+XZvZs2dn8eLF\n",
              "Wbx4cX71q1+lT58+mTVrVpJkxx13zN/+7d/m8ccfz9KlS7Nhw4Z87Wtf6/H5BQsWZMmSJVmyZEkO\n",
              "O+ywXo1PoQgA0ABr1qzJz3/+85x22mlJkkmTJmXlypVZtmxZj3ZLly7NMccck/79+6dWq+UTn/hE\n",
              "brrppiTJ8OHDs++++yZJ+vbtm3HjxmXFihWljVGhCABQoo6Ojqxfv77H0dHR8bp2K1euzODBg9Ov\n",
              "32tLRmq1WlpbW9Pe3t6j3f7775/58+dn/fr12bx5c2699dbCYnDDhg35zne+k+OPP77H+aOPPjr7\n",
              "7bdfpk2blg0bNvTquygUAYDqaeDU88yZMzNw4MAex8yZM9/yV5k8eXImTJiQ8ePHZ/z48RkxYkR3\n",
              "cfmfXn311Zx88sn5wz/8w/zxH/9x9/lnnnkmv/jFL7Jo0aL85je/yRe/+MVe9a1QBAAo0fTp07Nu\n",
              "3boex/Tp01/Xbo899shzzz2XLVu2JEm6urrS3t6e1tbWHu1qtVouu+yyPPzww1m0aFFGjRqVvfba\n",
              "q/v65s2bc/LJJ2fw4MHdzy7+p/+810477ZRzzz3XYhYAgHQ27mhqakpzc3OPo6mp6XVD3G233TJ2\n",
              "7Nh873vfS5LMnTs3LS0tGTZsWI92mzZtyosvvpgkWbt2ba644opceOGFSZItW7bklFNOyS677JLr\n",
              "rrsutVqt+3MvvvhiNm7c+NrP0dmZW265JWPGjOnVz2gfRQCABrn22mszefLkXH755Wlubs7111+f\n",
              "JDnzzDMzceLETJw4MevWrcsRRxyRPn36pLOzM+eff36OO+64JMktt9ySefPmZd999+0uAg855JD8\n",
              "3d/9XR5//PFMnTo1tVotW7ZsydixY1+XOL6ZWleXHSmBxtlz1lWNHgJQJ8vPn9awvifsdXHD+v6X\n",
              "R/+mYX2XTaIIAFSOdz2XwzOKAAAUkigCANUjUSyFRBEAgEIKRQAACpl6BgCqp9PUcxkkigAAFJIo\n",
              "AgDVYzFLKSSKAAAUkigCANUjUSyFRBEAgEIKRQAACpl6BgCqx9RzKSSKAAAUkigCANVjw+1SSBQB\n",
              "ACikUAQAoJCpZwCgero6Gz2CSpAoAgBQSKIIAFSP7XFKIVEEAKCQRBEAqB7b45RCoggAQCGFIgAA\n",
              "hUw9AwDVYzFLKSSKAAAUkigCANUjUSyFRBEAgEIKRQAACpl6BgCqx9RzKSSKAAAUkigCANXT2dno\n",
              "EVSCRBEAgEISRQCgejyjWAqJIgAAhRSKAAAUMvUMAFSPqedSSBQBACgkUQQAqqdTolgGiSIAAIUU\n",
              "igAAFDL1DABUTleXN7OUQaIIAEAhiSIAUD0Ws5RCoggAQCGJIgBQPTbcLoVEEQCAQgpFAAAKmXoG\n",
              "AKqn0/Y4ZZAoAgBQSKIIAFSPxSylkCgCAFBIoQgAQCFTzwBA5XRZzFIKiSIAAIUkigBA9VjMUgqJ\n",
              "IgAAhSSKAED1dEoUyyBRBACgkEIRAIBCpp4BgOrpsj1OGSSKAAAUkigCAJXTZTFLKSSKAAAUUigC\n",
              "AFDI1DMAUD0Ws5RCoggAQCGJIgBQORazlEOiCADQIE8++WQOPvjgjBgxIuPGjcujjz76ujadnZ25\n",
              "4IILsvfee2fkyJGZMmVKXn311e7rd955Z0aOHJnhw4fnxBNPzPr167fp2rZQKAIA1dPV2bijF6ZO\n",
              "nZqzzz47TzzxRC666KJMnjz5dW1mz56dxYsXZ/HixfnVr36VPn36ZNasWUmSl19+OVOmTMntt9+e\n",
              "J598Mrvvvnu+8pWvvOm1baVQBABogDVr1uTnP/95TjvttCTJpEmTsnLlyixbtqxHu6VLl+aYY45J\n",
              "//79U6vV8olPfCI33XRTkuRHP/pRxowZk5EjRyZJzj333Nx8881vem1bKRQBAErU0dGR9evX9zg6\n",
              "Ojpe127lypUZPHhw+vV7bclIrVZLa2tr2tvbe7Tbf//9M3/+/Kxfvz6bN2/OrbfemhUrViRJ2tvb\n",
              "M2TIkO62bW1tee6557Jly5bfeW1bWczCO0pHR0dmzpyZ6dOnp6mpqdHD4W2w/PxpjR4CbxP/fvN2\n",
              "+rfOf2pY35dddllmzJjR49yll16ayy677C3db/LkyXnmmWcyfvz4DBgwIMccc0z+9V//tYSRvjmJ\n",
              "Iu8oHR0dmTFjRuH/8gLe3fz7zXvF9OnTs27duh7H9OnTX9dujz326JHwdXV1pb29Pa2trT3a1Wq1\n",
              "XHbZZXn44YezaNGijBo1KnvttVeSpLW1Nc8880x32xUrVnSnlL/r2rZSKAIAlKipqSnNzc09jqIU\n",
              "fbfddsvYsWPzve99L0kyd+7ctLS0ZNiwYT3abdq0KS+++GKSZO3atbniiity4YUXJkkmTJiQxYsX\n",
              "5/HHH0+SfPvb384pp5zypte2lalnAIAGufbaazN58uRcfvnlaW5uzvXXX58kOfPMMzNx4sRMnDgx\n",
              "69atyxFHHJE+ffqks7Mz559/fo477rgkyc4775zvfOc7OeGEE7Jly5bsvffeufHGG9/02raqdXV1\n",
              "2ZGSd4z169dn4MCBWbduXZqbmxs9HKBE/v2Gdx9Tz7yjNDU15dJLL/WgO1SQf7/h3UeiCABAIYki\n",
              "AACFFIoAABRSKAIAUEihSF2dd955aWtrS61Wy5IlS7rP/8u//EsOOOCA7LvvvjnooIOydOnS7msP\n",
              "PvhgDjrooIwZMyYf+chH8j//5//svvbkk0/m4x//ePbbb7/stddeueWWW97OrwP8f9ra2vLhD384\n",
              "++23X4YNG5bjjz8+ixYtetPPTZ48Od/61reSvPYGi89//vOF7ebPn5+/+Iu/KHHEQG8pFKmrk046\n",
              "KQsXLuzxrskXX3wxp556am688cY88sgj+frXv55TTz21+/rZZ5+dL33pS3n44Ydz33335Rvf+EYe\n",
              "e+yxJK/9B+bkk0/O0qVLc++99+bCCy/Ms88++7Z/L+A1t9xyS5YuXZply5bl9NNPzyc/+ck88MAD\n",
              "pdx74sSJ+eY3v1nKvYC3RqFIXR1++OFpaWnpce6pp57KBz/4we7XDx122GFpb2/P4sWLk7z2qqL/\n",
              "+I//SJJs2LAh/fv3zy677JIkWbp0aT75yU8mSXbdddfst99+UkV4hzjxxBNzzjnn5Bvf+EY2b96c\n",
              "v/zLv8xHP/rRjB49Op/+9Ke73yzxXz333HM57rjjMmrUqBx11FH57W9/myS54YYbcsIJJ7yN3wD4\n",
              "rxSKvO2GDx+eF154oXuKav78+XnppZeyYsWKJMn111+fSy65JK2trRkxYkQuv/zyDBo0KEmy//77\n",
              "d7/qaPny5Vm0aFH354DGO/DAA/Poo4/m61//enbaaac8+OCDWbJkSfbZZ5/81V/9VeFnHnjggdxw\n",
              "ww157LHHsttuu+Xaa699m0cNvBGv8ONtN3DgwMyZMyfTp0/Pyy+/nI997GMZNWpU90vKr7jiisyc\n",
              "OTOf+cxnsnz58owfPz4HHHBARo0alRtvvDFf+MIXMnr06AwZMiRHH310r15uDtTXf27Ne/vtt2fd\n",
              "unWZO3dukuTVV19NW1tb4WcmTJiQD37wg0mSj33sY/nlL3/5towVeHP+C0tDHHnkkTnyyCOTJB0d\n",
              "HRk0aFBGjRqVtWvX5rbbbssPfvCDJMmee+6Zgw46KPfdd19GjRqVtra27v/wJK/9B+YP//APG/Id\n",
              "gNd76KGHsvfee+fpp5/O//7f/3ub/v3ccccdu/+5b9++2bJlSz2HCPSCqWca4rnnnuv+56985Ss5\n",
              "6qijMmzYsHzgAx/ITjvtlJ/85CdJkrVr1+aBBx7I3nvvnSR5/vnn09nZmSS566678thjj+Uzn/nM\n",
              "2/8FgNe54447cvXVV+cLX/hCTjjhhHzzm9/Mxo0bkyQbN27Mo48+2uARAr0lUaSupk6dmn/+53/O\n",
              "6tWrc+yxx2bnnXfOsmXL8uUvfzkLFizIli1b8rGPfSyzZ89O8lqacOutt+aLX/xitmzZks2bN+fz\n",
              "n/98PvaxjyVJ/s//+T+54oor0rdv3+y+++754Q9/mAEDBjTyK8J72sknn5wdd9wxGzZsyKhRo/LD\n",
              "H/4wBx54YPbff/90dHTkwAMPTK1WS5JcdNFF3YvYgHcH73oGAKCQqWcAAAopFAEAKKRQBLbbvHnz\n",
              "sv/++2f06NEZOXJkjjrqqO5FR731/2+4/l998pOfzK9//eskyRFHHJHbb7/9LY4YgG1hMQuwXZ57\n",
              "7rmcffbZ+cUvftH9qsbFixd3L2Ao0w9/+MPS7wnAG5MoAtvl+eefT9++fbtfs5gkY8eOTa1WS1tb\n",
              "W5YsWdJ9/oADDsi9996bJPnqV7+aj3zkIxk9enRGjx6dZ555prvdt7/97Xz0ox/Nhz70oVx//fXd\n",
              "5//r/QCoL4kisF323XffHHrooRkyZEjGjx+fgw8+OJ/5zGfyB3/wB2/4mRdffDHf+MY38txzz2XA\n",
              "gAHZuHFj+vT5f/+7tampKQ8++GAef/zxjBs3Lp/97Ge9gQegASSKwHbp06dP5s6dm0WLFmXChAm5\n",
              "7777stdee2XZsmVv+Jnm5uYMHz48p512Wq699tr89re/7fF2jlNPPTVJMnLkyPTr1y+rV6+u+/cA\n",
              "4PUUikApRo4cmalTp+b222/PQQcdlPnz56dfv37ZunVrd5tNmzYleW1j9Z/97Gf5/Oc/nzVr1uSg\n",
              "gw7KggULutt5pRvAO4NCEdguzz77bO67777uv1988cU8/fTTGTp0aIYNG5YHHnggSfLggw92r1h+\n",
              "6aWX8vzzz+ewww7LJZdckkMPPTQPP/xwQ8YPwBvz0A+wXbZs2ZK//uu/ztNPP533ve992bJlS04/\n",
              "/fQcf/zx+YM/+IOcfvrpufbaa/Oxj32s+/Vt69aty0knnZQNGzakVqtl+PDhOf300xv8TQD4r7zC\n",
              "DwCAQqaeAQAopFAEAKCQQhEAgEIKRQAACikUAQAopFAEAKCQQhEAgEIKRQAACikUAQAopFAEAKCQ\n",
              "QhEAgEL/FxvxQphvzHaCAAAAAElFTkSuQmCC\n",
              "\">\n",
              "      </div>\n",
              "      <script type=\"text/javascript\">\n",
              "        (() => {\n",
              "          const chartElement = document.getElementById(\"chart-1d07a2d7-f71f-4488-aa97-98be29039033\");\n",
              "          async function getCodeForChartHandler(event) {\n",
              "            const chartCodeResponse =  await google.colab.kernel.invokeFunction(\n",
              "                'getCodeForChart', [\"chart-1d07a2d7-f71f-4488-aa97-98be29039033\"], {});\n",
              "            const responseJson = chartCodeResponse.data['application/json'];\n",
              "            await google.colab.notebook.addCell(responseJson.code, 'code');\n",
              "          }\n",
              "          chartElement.onclick = getCodeForChartHandler;\n",
              "        })();\n",
              "      </script>\n",
              "      <style>\n",
              "        .colab-quickchart-chart-with-code  {\n",
              "            display: block;\n",
              "            float: left;\n",
              "            border: 1px solid transparent;\n",
              "        }\n",
              "\n",
              "        .colab-quickchart-chart-with-code:hover {\n",
              "            cursor: pointer;\n",
              "            border: 1px solid #aaa;\n",
              "        }\n",
              "      </style>"
            ],
            "text/plain": [
              "from matplotlib import pyplot as plt\n",
              "import seaborn as sns\n",
              "import pandas as pd\n",
              "plt.subplots(figsize=(8, 8))\n",
              "df_2dhist = pd.DataFrame({\n",
              "    x_label: grp['Sonu'].value_counts()\n",
              "    for x_label, grp in df.groupby('Sushil')\n",
              "})\n",
              "sns.heatmap(df_2dhist, cmap='viridis')\n",
              "plt.xlabel('Sushil')\n",
              "_ = plt.ylabel('Sonu')"
            ]
          },
          "metadata": {},
          "output_type": "display_data"
        }
      ],
      "source": [
        "df"
      ]
    },
    {
      "cell_type": "code",
      "execution_count": null,
      "metadata": {
        "id": "5yXYp3IXpO1L"
      },
      "outputs": [],
      "source": [
        "df.to_csv(\"dictionary.csv\")"
      ]
    },
    {
      "cell_type": "code",
      "execution_count": null,
      "metadata": {
        "id": "Ibxna1xXpO6E"
      },
      "outputs": [],
      "source": [
        "df.to_excel(\"dictionary.xlsx\")"
      ]
    },
    {
      "cell_type": "code",
      "execution_count": null,
      "metadata": {
        "id": "SasWOxIbpTIm"
      },
      "outputs": [],
      "source": [
        "file=open(\"text1.txt\",'w')\n",
        "file.write(\"This is the first line.\\n\")\n",
        "file.close()"
      ]
    },
    {
      "cell_type": "code",
      "execution_count": null,
      "metadata": {
        "id": "V4UmPDE0pTTB"
      },
      "outputs": [],
      "source": [
        "file=open(\"text1.txt\",'a')\n",
        "file.write(\"This is the second line.\\n\")\n",
        "file.close()"
      ]
    },
    {
      "cell_type": "code",
      "execution_count": null,
      "metadata": {
        "colab": {
          "base_uri": "https://localhost:8080/",
          "height": 36
        },
        "id": "9hYdFnsppTeG",
        "outputId": "3d88b28c-d69c-4717-ea6c-4721780b851a"
      },
      "outputs": [
        {
          "data": {
            "application/vnd.google.colaboratory.intrinsic+json": {
              "type": "string"
            },
            "text/plain": [
              "'This is the first line.\\nThis is the second line.\\n'"
            ]
          },
          "execution_count": 40,
          "metadata": {},
          "output_type": "execute_result"
        }
      ],
      "source": [
        "file=open(\"text1.txt\",'r')\n",
        "file.read()"
      ]
    },
    {
      "cell_type": "code",
      "execution_count": null,
      "metadata": {
        "colab": {
          "base_uri": "https://localhost:8080/"
        },
        "id": "BAQ9qwIb7h_D",
        "outputId": "75a7444e-e7e0-423a-aee0-984efdeda5be"
      },
      "outputs": [
        {
          "data": {
            "text/plain": [
              "['This is the first line.\\n', 'This is the second line.\\n']"
            ]
          },
          "execution_count": 41,
          "metadata": {},
          "output_type": "execute_result"
        }
      ],
      "source": [
        "file=open(\"text1.txt\",'r')\n",
        "file.readlines()"
      ]
    },
    {
      "cell_type": "code",
      "execution_count": null,
      "metadata": {
        "colab": {
          "base_uri": "https://localhost:8080/"
        },
        "id": "JkblHLv6pQC7",
        "outputId": "a1cb6734-9c65-436f-f10b-f0ec25a806b8"
      },
      "outputs": [
        {
          "name": "stdout",
          "output_type": "stream",
          "text": [
            "This is the first line.\n",
            "This is the second line.\n",
            "\n"
          ]
        }
      ],
      "source": [
        "with open(\"text1.txt\",'r') as file:\n",
        "  print(file.read())\n"
      ]
    },
    {
      "cell_type": "code",
      "execution_count": null,
      "metadata": {
        "colab": {
          "base_uri": "https://localhost:8080/"
        },
        "id": "iqxuBVjCpQY2",
        "outputId": "33e8703e-1020-46be-9f00-ce7356b0ef66"
      },
      "outputs": [
        {
          "name": "stdout",
          "output_type": "stream",
          "text": [
            "['This', 'is', 'the', 'first', 'line.', 'This', 'is', 'the', 'second', 'line.']\n"
          ]
        }
      ],
      "source": [
        "#find the longest word in this file.\n",
        "with open(\"text1.txt\",'r') as file:\n",
        "  print(file.read().split())\n"
      ]
    },
    {
      "cell_type": "code",
      "execution_count": null,
      "metadata": {
        "colab": {
          "base_uri": "https://localhost:8080/"
        },
        "id": "6sl2DlG197u-",
        "outputId": "c034ab29-91f5-400a-c81b-80cf934ba5da"
      },
      "outputs": [
        {
          "name": "stdout",
          "output_type": "stream",
          "text": [
            "['This', 'is', 'the', 'first', 'line.', 'This', 'is', 'the', 'second', 'line.']\n",
            "This 4\n",
            "is 2\n",
            "the 3\n",
            "first 5\n",
            "line. 5\n",
            "This 4\n",
            "is 2\n",
            "the 3\n",
            "second 6\n",
            "line. 5\n",
            "The Largest word is: the\n"
          ]
        }
      ],
      "source": [
        "with open(\"text1.txt\",'r') as file:\n",
        "  word_list=file.read().split()\n",
        "  print(word_list)\n",
        "  len_word=[]\n",
        "  for i in word_list:\n",
        "    print(i,len(i))\n",
        "    len_word.append(len(i))\n",
        "print(\"The Largest word is:\",max(word_list))"
      ]
    },
    {
      "cell_type": "code",
      "execution_count": null,
      "metadata": {
        "colab": {
          "base_uri": "https://localhost:8080/"
        },
        "id": "j9rmk1ok97zo",
        "outputId": "04faf389-ed50-42f8-be0a-4befc964259a"
      },
      "outputs": [
        {
          "name": "stdout",
          "output_type": "stream",
          "text": [
            "The Largest word is: the\n"
          ]
        }
      ],
      "source": [
        "with open(\"text1.txt\",'r') as file:\n",
        "  word_list=file.read().split()\n",
        "\n",
        "print(\"The Largest word is:\",max(word_list))"
      ]
    },
    {
      "cell_type": "code",
      "execution_count": null,
      "metadata": {
        "colab": {
          "base_uri": "https://localhost:8080/"
        },
        "id": "bc4n4FvX970v",
        "outputId": "34f77ff5-ed03-4726-fc57-bd273b35981d"
      },
      "outputs": [
        {
          "name": "stdout",
          "output_type": "stream",
          "text": [
            "second\n"
          ]
        }
      ],
      "source": [
        "def longest_word(file):\n",
        "  with open(file,'r') as f:\n",
        "    words=f.read().split()\n",
        "    return(max(words,key=len))\n",
        "print(longest_word(\"text1.txt\"))"
      ]
    },
    {
      "cell_type": "code",
      "execution_count": null,
      "metadata": {
        "colab": {
          "base_uri": "https://localhost:8080/",
          "height": 125
        },
        "id": "foyxU17-9731",
        "outputId": "45131f5d-759b-4a86-92b4-898783d6fcd3"
      },
      "outputs": [
        {
          "data": {
            "application/vnd.google.colaboratory.intrinsic+json": {
              "summary": "{\n  \"name\": \"df\",\n  \"rows\": 2,\n  \"fields\": [\n    {\n      \"column\": \"Unnamed: 0\",\n      \"properties\": {\n        \"dtype\": \"number\",\n        \"std\": 0,\n        \"min\": 0,\n        \"max\": 1,\n        \"num_unique_values\": 2,\n        \"samples\": [\n          1,\n          0\n        ],\n        \"semantic_type\": \"\",\n        \"description\": \"\"\n      }\n    },\n    {\n      \"column\": \"Jay\",\n      \"properties\": {\n        \"dtype\": \"string\",\n        \"num_unique_values\": 2,\n        \"samples\": [\n          \"Hyderabad\",\n          \"1998\"\n        ],\n        \"semantic_type\": \"\",\n        \"description\": \"\"\n      }\n    },\n    {\n      \"column\": \"Prajyot\",\n      \"properties\": {\n        \"dtype\": \"string\",\n        \"num_unique_values\": 2,\n        \"samples\": [\n          \"Hyderabad\",\n          \"1995\"\n        ],\n        \"semantic_type\": \"\",\n        \"description\": \"\"\n      }\n    },\n    {\n      \"column\": \"Sushil\",\n      \"properties\": {\n        \"dtype\": \"string\",\n        \"num_unique_values\": 2,\n        \"samples\": [\n          \"Delhi\",\n          \"1989\"\n        ],\n        \"semantic_type\": \"\",\n        \"description\": \"\"\n      }\n    },\n    {\n      \"column\": \"Sonu\",\n      \"properties\": {\n        \"dtype\": \"string\",\n        \"num_unique_values\": 2,\n        \"samples\": [\n          \"Karnataka\",\n          \"1990\"\n        ],\n        \"semantic_type\": \"\",\n        \"description\": \"\"\n      }\n    }\n  ]\n}",
              "type": "dataframe",
              "variable_name": "df"
            },
            "text/html": [
              "\n",
              "  <div id=\"df-8256c526-b539-4364-9c19-2ed4f9a7ec7a\" class=\"colab-df-container\">\n",
              "    <div>\n",
              "<style scoped>\n",
              "    .dataframe tbody tr th:only-of-type {\n",
              "        vertical-align: middle;\n",
              "    }\n",
              "\n",
              "    .dataframe tbody tr th {\n",
              "        vertical-align: top;\n",
              "    }\n",
              "\n",
              "    .dataframe thead th {\n",
              "        text-align: right;\n",
              "    }\n",
              "</style>\n",
              "<table border=\"1\" class=\"dataframe\">\n",
              "  <thead>\n",
              "    <tr style=\"text-align: right;\">\n",
              "      <th></th>\n",
              "      <th>Unnamed: 0</th>\n",
              "      <th>Jay</th>\n",
              "      <th>Prajyot</th>\n",
              "      <th>Sushil</th>\n",
              "      <th>Sonu</th>\n",
              "    </tr>\n",
              "  </thead>\n",
              "  <tbody>\n",
              "    <tr>\n",
              "      <th>0</th>\n",
              "      <td>0</td>\n",
              "      <td>1998</td>\n",
              "      <td>1995</td>\n",
              "      <td>1989</td>\n",
              "      <td>1990</td>\n",
              "    </tr>\n",
              "    <tr>\n",
              "      <th>1</th>\n",
              "      <td>1</td>\n",
              "      <td>Hyderabad</td>\n",
              "      <td>Hyderabad</td>\n",
              "      <td>Delhi</td>\n",
              "      <td>Karnataka</td>\n",
              "    </tr>\n",
              "  </tbody>\n",
              "</table>\n",
              "</div>\n",
              "    <div class=\"colab-df-buttons\">\n",
              "\n",
              "  <div class=\"colab-df-container\">\n",
              "    <button class=\"colab-df-convert\" onclick=\"convertToInteractive('df-8256c526-b539-4364-9c19-2ed4f9a7ec7a')\"\n",
              "            title=\"Convert this dataframe to an interactive table.\"\n",
              "            style=\"display:none;\">\n",
              "\n",
              "  <svg xmlns=\"http://www.w3.org/2000/svg\" height=\"24px\" viewBox=\"0 -960 960 960\">\n",
              "    <path d=\"M120-120v-720h720v720H120Zm60-500h600v-160H180v160Zm220 220h160v-160H400v160Zm0 220h160v-160H400v160ZM180-400h160v-160H180v160Zm440 0h160v-160H620v160ZM180-180h160v-160H180v160Zm440 0h160v-160H620v160Z\"/>\n",
              "  </svg>\n",
              "    </button>\n",
              "\n",
              "  <style>\n",
              "    .colab-df-container {\n",
              "      display:flex;\n",
              "      gap: 12px;\n",
              "    }\n",
              "\n",
              "    .colab-df-convert {\n",
              "      background-color: #E8F0FE;\n",
              "      border: none;\n",
              "      border-radius: 50%;\n",
              "      cursor: pointer;\n",
              "      display: none;\n",
              "      fill: #1967D2;\n",
              "      height: 32px;\n",
              "      padding: 0 0 0 0;\n",
              "      width: 32px;\n",
              "    }\n",
              "\n",
              "    .colab-df-convert:hover {\n",
              "      background-color: #E2EBFA;\n",
              "      box-shadow: 0px 1px 2px rgba(60, 64, 67, 0.3), 0px 1px 3px 1px rgba(60, 64, 67, 0.15);\n",
              "      fill: #174EA6;\n",
              "    }\n",
              "\n",
              "    .colab-df-buttons div {\n",
              "      margin-bottom: 4px;\n",
              "    }\n",
              "\n",
              "    [theme=dark] .colab-df-convert {\n",
              "      background-color: #3B4455;\n",
              "      fill: #D2E3FC;\n",
              "    }\n",
              "\n",
              "    [theme=dark] .colab-df-convert:hover {\n",
              "      background-color: #434B5C;\n",
              "      box-shadow: 0px 1px 3px 1px rgba(0, 0, 0, 0.15);\n",
              "      filter: drop-shadow(0px 1px 2px rgba(0, 0, 0, 0.3));\n",
              "      fill: #FFFFFF;\n",
              "    }\n",
              "  </style>\n",
              "\n",
              "    <script>\n",
              "      const buttonEl =\n",
              "        document.querySelector('#df-8256c526-b539-4364-9c19-2ed4f9a7ec7a button.colab-df-convert');\n",
              "      buttonEl.style.display =\n",
              "        google.colab.kernel.accessAllowed ? 'block' : 'none';\n",
              "\n",
              "      async function convertToInteractive(key) {\n",
              "        const element = document.querySelector('#df-8256c526-b539-4364-9c19-2ed4f9a7ec7a');\n",
              "        const dataTable =\n",
              "          await google.colab.kernel.invokeFunction('convertToInteractive',\n",
              "                                                    [key], {});\n",
              "        if (!dataTable) return;\n",
              "\n",
              "        const docLinkHtml = 'Like what you see? Visit the ' +\n",
              "          '<a target=\"_blank\" href=https://colab.research.google.com/notebooks/data_table.ipynb>data table notebook</a>'\n",
              "          + ' to learn more about interactive tables.';\n",
              "        element.innerHTML = '';\n",
              "        dataTable['output_type'] = 'display_data';\n",
              "        await google.colab.output.renderOutput(dataTable, element);\n",
              "        const docLink = document.createElement('div');\n",
              "        docLink.innerHTML = docLinkHtml;\n",
              "        element.appendChild(docLink);\n",
              "      }\n",
              "    </script>\n",
              "  </div>\n",
              "\n",
              "\n",
              "<div id=\"df-1bab04ee-0e9d-4efe-95ee-2e45cd1315bd\">\n",
              "  <button class=\"colab-df-quickchart\" onclick=\"quickchart('df-1bab04ee-0e9d-4efe-95ee-2e45cd1315bd')\"\n",
              "            title=\"Suggest charts\"\n",
              "            style=\"display:none;\">\n",
              "\n",
              "<svg xmlns=\"http://www.w3.org/2000/svg\" height=\"24px\"viewBox=\"0 0 24 24\"\n",
              "     width=\"24px\">\n",
              "    <g>\n",
              "        <path d=\"M19 3H5c-1.1 0-2 .9-2 2v14c0 1.1.9 2 2 2h14c1.1 0 2-.9 2-2V5c0-1.1-.9-2-2-2zM9 17H7v-7h2v7zm4 0h-2V7h2v10zm4 0h-2v-4h2v4z\"/>\n",
              "    </g>\n",
              "</svg>\n",
              "  </button>\n",
              "\n",
              "<style>\n",
              "  .colab-df-quickchart {\n",
              "      --bg-color: #E8F0FE;\n",
              "      --fill-color: #1967D2;\n",
              "      --hover-bg-color: #E2EBFA;\n",
              "      --hover-fill-color: #174EA6;\n",
              "      --disabled-fill-color: #AAA;\n",
              "      --disabled-bg-color: #DDD;\n",
              "  }\n",
              "\n",
              "  [theme=dark] .colab-df-quickchart {\n",
              "      --bg-color: #3B4455;\n",
              "      --fill-color: #D2E3FC;\n",
              "      --hover-bg-color: #434B5C;\n",
              "      --hover-fill-color: #FFFFFF;\n",
              "      --disabled-bg-color: #3B4455;\n",
              "      --disabled-fill-color: #666;\n",
              "  }\n",
              "\n",
              "  .colab-df-quickchart {\n",
              "    background-color: var(--bg-color);\n",
              "    border: none;\n",
              "    border-radius: 50%;\n",
              "    cursor: pointer;\n",
              "    display: none;\n",
              "    fill: var(--fill-color);\n",
              "    height: 32px;\n",
              "    padding: 0;\n",
              "    width: 32px;\n",
              "  }\n",
              "\n",
              "  .colab-df-quickchart:hover {\n",
              "    background-color: var(--hover-bg-color);\n",
              "    box-shadow: 0 1px 2px rgba(60, 64, 67, 0.3), 0 1px 3px 1px rgba(60, 64, 67, 0.15);\n",
              "    fill: var(--button-hover-fill-color);\n",
              "  }\n",
              "\n",
              "  .colab-df-quickchart-complete:disabled,\n",
              "  .colab-df-quickchart-complete:disabled:hover {\n",
              "    background-color: var(--disabled-bg-color);\n",
              "    fill: var(--disabled-fill-color);\n",
              "    box-shadow: none;\n",
              "  }\n",
              "\n",
              "  .colab-df-spinner {\n",
              "    border: 2px solid var(--fill-color);\n",
              "    border-color: transparent;\n",
              "    border-bottom-color: var(--fill-color);\n",
              "    animation:\n",
              "      spin 1s steps(1) infinite;\n",
              "  }\n",
              "\n",
              "  @keyframes spin {\n",
              "    0% {\n",
              "      border-color: transparent;\n",
              "      border-bottom-color: var(--fill-color);\n",
              "      border-left-color: var(--fill-color);\n",
              "    }\n",
              "    20% {\n",
              "      border-color: transparent;\n",
              "      border-left-color: var(--fill-color);\n",
              "      border-top-color: var(--fill-color);\n",
              "    }\n",
              "    30% {\n",
              "      border-color: transparent;\n",
              "      border-left-color: var(--fill-color);\n",
              "      border-top-color: var(--fill-color);\n",
              "      border-right-color: var(--fill-color);\n",
              "    }\n",
              "    40% {\n",
              "      border-color: transparent;\n",
              "      border-right-color: var(--fill-color);\n",
              "      border-top-color: var(--fill-color);\n",
              "    }\n",
              "    60% {\n",
              "      border-color: transparent;\n",
              "      border-right-color: var(--fill-color);\n",
              "    }\n",
              "    80% {\n",
              "      border-color: transparent;\n",
              "      border-right-color: var(--fill-color);\n",
              "      border-bottom-color: var(--fill-color);\n",
              "    }\n",
              "    90% {\n",
              "      border-color: transparent;\n",
              "      border-bottom-color: var(--fill-color);\n",
              "    }\n",
              "  }\n",
              "</style>\n",
              "\n",
              "  <script>\n",
              "    async function quickchart(key) {\n",
              "      const quickchartButtonEl =\n",
              "        document.querySelector('#' + key + ' button');\n",
              "      quickchartButtonEl.disabled = true;  // To prevent multiple clicks.\n",
              "      quickchartButtonEl.classList.add('colab-df-spinner');\n",
              "      try {\n",
              "        const charts = await google.colab.kernel.invokeFunction(\n",
              "            'suggestCharts', [key], {});\n",
              "      } catch (error) {\n",
              "        console.error('Error during call to suggestCharts:', error);\n",
              "      }\n",
              "      quickchartButtonEl.classList.remove('colab-df-spinner');\n",
              "      quickchartButtonEl.classList.add('colab-df-quickchart-complete');\n",
              "    }\n",
              "    (() => {\n",
              "      let quickchartButtonEl =\n",
              "        document.querySelector('#df-1bab04ee-0e9d-4efe-95ee-2e45cd1315bd button');\n",
              "      quickchartButtonEl.style.display =\n",
              "        google.colab.kernel.accessAllowed ? 'block' : 'none';\n",
              "    })();\n",
              "  </script>\n",
              "</div>\n",
              "\n",
              "  <div id=\"id_b665d7ac-a3e3-4867-8259-3bb84dd3a77d\">\n",
              "    <style>\n",
              "      .colab-df-generate {\n",
              "        background-color: #E8F0FE;\n",
              "        border: none;\n",
              "        border-radius: 50%;\n",
              "        cursor: pointer;\n",
              "        display: none;\n",
              "        fill: #1967D2;\n",
              "        height: 32px;\n",
              "        padding: 0 0 0 0;\n",
              "        width: 32px;\n",
              "      }\n",
              "\n",
              "      .colab-df-generate:hover {\n",
              "        background-color: #E2EBFA;\n",
              "        box-shadow: 0px 1px 2px rgba(60, 64, 67, 0.3), 0px 1px 3px 1px rgba(60, 64, 67, 0.15);\n",
              "        fill: #174EA6;\n",
              "      }\n",
              "\n",
              "      [theme=dark] .colab-df-generate {\n",
              "        background-color: #3B4455;\n",
              "        fill: #D2E3FC;\n",
              "      }\n",
              "\n",
              "      [theme=dark] .colab-df-generate:hover {\n",
              "        background-color: #434B5C;\n",
              "        box-shadow: 0px 1px 3px 1px rgba(0, 0, 0, 0.15);\n",
              "        filter: drop-shadow(0px 1px 2px rgba(0, 0, 0, 0.3));\n",
              "        fill: #FFFFFF;\n",
              "      }\n",
              "    </style>\n",
              "    <button class=\"colab-df-generate\" onclick=\"generateWithVariable('df')\"\n",
              "            title=\"Generate code using this dataframe.\"\n",
              "            style=\"display:none;\">\n",
              "\n",
              "  <svg xmlns=\"http://www.w3.org/2000/svg\" height=\"24px\"viewBox=\"0 0 24 24\"\n",
              "       width=\"24px\">\n",
              "    <path d=\"M7,19H8.4L18.45,9,17,7.55,7,17.6ZM5,21V16.75L18.45,3.32a2,2,0,0,1,2.83,0l1.4,1.43a1.91,1.91,0,0,1,.58,1.4,1.91,1.91,0,0,1-.58,1.4L9.25,21ZM18.45,9,17,7.55Zm-12,3A5.31,5.31,0,0,0,4.9,8.1,5.31,5.31,0,0,0,1,6.5,5.31,5.31,0,0,0,4.9,4.9,5.31,5.31,0,0,0,6.5,1,5.31,5.31,0,0,0,8.1,4.9,5.31,5.31,0,0,0,12,6.5,5.46,5.46,0,0,0,6.5,12Z\"/>\n",
              "  </svg>\n",
              "    </button>\n",
              "    <script>\n",
              "      (() => {\n",
              "      const buttonEl =\n",
              "        document.querySelector('#id_b665d7ac-a3e3-4867-8259-3bb84dd3a77d button.colab-df-generate');\n",
              "      buttonEl.style.display =\n",
              "        google.colab.kernel.accessAllowed ? 'block' : 'none';\n",
              "\n",
              "      buttonEl.onclick = () => {\n",
              "        google.colab.notebook.generateWithVariable('df');\n",
              "      }\n",
              "      })();\n",
              "    </script>\n",
              "  </div>\n",
              "\n",
              "    </div>\n",
              "  </div>\n"
            ],
            "text/plain": [
              "   Unnamed: 0        Jay    Prajyot Sushil       Sonu\n",
              "0           0       1998       1995   1989       1990\n",
              "1           1  Hyderabad  Hyderabad  Delhi  Karnataka"
            ]
          },
          "execution_count": 70,
          "metadata": {},
          "output_type": "execute_result"
        }
      ],
      "source": [
        "import pandas as pd\n",
        "df=pd.read_csv(\"dictionary.csv\")\n",
        "df"
      ]
    },
    {
      "cell_type": "code",
      "execution_count": null,
      "metadata": {
        "colab": {
          "base_uri": "https://localhost:8080/"
        },
        "id": "XpgzRW7m975V",
        "outputId": "94bf9042-1bc7-40ef-becb-3224e4df9283"
      },
      "outputs": [
        {
          "name": "stdout",
          "output_type": "stream",
          "text": [
            "Viswavidhyalayam.\n"
          ]
        }
      ],
      "source": [
        "def longest_word(file):\n",
        "  with open(file,'r') as f:\n",
        "    words=f.read().split()\n",
        "    return(max(words,key=len))\n",
        "print(longest_word(\"/content/Test.txt\"))"
      ]
    },
    {
      "cell_type": "code",
      "execution_count": null,
      "metadata": {
        "colab": {
          "base_uri": "https://localhost:8080/"
        },
        "id": "HLqpFwxK977S",
        "outputId": "bca83930-715e-425f-e43e-42ccf4d401c7"
      },
      "outputs": [
        {
          "name": "stdout",
          "output_type": "stream",
          "text": [
            "Viswavidhyalayam.\n"
          ]
        }
      ],
      "source": [
        "def longest_word(file):\n",
        "  try:\n",
        "    with open(file,'r') as f:\n",
        "      words=f.read().split()\n",
        "  except:\n",
        "    return \"Chech the file\"\n",
        "  else:\n",
        "    return(max(words,key=len))\n",
        "print(longest_word(\"/content/Test.txt\"))"
      ]
    },
    {
      "cell_type": "code",
      "execution_count": null,
      "metadata": {
        "colab": {
          "base_uri": "https://localhost:8080/"
        },
        "id": "_fWkorlt979R",
        "outputId": "1a0e8b14-5f4e-47c1-9179-0a58483629a1"
      },
      "outputs": [
        {
          "data": {
            "text/plain": [
              "100"
            ]
          },
          "execution_count": 79,
          "metadata": {},
          "output_type": "execute_result"
        }
      ],
      "source": [
        "#lambda functions\n",
        "t=lambda r:r**2\n",
        "t(10)"
      ]
    },
    {
      "cell_type": "code",
      "execution_count": null,
      "metadata": {
        "colab": {
          "base_uri": "https://localhost:8080/"
        },
        "id": "R9HARAOz97-d",
        "outputId": "77f0b8fe-7d52-4237-8bc3-7983dd2fbfd2"
      },
      "outputs": [
        {
          "name": "stdout",
          "output_type": "stream",
          "text": [
            "[5, 7, 9, 11]\n"
          ]
        }
      ],
      "source": [
        "#filter functions\n",
        "l1=[2,4,5,7,8,9,11]\n",
        "#filter out odd munbers from given list.\n",
        "odd_num=list(filter(lambda i:i%2!=0,l1))\n",
        "print(odd_num)"
      ]
    },
    {
      "cell_type": "code",
      "execution_count": null,
      "metadata": {
        "colab": {
          "base_uri": "https://localhost:8080/"
        },
        "id": "Ya1F2Zu398AH",
        "outputId": "1611ab64-a485-422b-d34d-bc032faf5cb5"
      },
      "outputs": [
        {
          "name": "stdout",
          "output_type": "stream",
          "text": [
            "None\n"
          ]
        }
      ],
      "source": [
        "fruit_list=[[\"Mango\",200],[\"Grapes,140\"],[\"Apple,98\",]]\n",
        "#Sort the list depending on quantoity.\n",
        "print(fruit_list.sort())"
      ]
    },
    {
      "cell_type": "code",
      "execution_count": null,
      "metadata": {
        "colab": {
          "base_uri": "https://localhost:8080/"
        },
        "id": "QdXrRjgu98Cf",
        "outputId": "06936285-5529-4810-899b-88c088408ac9"
      },
      "outputs": [
        {
          "output_type": "stream",
          "name": "stdout",
          "text": [
            "[['Apple,198'], ['Grapes,140'], ['Mango', 200]]\n"
          ]
        }
      ],
      "source": [
        "fruit_list=[[\"Mango\",200],[\"Grapes,140\"],[\"Apple,198\",]]\n",
        "fruit_list.sort(key=lambda i:i[0])\n",
        "print(fruit_list)"
      ]
    },
    {
      "cell_type": "code",
      "execution_count": null,
      "metadata": {
        "colab": {
          "base_uri": "https://localhost:8080/"
        },
        "id": "J8kyvXh598BY",
        "outputId": "b320508f-7d2c-4ac7-96a7-4b4231998d68"
      },
      "outputs": [
        {
          "data": {
            "text/plain": [
              "<function list.sort(*, key=None, reverse=False)>"
            ]
          },
          "execution_count": 88,
          "metadata": {},
          "output_type": "execute_result"
        }
      ],
      "source": [
        "l2=[12,15,16,48]\n",
        "l2.sort"
      ]
    },
    {
      "cell_type": "code",
      "execution_count": 19,
      "metadata": {
        "id": "VVMss9ct98Dz",
        "outputId": "e1f7ebff-aeab-41e3-d4e0-2795a96cabe3",
        "colab": {
          "base_uri": "https://localhost:8080/"
        }
      },
      "outputs": [
        {
          "output_type": "stream",
          "name": "stdout",
          "text": [
            "         Name Gender  Age  Height(in cm)  Weight\n",
            "0    Sathwika      F   23            156      45\n",
            "1      Suresh      M   24            165      68\n",
            "2   Vaishnavi      F   20            185      55\n",
            "3  Tejashwini      F   21            152      52\n",
            "4        Anil      M   24            153      62\n",
            "5   Rajashree      F   22            165      50\n",
            "6   Yashwanth      M   18            162      51\n",
            "7      Deepak      M   22            176      60\n",
            "8       ynxlu      M   18            168      54\n"
          ]
        }
      ],
      "source": [
        "import pandas as pd\n",
        "import random\n",
        "data={\"Name\":[\"Sathwika\",\"Suresh\",\"Vaishnavi\",\"Tejashwini\",\"Anil\",\"Rajashree\",\"Yashwanth\",\"Deepak\"],\"Gender\":[\"F\",\"M\",\"F\",\"F\",\"M\",\"F\",\"M\",\"M\"],\"Age\":[23,24,20,21,24,22,18,22],\n",
        "                \"Height(in cm)\":[156,165,185,152,153,165,162,176],\"Weight\":[45,68,55,52,62,50,51,60]}\n",
        "df=pd.DataFrame(data)\n",
        "for _ in range(5):\n",
        "    name=''.join(random.choice('abcdefghijklmnopqrstuvwxyz') for _ in range(5))\n",
        "    gender=random.choice([\"M\",\"F\"])\n",
        "    age=random.randint(18,30)\n",
        "    height=random.randint(150,200)\n",
        "    weight=random.randint(40,100)\n",
        "\n",
        "df.loc[len(df)]=({\"Name\":name,\"Gender\":gender,\"Age\":age,\"Height(in cm)\":height,\"Weight\":weight})\n",
        "print(df)\n"
      ]
    },
    {
      "cell_type": "code",
      "execution_count": null,
      "metadata": {
        "id": "RlNX4mAx98Hs"
      },
      "outputs": [],
      "source": []
    },
    {
      "cell_type": "code",
      "execution_count": null,
      "metadata": {
        "id": "PpWAKAab98V7"
      },
      "outputs": [],
      "source": []
    }
  ],
  "metadata": {
    "colab": {
      "provenance": []
    },
    "kernelspec": {
      "display_name": "Python 3",
      "name": "python3"
    },
    "language_info": {
      "name": "python"
    }
  },
  "nbformat": 4,
  "nbformat_minor": 0
}