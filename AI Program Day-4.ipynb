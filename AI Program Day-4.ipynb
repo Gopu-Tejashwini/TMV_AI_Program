{
 "cells": [
  {
   "cell_type": "code",
   "execution_count": 32,
   "id": "23c50f69-642f-4bf4-bc0d-44343f1db089",
   "metadata": {},
   "outputs": [
    {
     "name": "stdout",
     "output_type": "stream",
     "text": [
      "Gopu\n",
      "Tejashwini\n",
      "Gopu Tejashwini\n"
     ]
    }
   ],
   "source": [
    "#Create the function that will capitalize the first letter of first name and last name.\n",
    "#Input:gopu tejashwini\n",
    "#Expected output:Gopu Tejashwini\n",
    "x1='gopu'\n",
    "x2='tejashwini'\n",
    "print(x1.capitalize())\n",
    "print(x2.capitalize())\n",
    "print(x1.capitalize(),x2.capitalize())"
   ]
  },
  {
   "cell_type": "code",
   "execution_count": 33,
   "id": "b05a7f26-97de-443d-bc6d-9355c4cd5881",
   "metadata": {},
   "outputs": [
    {
     "data": {
      "text/plain": [
       "'Gopu Tejashwini'"
      ]
     },
     "execution_count": 33,
     "metadata": {},
     "output_type": "execute_result"
    }
   ],
   "source": [
    "def cap_names(x):\n",
    "    a=x.title()\n",
    "    return a\n",
    "cap_names(\"gopu tejashwini\")"
   ]
  },
  {
   "cell_type": "code",
   "execution_count": 34,
   "id": "7a95911a-3f4a-4934-9fb8-b4188ae04625",
   "metadata": {},
   "outputs": [
    {
     "data": {
      "text/plain": [
       "'Gopu Tejashwini'"
      ]
     },
     "execution_count": 34,
     "metadata": {},
     "output_type": "execute_result"
    }
   ],
   "source": [
    "def cap_names(x):\n",
    "    a=x.split(' ')\n",
    "    a=(i.capitalize() for i in a)\n",
    "    return' '.join(a)\n",
    "cap_names(\"gopu tejashwini\")"
   ]
  },
  {
   "cell_type": "code",
   "execution_count": 35,
   "id": "07b80397-ad29-44ef-8e54-1f29cc88667c",
   "metadata": {},
   "outputs": [
    {
     "data": {
      "text/plain": [
       "'Gopu Tejashwini'"
      ]
     },
     "execution_count": 35,
     "metadata": {},
     "output_type": "execute_result"
    }
   ],
   "source": [
    "def cap_names(x):\n",
    "    a=x.split(' ')\n",
    "    b=[]\n",
    "    for i in range(len(a)):\n",
    "        b.append(a[i].capitalize())\n",
    "    return' '.join(b)\n",
    "cap_names(\"gopu tejashwini\")"
   ]
  },
  {
   "cell_type": "code",
   "execution_count": 36,
   "id": "ced33e53-36ca-4d0a-a81a-8765efa4b5b0",
   "metadata": {},
   "outputs": [],
   "source": [
    "#Create a DataFrame with 4-5 names and apply this function on that dataframe to give proper case names.\n",
    "import pandas as pd\n",
    "data={\"Names\":[\"gopu tejashwini\",\"bairavi rajashree\",\"baraigala vijayalaxmi\",\"gangi vaishnavi\",\"poloju manasa\"]}\n",
    "df=pd.DataFrame(data)\n"
   ]
  },
  {
   "cell_type": "code",
   "execution_count": 37,
   "id": "e9510c4c-df16-4607-aa0c-f2c0171f5177",
   "metadata": {},
   "outputs": [
    {
     "data": {
      "text/plain": [
       "pandas.core.series.Series"
      ]
     },
     "execution_count": 37,
     "metadata": {},
     "output_type": "execute_result"
    }
   ],
   "source": [
    "type(df[\"Names\"])"
   ]
  },
  {
   "cell_type": "code",
   "execution_count": 38,
   "id": "96a98dbf-d78a-43ad-8923-5ba75017175f",
   "metadata": {},
   "outputs": [
    {
     "data": {
      "text/plain": [
       "'bairavi rajashree'"
      ]
     },
     "execution_count": 38,
     "metadata": {},
     "output_type": "execute_result"
    }
   ],
   "source": [
    "df[\"Names\"][1]"
   ]
  },
  {
   "cell_type": "code",
   "execution_count": 39,
   "id": "1aac49d0-465a-4ba9-a011-0e8ca8fea5eb",
   "metadata": {},
   "outputs": [
    {
     "name": "stdout",
     "output_type": "stream",
     "text": [
      "Bairavi Rajashree\n"
     ]
    }
   ],
   "source": [
    "print(cap_names(df[\"Names\"][1]))"
   ]
  },
  {
   "cell_type": "code",
   "execution_count": 40,
   "id": "277085a1-f626-4833-a541-65c6be0f074c",
   "metadata": {},
   "outputs": [
    {
     "name": "stdout",
     "output_type": "stream",
     "text": [
      "Gopu Tejashwini\n",
      "Bairavi Rajashree\n",
      "Baraigala Vijayalaxmi\n",
      "Gangi Vaishnavi\n",
      "Poloju Manasa\n"
     ]
    }
   ],
   "source": [
    "for i in range(len(df[\"Names\"])):\n",
    "    print(cap_names(df[\"Names\"][i]))"
   ]
  },
  {
   "cell_type": "code",
   "execution_count": 41,
   "id": "732aee7a-a2a3-4573-bc75-44851fb23497",
   "metadata": {},
   "outputs": [
    {
     "name": "stdout",
     "output_type": "stream",
     "text": [
      "['Gopu Tejashwini', 'Bairavi Rajashree', 'Baraigala Vijayalaxmi', 'Gangi Vaishnavi', 'Poloju Manasa']\n"
     ]
    }
   ],
   "source": [
    "list1=[]\n",
    "for i in range(len(df[\"Names\"])):\n",
    "    list1.append(cap_names(df[\"Names\"][i]))\n",
    "print(list1)"
   ]
  },
  {
   "cell_type": "code",
   "execution_count": 42,
   "id": "d98cbe96-3213-458e-8a61-c711b260c4d6",
   "metadata": {},
   "outputs": [],
   "source": [
    "df[\"Names\"]=list1"
   ]
  },
  {
   "cell_type": "code",
   "execution_count": 43,
   "id": "68e06801-7174-40a2-b777-34834178562f",
   "metadata": {},
   "outputs": [
    {
     "data": {
      "text/html": [
       "<div>\n",
       "<style scoped>\n",
       "    .dataframe tbody tr th:only-of-type {\n",
       "        vertical-align: middle;\n",
       "    }\n",
       "\n",
       "    .dataframe tbody tr th {\n",
       "        vertical-align: top;\n",
       "    }\n",
       "\n",
       "    .dataframe thead th {\n",
       "        text-align: right;\n",
       "    }\n",
       "</style>\n",
       "<table border=\"1\" class=\"dataframe\">\n",
       "  <thead>\n",
       "    <tr style=\"text-align: right;\">\n",
       "      <th></th>\n",
       "      <th>Names</th>\n",
       "    </tr>\n",
       "  </thead>\n",
       "  <tbody>\n",
       "    <tr>\n",
       "      <th>0</th>\n",
       "      <td>Gopu Tejashwini</td>\n",
       "    </tr>\n",
       "    <tr>\n",
       "      <th>1</th>\n",
       "      <td>Bairavi Rajashree</td>\n",
       "    </tr>\n",
       "    <tr>\n",
       "      <th>2</th>\n",
       "      <td>Baraigala Vijayalaxmi</td>\n",
       "    </tr>\n",
       "    <tr>\n",
       "      <th>3</th>\n",
       "      <td>Gangi Vaishnavi</td>\n",
       "    </tr>\n",
       "    <tr>\n",
       "      <th>4</th>\n",
       "      <td>Poloju Manasa</td>\n",
       "    </tr>\n",
       "  </tbody>\n",
       "</table>\n",
       "</div>"
      ],
      "text/plain": [
       "                   Names\n",
       "0        Gopu Tejashwini\n",
       "1      Bairavi Rajashree\n",
       "2  Baraigala Vijayalaxmi\n",
       "3        Gangi Vaishnavi\n",
       "4          Poloju Manasa"
      ]
     },
     "execution_count": 43,
     "metadata": {},
     "output_type": "execute_result"
    }
   ],
   "source": [
    "df"
   ]
  },
  {
   "cell_type": "code",
   "execution_count": 44,
   "id": "4b253c60-f184-425c-987d-d7275d111f29",
   "metadata": {},
   "outputs": [],
   "source": [
    "import calendar"
   ]
  },
  {
   "cell_type": "code",
   "execution_count": 1,
   "id": "e464ea44-87d9-445d-96c9-b94ac1077ca6",
   "metadata": {},
   "outputs": [],
   "source": [
    "class Employee:\n",
    "    comp=\"DELL\"\n",
    "    depart=\"WIAI\"\n",
    "    def wish(self):\n",
    "        print(\"Good Morning\")\n",
    "    def add(self,a,b):\n",
    "        return(a+b)"
   ]
  },
  {
   "cell_type": "code",
   "execution_count": 2,
   "id": "537fb667-4090-48ff-b831-19560dddb10b",
   "metadata": {},
   "outputs": [],
   "source": [
    "X=Employee()"
   ]
  },
  {
   "cell_type": "code",
   "execution_count": 3,
   "id": "c4c2aae5-a3a2-4ef4-86f3-06e22d723e16",
   "metadata": {},
   "outputs": [
    {
     "data": {
      "text/plain": [
       "'DELL'"
      ]
     },
     "execution_count": 3,
     "metadata": {},
     "output_type": "execute_result"
    }
   ],
   "source": [
    "X.comp"
   ]
  },
  {
   "cell_type": "code",
   "execution_count": 4,
   "id": "0cac918f-cdee-4271-8684-ee8090570b8b",
   "metadata": {},
   "outputs": [
    {
     "name": "stdout",
     "output_type": "stream",
     "text": [
      "Good Morning\n"
     ]
    }
   ],
   "source": [
    "X.wish()"
   ]
  },
  {
   "cell_type": "code",
   "execution_count": 5,
   "id": "bb21e348-ed80-4b96-8466-981d229124ac",
   "metadata": {},
   "outputs": [
    {
     "data": {
      "text/plain": [
       "12"
      ]
     },
     "execution_count": 5,
     "metadata": {},
     "output_type": "execute_result"
    }
   ],
   "source": [
    "X.add(5,7)"
   ]
  },
  {
   "cell_type": "code",
   "execution_count": 6,
   "id": "87e06272-6d5c-45d9-93b8-ed8e8c3e20ca",
   "metadata": {},
   "outputs": [
    {
     "data": {
      "text/plain": [
       "25"
      ]
     },
     "execution_count": 6,
     "metadata": {},
     "output_type": "execute_result"
    }
   ],
   "source": [
    "20+X.add(1,4)"
   ]
  },
  {
   "cell_type": "code",
   "execution_count": 165,
   "id": "71dbae83-96d3-42b3-b4b6-b169fe7968f2",
   "metadata": {},
   "outputs": [
    {
     "data": {
      "text/plain": [
       "'WIAI'"
      ]
     },
     "execution_count": 165,
     "metadata": {},
     "output_type": "execute_result"
    }
   ],
   "source": [
    "X.depart"
   ]
  },
  {
   "cell_type": "code",
   "execution_count": 144,
   "id": "4808f83e-79ed-4f7d-9362-76ee43f134a9",
   "metadata": {},
   "outputs": [],
   "source": [
    "class Employee:\n",
    "    comp=\"LLF\"\n",
    "    depart=\"WIAI\"\n",
    "    def __init__(self,name):\n",
    "        print(f\"{name},Welcome to LLF\")\n",
    "    def wish(self):\n",
    "        print(\"Good Morning\")\n",
    "    def add(self,a,b):\n",
    "        return(a,b)"
   ]
  },
  {
   "cell_type": "code",
   "execution_count": 145,
   "id": "a23a75ae-1d4c-4dc9-b584-9f57f6f0cbec",
   "metadata": {},
   "outputs": [
    {
     "name": "stdout",
     "output_type": "stream",
     "text": [
      "Teju,Welcome to LLF\n"
     ]
    }
   ],
   "source": [
    "X=Employee(\"Teju\")"
   ]
  },
  {
   "cell_type": "code",
   "execution_count": 146,
   "id": "b70d72fa-892a-44c1-9b5f-1f6acfb2fffb",
   "metadata": {},
   "outputs": [],
   "source": [
    "class Employee:\n",
    "    comp=\"LLF\"\n",
    "    depart=\"WIAI\"\n",
    "    def wish(self):\n",
    "        print(\"Good Morning\")\n",
    "    def add(self,a,b):\n",
    "        return(a+b)\n",
    "\n",
    "class Employee2:\n",
    "    comp=\"google\"\n",
    "    location=\"delhi\"\n"
   ]
  },
  {
   "cell_type": "code",
   "execution_count": 147,
   "id": "4e9174cb-9d0a-499d-bc6c-396879712748",
   "metadata": {},
   "outputs": [],
   "source": [
    "y=Employee()"
   ]
  },
  {
   "cell_type": "code",
   "execution_count": 148,
   "id": "4407227f-1a5b-4be2-9a48-791970ac9e05",
   "metadata": {},
   "outputs": [
    {
     "data": {
      "text/plain": [
       "'LLF'"
      ]
     },
     "execution_count": 148,
     "metadata": {},
     "output_type": "execute_result"
    }
   ],
   "source": [
    "y.comp"
   ]
  },
  {
   "cell_type": "code",
   "execution_count": 58,
   "id": "cf470b16-6086-4ab8-a8b8-9c6a1db30fd9",
   "metadata": {},
   "outputs": [
    {
     "name": "stdout",
     "output_type": "stream",
     "text": [
      "Good Morning\n"
     ]
    }
   ],
   "source": [
    "y.wish()"
   ]
  },
  {
   "cell_type": "code",
   "execution_count": 59,
   "id": "5f1ed312-d600-4155-962e-427d2e538555",
   "metadata": {},
   "outputs": [
    {
     "data": {
      "text/plain": [
       "8"
      ]
     },
     "execution_count": 59,
     "metadata": {},
     "output_type": "execute_result"
    }
   ],
   "source": [
    "y.add(4,4)"
   ]
  },
  {
   "cell_type": "code",
   "execution_count": 60,
   "id": "b9328721-0812-48e8-a8a0-17cb01bd2e16",
   "metadata": {},
   "outputs": [],
   "source": [
    "class Employee:\n",
    "    comp=\"LLF\"\n",
    "    depart=\"WIAI\"\n",
    "    def wish(self):\n",
    "        print(\"Good Morning\")\n",
    "    def add(self,a,b):\n",
    "        return(a+b)\n",
    "\n",
    "class Employee2:\n",
    "    comp=\"google\"\n",
    "    location=\"delhi\"\n",
    "    def exp(self,a,b):\n",
    "        return(a**b)\n"
   ]
  },
  {
   "cell_type": "code",
   "execution_count": 61,
   "id": "3842d7fc-805a-483c-95ac-29aadff49594",
   "metadata": {},
   "outputs": [],
   "source": [
    "x=Employee()"
   ]
  },
  {
   "cell_type": "code",
   "execution_count": 62,
   "id": "eb6ccab9-74a3-4098-9c5c-f8665c2c6170",
   "metadata": {},
   "outputs": [],
   "source": [
    "y=Employee2()"
   ]
  },
  {
   "cell_type": "code",
   "execution_count": 63,
   "id": "187f54d9-dc3e-40c6-8a27-f1f7a08adab2",
   "metadata": {},
   "outputs": [
    {
     "data": {
      "text/plain": [
       "8"
      ]
     },
     "execution_count": 63,
     "metadata": {},
     "output_type": "execute_result"
    }
   ],
   "source": [
    "x.add(2,6)"
   ]
  },
  {
   "cell_type": "code",
   "execution_count": 64,
   "id": "5877c6fe-99ff-4764-aac1-ce0f83bc5c51",
   "metadata": {},
   "outputs": [
    {
     "data": {
      "text/plain": [
       "64"
      ]
     },
     "execution_count": 64,
     "metadata": {},
     "output_type": "execute_result"
    }
   ],
   "source": [
    "y.exp(2,6)"
   ]
  },
  {
   "cell_type": "code",
   "execution_count": 65,
   "id": "e58b23b8-fe15-444a-a247-fad2a5aacc4a",
   "metadata": {},
   "outputs": [],
   "source": [
    "#Create a clas with name classroom.\n",
    "#Add functions to add new students or remove students.\n",
    "#Add function to collect email id/contact details.\n",
    "class classroom:\n",
    "    def __init__(self):\n",
    "        self.students=[]\n",
    "        self.contacts=[]\n",
    "    def add_student(self,name):\n",
    "        s=name \n",
    "        self.students.append(s)\n",
    "    def add_contact(self,email_id):\n",
    "        e=email_id\n",
    "        self.contacts.append(e)\n",
    "    def remove_stud(self,name):\n",
    "        self.students.remove(name)\n",
    "                "
   ]
  },
  {
   "cell_type": "code",
   "execution_count": 66,
   "id": "5b3e4e82-2526-4a1e-8700-efdc4e703b89",
   "metadata": {},
   "outputs": [],
   "source": [
    "x=classroom()"
   ]
  },
  {
   "cell_type": "code",
   "execution_count": 67,
   "id": "a142ede6-179d-44ff-a5cf-186cdf1fe3d7",
   "metadata": {},
   "outputs": [],
   "source": [
    "x.add_student(\"Sanskriti\")"
   ]
  },
  {
   "cell_type": "code",
   "execution_count": 68,
   "id": "63ba8dd5-3ced-4997-be2c-f0580050e45c",
   "metadata": {},
   "outputs": [],
   "source": [
    "x.add_student(\"Tejashwini\")"
   ]
  },
  {
   "cell_type": "code",
   "execution_count": 69,
   "id": "83e1a547-893c-4a98-8444-7eac27972d5b",
   "metadata": {},
   "outputs": [
    {
     "data": {
      "text/plain": [
       "['Sanskriti', 'Tejashwini']"
      ]
     },
     "execution_count": 69,
     "metadata": {},
     "output_type": "execute_result"
    }
   ],
   "source": [
    "x.students"
   ]
  },
  {
   "cell_type": "code",
   "execution_count": 70,
   "id": "50219a14-c607-47d8-b02a-21805fcb6d97",
   "metadata": {},
   "outputs": [],
   "source": [
    "x.remove_stud(\"Sanskriti\")"
   ]
  },
  {
   "cell_type": "code",
   "execution_count": 71,
   "id": "3c331113-b590-4f7c-b9fe-f17c4e2632b3",
   "metadata": {},
   "outputs": [],
   "source": [
    "x.add_student(\"Vijju\")"
   ]
  },
  {
   "cell_type": "code",
   "execution_count": 72,
   "id": "8f3257f2-bd7b-4fad-88f2-e85b9599e898",
   "metadata": {},
   "outputs": [
    {
     "data": {
      "text/plain": [
       "['Tejashwini', 'Vijju']"
      ]
     },
     "execution_count": 72,
     "metadata": {},
     "output_type": "execute_result"
    }
   ],
   "source": [
    "x.students"
   ]
  },
  {
   "cell_type": "code",
   "execution_count": 73,
   "id": "b5124346-6f6a-4e45-8870-b5fbb6026971",
   "metadata": {},
   "outputs": [],
   "source": [
    "#Create a shopping cart app which will take the items and give total bill to customer.\n"
   ]
  },
  {
   "cell_type": "code",
   "execution_count": 74,
   "id": "d84f4e7e-0dd6-4426-bb30-78f35a8bf5aa",
   "metadata": {},
   "outputs": [
    {
     "name": "stdout",
     "output_type": "stream",
     "text": [
      "Requirement already satisfied: rake_nltk in c:\\users\\gopu tejashwini\\anaconda3\\lib\\site-packages (1.0.6)\n",
      "Requirement already satisfied: nltk<4.0.0,>=3.6.2 in c:\\users\\gopu tejashwini\\anaconda3\\lib\\site-packages (from rake_nltk) (3.8.1)\n",
      "Requirement already satisfied: click in c:\\users\\gopu tejashwini\\anaconda3\\lib\\site-packages (from nltk<4.0.0,>=3.6.2->rake_nltk) (8.1.7)\n",
      "Requirement already satisfied: joblib in c:\\users\\gopu tejashwini\\anaconda3\\lib\\site-packages (from nltk<4.0.0,>=3.6.2->rake_nltk) (1.2.0)\n",
      "Requirement already satisfied: regex>=2021.8.3 in c:\\users\\gopu tejashwini\\anaconda3\\lib\\site-packages (from nltk<4.0.0,>=3.6.2->rake_nltk) (2023.10.3)\n",
      "Requirement already satisfied: tqdm in c:\\users\\gopu tejashwini\\anaconda3\\lib\\site-packages (from nltk<4.0.0,>=3.6.2->rake_nltk) (4.65.0)\n",
      "Requirement already satisfied: colorama in c:\\users\\gopu tejashwini\\anaconda3\\lib\\site-packages (from click->nltk<4.0.0,>=3.6.2->rake_nltk) (0.4.6)\n",
      "Note: you may need to restart the kernel to use updated packages.\n"
     ]
    }
   ],
   "source": [
    "pip install rake_nltk"
   ]
  },
  {
   "cell_type": "code",
   "execution_count": 75,
   "id": "d767682f-e0b0-4872-84dd-bfcf9ff5e15f",
   "metadata": {},
   "outputs": [
    {
     "name": "stderr",
     "output_type": "stream",
     "text": [
      "[nltk_data] Downloading package stopwords to C:\\Users\\Gopu\n",
      "[nltk_data]     Tejashwini\\AppData\\Roaming\\nltk_data...\n",
      "[nltk_data]   Package stopwords is already up-to-date!\n"
     ]
    },
    {
     "data": {
      "text/plain": [
       "True"
      ]
     },
     "execution_count": 75,
     "metadata": {},
     "output_type": "execute_result"
    }
   ],
   "source": [
    "import nltk\n",
    "nltk.download('stopwords')"
   ]
  },
  {
   "cell_type": "code",
   "execution_count": 76,
   "id": "22f06f5a-f568-437e-805d-b2c2a7e0ecc3",
   "metadata": {},
   "outputs": [
    {
     "data": {
      "text/plain": [
       "True"
      ]
     },
     "execution_count": 76,
     "metadata": {},
     "output_type": "execute_result"
    }
   ],
   "source": [
    "True"
   ]
  },
  {
   "cell_type": "code",
   "execution_count": 77,
   "id": "80081121-e2f8-463d-9057-e585b2f0e0b1",
   "metadata": {},
   "outputs": [
    {
     "name": "stderr",
     "output_type": "stream",
     "text": [
      "[nltk_data] Downloading package punkt to C:\\Users\\Gopu\n",
      "[nltk_data]     Tejashwini\\AppData\\Roaming\\nltk_data...\n",
      "[nltk_data]   Package punkt is already up-to-date!\n"
     ]
    },
    {
     "data": {
      "text/plain": [
       "True"
      ]
     },
     "execution_count": 77,
     "metadata": {},
     "output_type": "execute_result"
    }
   ],
   "source": [
    "import nltk\n",
    "nltk.download('punkt')"
   ]
  },
  {
   "cell_type": "code",
   "execution_count": 153,
   "id": "04091017-1a20-4251-893a-c91a266190d5",
   "metadata": {},
   "outputs": [
    {
     "name": "stdout",
     "output_type": "stream",
     "text": [
      "['journey towards coding', 'machine learning', 'machine learning', 'data science', 'c ++', 'artificial intelligence', 'python', 'programmer', 'lot', 'learn', 'india', 'hope', 'guide', 'free']\n"
     ]
    }
   ],
   "source": [
    "from rake_nltk import Rake\n",
    "rake_nltk_var=Rake()\n",
    "text=\"\"\"I am a programmer from India, and I am here to guide you with Data Science,Machine learning,Python ,and C++ for free.\n",
    "I hope you will learn a lot in your journey towards coding,Machine learning and Artificial intelligence.\"\"\"\n",
    "rake_nltk_var.extract_keywords_from_text(text)\n",
    "keyword_extracted=rake_nltk_var.get_ranked_phrases()\n",
    "print(keyword_extracted)"
   ]
  },
  {
   "cell_type": "code",
   "execution_count": 79,
   "id": "1099ef9c-b92e-4f9c-adc4-44b6adff82ea",
   "metadata": {},
   "outputs": [
    {
     "name": "stdout",
     "output_type": "stream",
     "text": [
      "Requirement already satisfied: yake in c:\\users\\gopu tejashwini\\anaconda3\\lib\\site-packages (0.4.8)\n",
      "Requirement already satisfied: tabulate in c:\\users\\gopu tejashwini\\anaconda3\\lib\\site-packages (from yake) (0.9.0)\n",
      "Requirement already satisfied: click>=6.0 in c:\\users\\gopu tejashwini\\anaconda3\\lib\\site-packages (from yake) (8.1.7)\n",
      "Requirement already satisfied: numpy in c:\\users\\gopu tejashwini\\anaconda3\\lib\\site-packages (from yake) (1.26.4)\n",
      "Requirement already satisfied: segtok in c:\\users\\gopu tejashwini\\anaconda3\\lib\\site-packages (from yake) (1.5.11)\n",
      "Requirement already satisfied: networkx in c:\\users\\gopu tejashwini\\anaconda3\\lib\\site-packages (from yake) (3.1)\n",
      "Requirement already satisfied: jellyfish in c:\\users\\gopu tejashwini\\anaconda3\\lib\\site-packages (from yake) (1.0.1)\n",
      "Requirement already satisfied: colorama in c:\\users\\gopu tejashwini\\anaconda3\\lib\\site-packages (from click>=6.0->yake) (0.4.6)\n",
      "Requirement already satisfied: regex in c:\\users\\gopu tejashwini\\anaconda3\\lib\\site-packages (from segtok->yake) (2023.10.3)\n",
      "Note: you may need to restart the kernel to use updated packages.\n"
     ]
    }
   ],
   "source": [
    "pip install yake"
   ]
  },
  {
   "cell_type": "code",
   "execution_count": 80,
   "id": "27c43a07-0157-468b-9bcf-798e9287ef24",
   "metadata": {},
   "outputs": [
    {
     "name": "stdout",
     "output_type": "stream",
     "text": [
      "('Data Science,Machine learning,Python', 0.001170599092507011)\n",
      "('programmer from India', 0.008334116283452563)\n",
      "('Data Science,Machine', 0.01143354430345338)\n",
      "('Science,Machine learning,Python', 0.015099935621315529)\n",
      "('India', 0.05572221155747183)\n",
      "('Artificial intelligence', 0.06627380602544088)\n",
      "('Data', 0.07621084492189614)\n",
      "('learning and Artificial', 0.0916308214273787)\n",
      "('learning,Python', 0.10028582371075691)\n",
      "('free', 0.10028582371075691)\n",
      "('programmer', 0.14832923246533666)\n",
      "('guide', 0.14832923246533666)\n",
      "('Science,Machine', 0.14832923246533666)\n",
      "('learn a lot', 0.165573765898185)\n",
      "('journey towards coding,Machine', 0.165573765898185)\n",
      "('coding,Machine learning', 0.165573765898185)\n",
      "('Artificial', 0.22271009814206713)\n",
      "('intelligence', 0.2790829227183407)\n",
      "('hope', 0.37689977775222827)\n",
      "('learn', 0.37689977775222827)\n"
     ]
    }
   ],
   "source": [
    "import yake\n",
    "kw_extractor=yake.KeywordExtractor()\n",
    "text=\"\"\"I am a programmer from India, and I am here to guide you with Data Science,Machine learning,Python ,and C++ for free.\n",
    "I hope you will learn a lot in your journey towards coding,Machine learning and Artificial intelligence.\"\"\"\n",
    "language=\"en\"\n",
    "max_ngram_size=3\n",
    "deduplication_threshold=0.9\n",
    "numOfKeywords=20\n",
    "custom_kw_extractor = yake.KeywordExtractor(lan=language, n=max_ngram_size, dedupLim=deduplication_threshold, top=numOfKeywords,features=None)\n",
    "keywords=custom_kw_extractor.extract_keywords(text)\n",
    "for kw in keywords:\n",
    "    print(kw)"
   ]
  },
  {
   "cell_type": "code",
   "execution_count": null,
   "id": "71179f56-b45f-4cef-a871-66b99677a534",
   "metadata": {},
   "outputs": [],
   "source": []
  }
 ],
 "metadata": {
  "kernelspec": {
   "display_name": "Python 3 (ipykernel)",
   "language": "python",
   "name": "python3"
  },
  "language_info": {
   "codemirror_mode": {
    "name": "ipython",
    "version": 3
   },
   "file_extension": ".py",
   "mimetype": "text/x-python",
   "name": "python",
   "nbconvert_exporter": "python",
   "pygments_lexer": "ipython3",
   "version": "3.11.7"
  },
  "widgets": {
   "application/vnd.jupyter.widget-state+json": {
    "state": {},
    "version_major": 2,
    "version_minor": 0
   }
  }
 },
 "nbformat": 4,
 "nbformat_minor": 5
}
