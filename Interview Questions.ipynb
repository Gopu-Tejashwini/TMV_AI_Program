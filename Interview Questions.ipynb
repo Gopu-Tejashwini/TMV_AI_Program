{
 "cells": [
  {
   "cell_type": "code",
   "execution_count": 1,
   "id": "5e37cec5-9516-49b8-a967-ee5ddaba08ca",
   "metadata": {},
   "outputs": [
    {
     "name": "stdout",
     "output_type": "stream",
     "text": [
      "[10, 20, 'yu']\n"
     ]
    }
   ],
   "source": [
    "#print duplicates presents in the given list \n",
    "l=[10,20,30,10,50,20,'yu',6,'yu']\n",
    "d=[]\n",
    "for i in l:\n",
    "    if l.count(i)>1 and i not in d:\n",
    "        d.append(i)\n",
    "print(d)"
   ]
  },
  {
   "cell_type": "code",
   "execution_count": 2,
   "id": "81a4a35d-b688-4900-96ca-20bb83ac9eb2",
   "metadata": {},
   "outputs": [
    {
     "name": "stdout",
     "output_type": "stream",
     "text": [
      "[10, 20, 'yu']\n"
     ]
    }
   ],
   "source": [
    "#print duplicates present in the given list without using any built function\n",
    "d=[]\n",
    "for i in range(len(l)):\n",
    "    for j in range(i+1,len(l)):\n",
    "        if l[i]==l[j]:\n",
    "            d.append(l[i])\n",
    "print(d)"
   ]
  },
  {
   "cell_type": "code",
   "execution_count": 3,
   "id": "f9dddbb3-4abe-49ff-94ba-722d4f274fcc",
   "metadata": {},
   "outputs": [
    {
     "name": "stdout",
     "output_type": "stream",
     "text": [
      "*************************"
     ]
    }
   ],
   "source": [
    "for j in range(5):\n",
    "    for i in range(5):\n",
    "        print('*',end='')"
   ]
  },
  {
   "cell_type": "code",
   "execution_count": 4,
   "id": "dbfbf5ea-2229-4d6c-ab87-492d3b6e23cf",
   "metadata": {},
   "outputs": [
    {
     "name": "stdout",
     "output_type": "stream",
     "text": [
      "*  *  *  *  *  *  *  *  *  *  *  *  *  *  *  *  *  *  *  *  *  *  *  *  *  \n",
      "*  *  *  *  *  *  *  *  *  *  *  *  *  *  *  *  *  *  *  *  *  *  *  *  *  \n",
      "*  *  *  *  *  *  *  *  *  *  *  *  *  *  *  *  *  *  *  *  *  *  *  *  *  \n",
      "*  *  *  *  *  *  *  *  *  *  *  *  *  *  *  *  *  *  *  *  *  *  *  *  *  \n",
      "*  *  *  *  *  *  *  *  *  *  *  *  *  *  *  *  *  *  *  *  *  *  *  *  *  \n",
      "*  *  *  *  *  *  *  *  *  *  *  *  *  *  *  *  *  *  *  *  *  *  *  *  *  \n",
      "*  *  *  *  *  *  *  *  *  *  *  *  *  *  *  *  *  *  *  *  *  *  *  *  *  \n",
      "*  *  *  *  *  *  *  *  *  *  *  *  *  *  *  *  *  *  *  *  *  *  *  *  *  \n",
      "*  *  *  *  *  *  *  *  *  *  *  *  *  *  *  *  *  *  *  *  *  *  *  *  *  \n",
      "*  *  *  *  *  *  *  *  *  *  *  *  *  *  *  *  *  *  *  *  *  *  *  *  *  \n",
      "*  *  *  *  *  *  *  *  *  *  *  *  *  *  *  *  *  *  *  *  *  *  *  *  *  \n",
      "*  *  *  *  *  *  *  *  *  *  *  *  *  *  *  *  *  *  *  *  *  *  *  *  *  \n",
      "*  *  *  *  *  *  *  *  *  *  *  *  *  *  *  *  *  *  *  *  *  *  *  *  *  \n",
      "*  *  *  *  *  *  *  *  *  *  *  *  *  *  *  *  *  *  *  *  *  *  *  *  *  \n",
      "*  *  *  *  *  *  *  *  *  *  *  *  *  *  *  *  *  *  *  *  *  *  *  *  *  \n",
      "*  *  *  *  *  *  *  *  *  *  *  *  *  *  *  *  *  *  *  *  *  *  *  *  *  \n",
      "*  *  *  *  *  *  *  *  *  *  *  *  *  *  *  *  *  *  *  *  *  *  *  *  *  \n",
      "*  *  *  *  *  *  *  *  *  *  *  *  *  *  *  *  *  *  *  *  *  *  *  *  *  \n",
      "*  *  *  *  *  *  *  *  *  *  *  *  *  *  *  *  *  *  *  *  *  *  *  *  *  \n",
      "*  *  *  *  *  *  *  *  *  *  *  *  *  *  *  *  *  *  *  *  *  *  *  *  *  \n",
      "*  *  *  *  *  *  *  *  *  *  *  *  *  *  *  *  *  *  *  *  *  *  *  *  *  \n",
      "*  *  *  *  *  *  *  *  *  *  *  *  *  *  *  *  *  *  *  *  *  *  *  *  *  \n",
      "*  *  *  *  *  *  *  *  *  *  *  *  *  *  *  *  *  *  *  *  *  *  *  *  *  \n",
      "*  *  *  *  *  *  *  *  *  *  *  *  *  *  *  *  *  *  *  *  *  *  *  *  *  \n",
      "*  *  *  *  *  *  *  *  *  *  *  *  *  *  *  *  *  *  *  *  *  *  *  *  *  \n"
     ]
    }
   ],
   "source": [
    "#SQUARE\n",
    "for j in range(25):#This loop into rows\n",
    "    for i in range(25):#This loop into columns\n",
    "        print('*',end='  ')#Here is space so thet there is space b/w each square\n",
    "    print()"
   ]
  },
  {
   "cell_type": "code",
   "execution_count": 5,
   "id": "4155b8cf-2281-4b39-a034-53294f8d5537",
   "metadata": {},
   "outputs": [
    {
     "name": "stdout",
     "output_type": "stream",
     "text": [
      "* \n",
      "* * \n",
      "* * * \n",
      "* * * * \n",
      "* * * * * \n"
     ]
    }
   ],
   "source": [
    "#Increasing Trinagle\n",
    "for j in range(5):#This loop into rows\n",
    "    for i in range(j+1):#This loop into columns\n",
    "        print('*',end=' ')#Here is space so thet there is space b/w each square\n",
    "    print()"
   ]
  },
  {
   "cell_type": "code",
   "execution_count": 6,
   "id": "b8d36dae-3e8c-4263-9250-ad96cdf55fa7",
   "metadata": {},
   "outputs": [
    {
     "name": "stdout",
     "output_type": "stream",
     "text": [
      "* * * * * \n",
      "* * * * \n",
      "* * * \n",
      "* * \n",
      "* \n"
     ]
    }
   ],
   "source": [
    "#Decreasing triangle\n",
    "for j in range(5):#This loop into rows\n",
    "    for i in range(j,5):#This loop into columns\n",
    "        print('*',end=' ')#Here is space so thet there is space b/w each square\n",
    "    print()"
   ]
  },
  {
   "cell_type": "code",
   "execution_count": 7,
   "id": "3836320e-8369-442e-a8c9-fcf02c4df47e",
   "metadata": {},
   "outputs": [
    {
     "name": "stdout",
     "output_type": "stream",
     "text": [
      "          0 \n",
      "        0 0 \n",
      "      0 0 0 \n",
      "    0 0 0 0 \n",
      "  0 0 0 0 0 \n"
     ]
    }
   ],
   "source": [
    "#Right sided Triangle\n",
    "n=5\n",
    "for i in range(n):\n",
    "    for j in range(i,n):\n",
    "        print(' ',end=' ')\n",
    "    for j in range(i+1):\n",
    "        print('0',end=' ')\n",
    "    print()"
   ]
  },
  {
   "cell_type": "code",
   "execution_count": 8,
   "id": "fa3436ff-aec4-423f-b2ed-9398932dab1b",
   "metadata": {},
   "outputs": [
    {
     "name": "stdout",
     "output_type": "stream",
     "text": [
      "5 5 5 5 \n",
      "4 4 4 4 \n",
      "3 3 3 3 \n",
      "2 2 2 2 \n"
     ]
    }
   ],
   "source": [
    "for i in range(5,1,-1):\n",
    "    for j in range(5, 1,-1):\n",
    "        print(i,end=' ')\n",
    "    print()"
   ]
  },
  {
   "cell_type": "code",
   "execution_count": 53,
   "id": "71ab8eb0-4a0c-4d89-ad4d-2de84cbc409b",
   "metadata": {},
   "outputs": [
    {
     "name": "stdout",
     "output_type": "stream",
     "text": [
      "  * * * * * \n",
      "    * * * * \n",
      "      * * * \n",
      "        * * \n",
      "          * \n"
     ]
    }
   ],
   "source": [
    "n=5\n",
    "for i in range(n):\n",
    "    for j in range(i+1):\n",
    "        print(' ',end=' ')\n",
    "    for j in range(i,n):\n",
    "        print('*',end=' ')\n",
    "    print()"
   ]
  },
  {
   "cell_type": "code",
   "execution_count": 10,
   "id": "e496e6e0-ea23-4dcc-afc3-40e8480f5568",
   "metadata": {},
   "outputs": [
    {
     "name": "stdout",
     "output_type": "stream",
     "text": [
      "          * \n",
      "        * * * \n",
      "      * * * * * \n",
      "    * * * * * * * \n",
      "  * * * * * * * * * \n"
     ]
    }
   ],
   "source": [
    "#Hill pattern\n",
    "n=5\n",
    "for i in range(n):\n",
    "    for j in range(i,n):\n",
    "        print(' ',end=' ')\n",
    "    for j in range(i+1):\n",
    "        print('*',end=' ')\n",
    "    for j in range(i):\n",
    "        print('*',end=' ')\n",
    "    print()"
   ]
  },
  {
   "cell_type": "code",
   "execution_count": 11,
   "id": "ccbc43fd-f10f-4d90-9ec2-b783d4da0931",
   "metadata": {},
   "outputs": [
    {
     "name": "stdout",
     "output_type": "stream",
     "text": [
      "  * * * * * * * * * \n",
      "    * * * * * * * \n",
      "      * * * * * \n",
      "        * * * \n",
      "          * \n"
     ]
    }
   ],
   "source": [
    "# Reverse Hill pattern\n",
    "n=5\n",
    "for i in range(n):\n",
    "    for j in range(i+1):\n",
    "        print(' ',end=' ')\n",
    "    for j in range(i,n):\n",
    "        print('*',end=' ')\n",
    "    for j in range(i,n-1):\n",
    "        print('*',end=' ')\n",
    "    print()"
   ]
  },
  {
   "cell_type": "code",
   "execution_count": 12,
   "id": "10bb1861-1290-406b-8bb8-502c612c9cdd",
   "metadata": {},
   "outputs": [
    {
     "name": "stdout",
     "output_type": "stream",
     "text": [
      "          * \n",
      "        * * * \n",
      "      * * * * * \n",
      "    * * * * * * * \n",
      "  * * * * * * * * * \n",
      "    * * * * * * * \n",
      "      * * * * * \n",
      "        * * * \n",
      "          * \n"
     ]
    }
   ],
   "source": [
    "n=5\n",
    "for i in range(n-1):\n",
    "    for j in range(i,n):\n",
    "        print(' ',end=' ')\n",
    "    for j in range(i+1):\n",
    "        print('*',end=' ')\n",
    "    for j in range(i):\n",
    "        print('*',end=' ')\n",
    "    print()\n",
    "\n",
    "for i in range(n):\n",
    "    for j in range(i+1):\n",
    "        print(' ',end=' ')\n",
    "    for j in range(i,n):\n",
    "        print('*',end=' ')\n",
    "    for j in range(i,n-1):\n",
    "        print('*',end=' ')\n",
    "    print()"
   ]
  },
  {
   "cell_type": "code",
   "execution_count": 2,
   "id": "d85917a0-0790-4496-99fe-2a78d877ff45",
   "metadata": {},
   "outputs": [
    {
     "name": "stdout",
     "output_type": "stream",
     "text": [
      "3\n"
     ]
    }
   ],
   "source": [
    "#Write a program to check value is type list.\n",
    "data={'Jay':['male',2000],'Kiran':'male','vijay':['male',1998],'Sanskriti':['female',2002]}\n",
    "count=0\n",
    "for i in data:\n",
    "    if isinstance(data[i],list):\n",
    "        count+=1\n",
    "print(count)"
   ]
  },
  {
   "cell_type": "code",
   "execution_count": 61,
   "id": "088f9c69-bf95-4200-8c89-3b2ae00fe218",
   "metadata": {},
   "outputs": [],
   "source": [
    "count = 0\n",
    "for item in data:\n",
    "    if isinstance(item, str):  # Use isinstance to check if an item is of type string\n",
    "        count += 1\n"
   ]
  },
  {
   "cell_type": "code",
   "execution_count": 62,
   "id": "d9cd6118-4be0-4268-979d-7aa0bde75738",
   "metadata": {},
   "outputs": [
    {
     "data": {
      "text/plain": [
       "['male', 2000]"
      ]
     },
     "execution_count": 62,
     "metadata": {},
     "output_type": "execute_result"
    }
   ],
   "source": [
    "data['Jay']"
   ]
  },
  {
   "cell_type": "code",
   "execution_count": 63,
   "id": "a00e0fc7-9510-4968-9b47-a084bbcab297",
   "metadata": {},
   "outputs": [
    {
     "data": {
      "text/plain": [
       "dict_values([['male', 2000], 'male', ['male', 1998], ['female', 2002]])"
      ]
     },
     "execution_count": 63,
     "metadata": {},
     "output_type": "execute_result"
    }
   ],
   "source": [
    "data.values()"
   ]
  },
  {
   "cell_type": "code",
   "execution_count": 19,
   "id": "820a8675-4e8d-4572-bee1-57268b50c88d",
   "metadata": {},
   "outputs": [],
   "source": [
    "dataitems=list(data.items())"
   ]
  },
  {
   "cell_type": "code",
   "execution_count": 20,
   "id": "3a89ef81-4b21-4c03-a129-bd6b0dd6267a",
   "metadata": {},
   "outputs": [
    {
     "data": {
      "text/plain": [
       "[('Jay', ['male', 2000]),\n",
       " ('Kiran', 'male'),\n",
       " ('vijay', ['male', 1998]),\n",
       " ('Sanskriti', ['female', 2002])]"
      ]
     },
     "execution_count": 20,
     "metadata": {},
     "output_type": "execute_result"
    }
   ],
   "source": [
    "dataitems"
   ]
  },
  {
   "cell_type": "code",
   "execution_count": 21,
   "id": "4fcc0582-7df1-4e36-9695-b67f02387dc4",
   "metadata": {},
   "outputs": [
    {
     "data": {
      "text/plain": [
       "list"
      ]
     },
     "execution_count": 21,
     "metadata": {},
     "output_type": "execute_result"
    }
   ],
   "source": [
    "type(dataitems[0][1])"
   ]
  },
  {
   "cell_type": "code",
   "execution_count": 22,
   "id": "006942af-d98d-4555-b9f8-f2d8aecc0d25",
   "metadata": {},
   "outputs": [
    {
     "data": {
      "text/plain": [
       "2"
      ]
     },
     "execution_count": 22,
     "metadata": {},
     "output_type": "execute_result"
    }
   ],
   "source": [
    "len(dataitems[1])"
   ]
  },
  {
   "cell_type": "code",
   "execution_count": 23,
   "id": "e515b26a-ed47-4785-ab1e-c05824f26a97",
   "metadata": {},
   "outputs": [
    {
     "name": "stdout",
     "output_type": "stream",
     "text": [
      "3\n"
     ]
    }
   ],
   "source": [
    "#WITHOUT USING INSTANCE FUNCTION\n",
    "count=0\n",
    "for i in range(len(dataitems)):\n",
    "    if type(dataitems[i][1])==list:\n",
    "            count+=1\n",
    "print(count)"
   ]
  },
  {
   "cell_type": "code",
   "execution_count": 24,
   "id": "48f89168-d39a-4842-82b7-2f336651fbe3",
   "metadata": {},
   "outputs": [
    {
     "name": "stdout",
     "output_type": "stream",
     "text": [
      "120\n"
     ]
    }
   ],
   "source": [
    "#RECURSIVE FUNCTIONS\n",
    "#Factorial with recursive function.\n",
    "def factorial(n):\n",
    "    if n==1:\n",
    "        return 1\n",
    "    else:\n",
    "        return(n*factorial(n-1))\n",
    "\n",
    "print(factorial(5))"
   ]
  },
  {
   "cell_type": "code",
   "execution_count": 25,
   "id": "89b64cfd-7774-4125-b959-621e8360f2be",
   "metadata": {},
   "outputs": [
    {
     "name": "stdin",
     "output_type": "stream",
     "text": [
      "Number for factorial? 4\n"
     ]
    },
    {
     "name": "stdout",
     "output_type": "stream",
     "text": [
      "4 ! = 24\n"
     ]
    }
   ],
   "source": [
    "#Factorial without recursive function.\n",
    "num=int(input(\"Number for factorial?\"))\n",
    "factorial=1\n",
    "for i in range(1,num+1):\n",
    "    factorial=factorial*i\n",
    "print(num,'!',\"=\",factorial)"
   ]
  },
  {
   "cell_type": "code",
   "execution_count": 26,
   "id": "3403fa59-6bbc-4522-8c0b-dddfecce8cc6",
   "metadata": {},
   "outputs": [
    {
     "name": "stdout",
     "output_type": "stream",
     "text": [
      "[2, 3, 5, 7, 11, 13, 17, 19]\n",
      "77\n"
     ]
    }
   ],
   "source": [
    "#Find Prime numbers:\n",
    "prime=[]\n",
    "for i in range(2,20):\n",
    "    c=0\n",
    "    for j in range(1,i):\n",
    "        if i%j==0:\n",
    "            c+=1\n",
    "    if c==1:\n",
    "        prime.append(i)\n",
    "print(prime)\n",
    "print(sum(prime))"
   ]
  },
  {
   "cell_type": "code",
   "execution_count": 27,
   "id": "314698e2-b22e-4ad3-a380-8682e10edad5",
   "metadata": {},
   "outputs": [
    {
     "name": "stdin",
     "output_type": "stream",
     "text": [
      "Number? 5\n"
     ]
    },
    {
     "name": "stdout",
     "output_type": "stream",
     "text": [
      "prime number\n"
     ]
    }
   ],
   "source": [
    "#Check if given number is prime or not?\n",
    "n=int(input(\"Number?\"))\n",
    "for i in range(2,n):\n",
    "    if n%i==0:\n",
    "        print(\"not a prime number\")\n",
    "        break\n",
    "    else:\n",
    "        print(\"prime number\")\n",
    "        break"
   ]
  },
  {
   "cell_type": "code",
   "execution_count": 28,
   "id": "67a9e129-9e04-4c18-9f07-a4cd91e97a6c",
   "metadata": {},
   "outputs": [
    {
     "name": "stdin",
     "output_type": "stream",
     "text": [
      " 4\n"
     ]
    },
    {
     "name": "stdout",
     "output_type": "stream",
     "text": [
      "Palindrome\n"
     ]
    }
   ],
   "source": [
    "#Palindrome\n",
    "s=input()\n",
    "if s==s[::-1]:\n",
    "    print(\"Palindrome\")\n",
    "else:\n",
    "    print(\"not\")"
   ]
  },
  {
   "cell_type": "code",
   "execution_count": 31,
   "id": "9d9e139f-b064-4487-8273-b1848a22f915",
   "metadata": {},
   "outputs": [
    {
     "name": "stdin",
     "output_type": "stream",
     "text": [
      "  Gopu Tejashiwni\n"
     ]
    },
    {
     "name": "stdout",
     "output_type": "stream",
     "text": [
      "['', 'Gopu', 'Tejashiwni']\n",
      "['Tejashiwni', 'Gopu', '']\n",
      "Tejashiwni Gopu \n"
     ]
    }
   ],
   "source": [
    "str1=input()\n",
    "list1=str1.split(' ')\n",
    "print(list1)\n",
    "list2=list1[::-1]\n",
    "print(list2)\n",
    "str2=' '.join(list2)\n",
    "print(str2)"
   ]
  },
  {
   "cell_type": "code",
   "execution_count": 32,
   "id": "92eda3a5-bf8c-43f1-bd42-f9affde24fd9",
   "metadata": {},
   "outputs": [
    {
     "name": "stdout",
     "output_type": "stream",
     "text": [
      "[1, 9, 0, 7]\n"
     ]
    }
   ],
   "source": [
    "#Write unique values from list.\n",
    "mylist=[1,2,2,2,3,3,3,5,5,2,2,9,2,2,2,8,8,0,7,5]\n",
    "new_list=[]\n",
    "for i in mylist:\n",
    "    if mylist.count(i)==1:\n",
    "        new_list.append(i)\n",
    "print(new_list)"
   ]
  },
  {
   "cell_type": "code",
   "execution_count": 33,
   "id": "7d3c6ecc-ed12-43d4-a7d9-eaf370ae8ea6",
   "metadata": {},
   "outputs": [
    {
     "data": {
      "text/plain": [
       "[1, 9, 0, 7]"
      ]
     },
     "execution_count": 33,
     "metadata": {},
     "output_type": "execute_result"
    }
   ],
   "source": [
    "#Using lisyt comprehension\n",
    "[i for i in mylist if mylist.count(i)==1]"
   ]
  },
  {
   "cell_type": "code",
   "execution_count": 34,
   "id": "3d60c69b-1c7f-463e-b2d6-f55c5bb630fc",
   "metadata": {},
   "outputs": [
    {
     "name": "stdout",
     "output_type": "stream",
     "text": [
      "a:3,f:1,e:1,t:1,g]:1\n"
     ]
    }
   ],
   "source": [
    "#Find the occurences of each elemnt\n",
    "str1=\"a,a,a,f,e,t,g]\"\n",
    "list1=str1.split(',')\n",
    "count_ele=[]\n",
    "str_ele=[]\n",
    "for ch in list1:\n",
    "    if not ch in str_ele:\n",
    "        count_ele.append(f\"{ch}:{list1.count(ch)}\")\n",
    "        str_ele.append(ch)\n",
    "print(\",\".join(count_ele))"
   ]
  },
  {
   "cell_type": "code",
   "execution_count": 35,
   "id": "51a84f5c-44b0-4b79-a375-8e9d057b25d5",
   "metadata": {},
   "outputs": [
    {
     "name": "stdout",
     "output_type": "stream",
     "text": [
      "[[6, 8], [23, 67], [90, 4]]\n",
      "[2, 6, 8, 9, 10, 14, 23]\n"
     ]
    }
   ],
   "source": [
    "#LAMBDA FUNCTION.\n",
    "b=[[6,8],[90,4],[23,67]]\n",
    "c=[2,8,6,9,10,23,14]\n",
    "b.sort(key=lambda x:x[0])\n",
    "print(b)\n",
    "print(sorted(c))"
   ]
  },
  {
   "cell_type": "code",
   "execution_count": 36,
   "id": "e43a1464-0367-4823-be4f-8f3c93e242e5",
   "metadata": {},
   "outputs": [
    {
     "name": "stdin",
     "output_type": "stream",
     "text": [
      "How many numbers? 2\n",
      " 45\n",
      " 46\n"
     ]
    },
    {
     "name": "stdout",
     "output_type": "stream",
     "text": [
      "45.5\n"
     ]
    }
   ],
   "source": [
    "try:\n",
    "    n=int(input(\"How many numbers?\"))\n",
    "except:\n",
    "    print(\"Please enter number\")\n",
    "else:\n",
    "    list_num=[]\n",
    "    try:\n",
    "        for i in range(n):\n",
    "            num=int(input())\n",
    "            list_num.append(num)\n",
    "        mean=lambda x:sum(x)/len(x)\n",
    "        print(mean(list_num))\n",
    "    except:\n",
    "        print(\"Some error occured\")"
   ]
  },
  {
   "cell_type": "code",
   "execution_count": 37,
   "id": "fb69faa3-840d-4353-9abe-623aa610d631",
   "metadata": {},
   "outputs": [
    {
     "data": {
      "text/plain": [
       "24"
      ]
     },
     "execution_count": 37,
     "metadata": {},
     "output_type": "execute_result"
    }
   ],
   "source": [
    "2+5+3+6+8"
   ]
  },
  {
   "cell_type": "code",
   "execution_count": 38,
   "id": "9eb8fa7b-6f80-4e43-ab55-02b6af25b793",
   "metadata": {},
   "outputs": [
    {
     "data": {
      "text/plain": [
       "4.0"
      ]
     },
     "execution_count": 38,
     "metadata": {},
     "output_type": "execute_result"
    }
   ],
   "source": [
    "20/5"
   ]
  },
  {
   "cell_type": "code",
   "execution_count": 39,
   "id": "69c5f9b3-e2f7-4ba4-a026-01c506b859fe",
   "metadata": {},
   "outputs": [
    {
     "name": "stdout",
     "output_type": "stream",
     "text": [
      "1 \n",
      "2 2 \n",
      "3 3 3 \n",
      "4 4 4 4 \n",
      "5 5 5 5 5 \n"
     ]
    }
   ],
   "source": [
    "#NUMBER PATTERNS\n",
    "n=5\n",
    "p=1\n",
    "for i in range(n):#This loop goes into rows\n",
    "    for j in range(i+1):#This loop goes into columns\n",
    "        print(p,end=' ')\n",
    "    p+=1\n",
    "    print()"
   ]
  },
  {
   "cell_type": "code",
   "execution_count": 54,
   "id": "4b71d01b-ea03-4dd6-9628-4e5448ba94ba",
   "metadata": {},
   "outputs": [
    {
     "name": "stdout",
     "output_type": "stream",
     "text": [
      "5 \n",
      "4 4 \n",
      "3 3 3 \n",
      "2 2 2 2 \n",
      "1 1 1 1 1 \n"
     ]
    }
   ],
   "source": [
    "#Increasing triangles decreasing numbers\n",
    "n=5\n",
    "p=n\n",
    "for i in range(n):#This loop goes into rows\n",
    "    for j in range(i+1):#This loop goes into columns\n",
    "        print(p,end=' ')\n",
    "    p-=1\n",
    "    print()"
   ]
  },
  {
   "cell_type": "code",
   "execution_count": 41,
   "id": "b31da93b-4f83-4ac8-a77d-f2804d1e1e9c",
   "metadata": {},
   "outputs": [
    {
     "name": "stdout",
     "output_type": "stream",
     "text": [
      "0 \n",
      "2 2 \n",
      "4 4 4 \n",
      "6 6 6 6 \n",
      "8 8 8 8 8 \n"
     ]
    }
   ],
   "source": [
    "#Increasing triangles even numbers\n",
    "n=5\n",
    "p=0\n",
    "for i in range(n):#This loop goes into rows\n",
    "    for j in range(i+1):#This loop goes into columns\n",
    "        print(p,end=' ')\n",
    "    p+=2\n",
    "    print()"
   ]
  },
  {
   "cell_type": "code",
   "execution_count": 42,
   "id": "e9da25b0-7fd1-4d21-b8b2-3c2906f98275",
   "metadata": {},
   "outputs": [
    {
     "name": "stdout",
     "output_type": "stream",
     "text": [
      "1 \n",
      "2 2 \n",
      "1 1 1 \n",
      "2 2 2 2 \n",
      "1 1 1 1 1 \n"
     ]
    }
   ],
   "source": [
    "#Increasing triangles even numbers\n",
    "n=5\n",
    "for i in range(n):#This loop goes into rows\n",
    "    for j in range(i+1):#This loop goes into columns\n",
    "        if (i%2==0):\n",
    "            print(1,end=' ')\n",
    "        else:\n",
    "            print(2,end=' ')#here is space so that there is space between each numbefr\n",
    "    print()"
   ]
  },
  {
   "cell_type": "code",
   "execution_count": 43,
   "id": "a954559b-3449-45ce-ba53-8dfa443e95fc",
   "metadata": {
    "scrolled": true
   },
   "outputs": [
    {
     "name": "stdout",
     "output_type": "stream",
     "text": [
      "          1 \n",
      "        2 2 2 \n",
      "      3 3 3 3 3 \n",
      "    4 4 4 4 4 4 4 \n",
      "  5 5 5 5 5 5 5 5 5 \n",
      "    6 6 6 6 6 6 6 \n",
      "      7 7 7 7 7 \n",
      "        8 8 8 \n",
      "          9 \n"
     ]
    }
   ],
   "source": [
    "n=5\n",
    "p=1\n",
    "for i in range(n-1):\n",
    "    for j in range(i,n):\n",
    "        print(' ',end=' ')\n",
    "    for j in range(i+1):\n",
    "        print(p,end=' ')\n",
    "    for j in range(i):\n",
    "        print(p,end=' ')\n",
    "    p+=1\n",
    "    print()\n",
    "for i in range(n):\n",
    "    for j in range(i+1):\n",
    "        print(' ',end=' ')\n",
    "    for j in range(i,n):\n",
    "        print(p,end=' ')\n",
    "    for j in range(i,n-1):\n",
    "        print(p,end=' ')\n",
    "    p+=1\n",
    "    print()"
   ]
  },
  {
   "cell_type": "code",
   "execution_count": 44,
   "id": "708f74f9-02c8-47f5-92d3-ca2f05ebb3f8",
   "metadata": {},
   "outputs": [
    {
     "name": "stdout",
     "output_type": "stream",
     "text": [
      "          1 \n",
      "        2 2 2 \n",
      "      3 3 3 3 3 \n",
      "    4 4 4 4 4 4 4 \n",
      "  5 5 5 5 5 5 5 5 5 \n",
      "    4 4 4 4 4 4 4 \n",
      "      3 3 3 3 3 \n",
      "        2 2 2 \n",
      "          1 \n"
     ]
    }
   ],
   "source": [
    "n=5\n",
    "p=1\n",
    "for i in range(n-1):\n",
    "    for j in range(i,n):\n",
    "        print(' ',end=' ')\n",
    "    for j in range(i+1):\n",
    "        print(p,end=' ')\n",
    "    for j in range(i):\n",
    "        print(p,end=' ')\n",
    "    p+=1\n",
    "    print()\n",
    "for i in range(n):\n",
    "    for j in range(i+1):\n",
    "        print(' ',end=' ')\n",
    "    for j in range(i,n):\n",
    "        print(p,end=' ')\n",
    "    for j in range(i,n-1):\n",
    "        print(p,end=' ')\n",
    "    p-=1\n",
    "    print()"
   ]
  },
  {
   "cell_type": "code",
   "execution_count": 45,
   "id": "161ceae0-9a36-4095-a7b6-4b3627e3df5e",
   "metadata": {},
   "outputs": [
    {
     "name": "stdout",
     "output_type": "stream",
     "text": [
      "1 \n",
      "1 2 \n",
      "1 2 3 \n",
      "1 2 3 4 \n",
      "1 2 3 4 5 \n"
     ]
    }
   ],
   "source": [
    "#Increasing triangles increasing numbers\n",
    "n=5\n",
    "for i in range(n):#This loop goes into rows\n",
    "    p=1\n",
    "    for j in range(i+1):#This loop goes into columns\n",
    "        print(p,end=' ')\n",
    "        p+=1\n",
    "    print()"
   ]
  },
  {
   "cell_type": "code",
   "execution_count": 46,
   "id": "7ea6f4bc-224a-4127-b228-7e24f4d7f102",
   "metadata": {},
   "outputs": [
    {
     "name": "stdout",
     "output_type": "stream",
     "text": [
      "  1 2 3 4 5 \n",
      "    1 2 3 4 \n",
      "      1 2 3 \n",
      "        1 2 \n",
      "          1 \n"
     ]
    }
   ],
   "source": [
    "n=5\n",
    "for i in range(n):\n",
    "    for j in range(i+1):\n",
    "        print(' ',end=' ')\n",
    "    p=1\n",
    "    for j in range(i,n):\n",
    "        print(p,end=' ')\n",
    "        p+=1\n",
    "    print()"
   ]
  },
  {
   "cell_type": "code",
   "execution_count": 47,
   "id": "c294a923-d87a-414b-8f14-02e996ff81ad",
   "metadata": {},
   "outputs": [
    {
     "name": "stdout",
     "output_type": "stream",
     "text": [
      "          1 \n",
      "        1 2 3 \n",
      "      1 2 3 4 5 \n",
      "    1 2 3 4 5 6 7 \n",
      "  1 2 3 4 5 6 7 8 9 \n"
     ]
    }
   ],
   "source": [
    "#HILL PATTERN\n",
    "n=5\n",
    "for i in range(n):\n",
    "    for j in range(i,n):\n",
    "        print(' ',end=' ')\n",
    "    p=1\n",
    "    for j in range(i+1):\n",
    "        print(p,end=' ')\n",
    "        p+=1\n",
    "    for j in range(i):\n",
    "        print(p,end=' ')\n",
    "        p+=1\n",
    "    print()"
   ]
  },
  {
   "cell_type": "code",
   "execution_count": 48,
   "id": "953d11dc-7a61-49cc-90ff-64110bda2a42",
   "metadata": {},
   "outputs": [
    {
     "name": "stdout",
     "output_type": "stream",
     "text": [
      "5 \n",
      "5 4 \n",
      "5 4 3 \n",
      "5 4 3 2 \n",
      "5 4 3 2 1 \n"
     ]
    }
   ],
   "source": [
    "n=5\n",
    "for i in range(n):\n",
    "    p=n\n",
    "    for j in range(i+1):\n",
    "        print(p,end=' ')\n",
    "        p-=1\n",
    "    print()"
   ]
  },
  {
   "cell_type": "code",
   "execution_count": 49,
   "id": "b4b01cbc-7358-4207-a1ce-34e851aff138",
   "metadata": {},
   "outputs": [
    {
     "name": "stdout",
     "output_type": "stream",
     "text": [
      "  5 4 3 2 1 \n",
      "    5 4 3 2 \n",
      "      5 4 3 \n",
      "        5 4 \n",
      "          5 \n"
     ]
    }
   ],
   "source": [
    "n=5\n",
    "for i in range(n):\n",
    "    p=n\n",
    "    for j in range(i+1):\n",
    "        print(' ',end=' ')\n",
    "    for j in range(i,n):\n",
    "        print(p,end=' ')\n",
    "        p-=1\n",
    "    print()"
   ]
  },
  {
   "cell_type": "code",
   "execution_count": 50,
   "id": "2755bb8c-cb64-4330-a11b-afe778135c68",
   "metadata": {},
   "outputs": [
    {
     "name": "stdout",
     "output_type": "stream",
     "text": [
      "  5 4 3 2 1 \n",
      "    4 3 2 1 \n",
      "      3 2 1 \n",
      "        2 1 \n",
      "          1 \n"
     ]
    }
   ],
   "source": [
    "n=5\n",
    "k=n\n",
    "for i in range(n):\n",
    "    p=k\n",
    "    for j in range(i+1):\n",
    "        print(' ',end=' ')\n",
    "    for j in range(i,n):\n",
    "        print(p,end=' ')\n",
    "        p-=1\n",
    "    k-=1\n",
    "    print()"
   ]
  },
  {
   "cell_type": "code",
   "execution_count": 51,
   "id": "cacdd462-d59d-41c5-bd73-2510a5b94f7a",
   "metadata": {},
   "outputs": [
    {
     "name": "stdout",
     "output_type": "stream",
     "text": [
      "          1 \n",
      "        1 2 1 \n",
      "      1 2 3 2 1 \n",
      "    1 2 3 4 3 2 1 \n",
      "  1 2 3 4 5 4 3 2 1 \n"
     ]
    }
   ],
   "source": [
    "n=5\n",
    "for i in range(n):\n",
    "    for j in range(i,n):\n",
    "        print(' ',end=' ')\n",
    "    p=1\n",
    "    for j in range(i):\n",
    "        print(p,end=' ')\n",
    "        p+=1\n",
    "    for j in range(i+1):\n",
    "        print(p,end=' ')\n",
    "        p-=1\n",
    "    print()"
   ]
  },
  {
   "cell_type": "code",
   "execution_count": 52,
   "id": "77862ee2-09ea-47ff-b7cd-e869aefaba42",
   "metadata": {},
   "outputs": [
    {
     "name": "stdout",
     "output_type": "stream",
     "text": [
      "1 \n",
      "2 3 \n",
      "4 5 6 \n",
      "7 8 9 10 \n",
      "11 12 13 14 15 \n"
     ]
    }
   ],
   "source": [
    "n=5\n",
    "p=1\n",
    "for i in range(n):\n",
    "    for j in range(i+1):\n",
    "        print(p,end=' ')\n",
    "        p+=1\n",
    "    print()"
   ]
  },
  {
   "cell_type": "code",
   "execution_count": null,
   "id": "a676f01c-c265-4761-ad06-41a39be34f6f",
   "metadata": {},
   "outputs": [],
   "source": []
  }
 ],
 "metadata": {
  "kernelspec": {
   "display_name": "Python 3 (ipykernel)",
   "language": "python",
   "name": "python3"
  },
  "language_info": {
   "codemirror_mode": {
    "name": "ipython",
    "version": 3
   },
   "file_extension": ".py",
   "mimetype": "text/x-python",
   "name": "python",
   "nbconvert_exporter": "python",
   "pygments_lexer": "ipython3",
   "version": "3.11.7"
  },
  "widgets": {
   "application/vnd.jupyter.widget-state+json": {
    "state": {},
    "version_major": 2,
    "version_minor": 0
   }
  }
 },
 "nbformat": 4,
 "nbformat_minor": 5
}
